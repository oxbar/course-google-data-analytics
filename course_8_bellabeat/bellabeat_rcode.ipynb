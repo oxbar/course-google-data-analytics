{
 "cells": [
  {
   "cell_type": "markdown",
   "id": "0c846df1-bf81-44a6-900b-0edb86d07d9b",
   "metadata": {},
   "source": [
    "Install and load the required packages."
   ]
  },
  {
   "cell_type": "code",
   "execution_count": null,
   "id": "55a8f326-c328-4023-bb75-cbf6efc4580d",
   "metadata": {},
   "outputs": [],
   "source": [
    "install.packages(\"dplyr\")\n",
    "install.packages(\"tidyr\")\n",
    "install.packages(\"ggplot2\")\n",
    "install.packages(\"lubridate\")\n",
    "install.packages(\"readr\")\n",
    "install.packages(\"janitor\")\n",
    "install.packages(\"styler\")\n",
    "library(dplyr)\n",
    "library(tidyr)\n",
    "library(ggplot2)\n",
    "library(lubridate)\n",
    "library(readr)\n",
    "library(janitor)\n",
    "library(styler)"
   ]
  },
  {
   "cell_type": "markdown",
   "id": "9dd674d0-ac19-486f-bcee-0578dd91335c",
   "metadata": {},
   "source": [
    "Creating data frames for all the csv files:"
   ]
  },
  {
   "cell_type": "code",
   "execution_count": null,
   "id": "ac1855f7-2682-4c38-bb49-db7f23f6d897",
   "metadata": {
    "tags": []
   },
   "outputs": [],
   "source": [
    "# Creating a list of csv files in the directory\n",
    "files_csv <- list.files(path = \"bellabeat_data/\", pattern = \"*.csv\")\n",
    "\n",
    "#Creating a list of file names for the data frames\n",
    "files <- substr(files_csv,1,nchar(files_csv)-4)\n",
    "\n",
    "# Creating data frames for all the csv files:\n",
    "for(i in files){\n",
    "  filepath = file.path(paste(\"bellabeat_data/\",i,\".csv\", sep = \"\"))\n",
    "  assign(i,read_csv(filepath))\n",
    "}"
   ]
  },
  {
   "cell_type": "markdown",
   "id": "9169f3a9-cd05-4c6f-9df8-468aa501b682",
   "metadata": {},
   "source": [
    "Count the distinct IDs in each data frame to determine how many individuals there were for each data set."
   ]
  },
  {
   "cell_type": "code",
   "execution_count": 42,
   "id": "cac2f76b-9346-42f3-82bd-ef5fca4d217f",
   "metadata": {},
   "outputs": [
    {
     "data": {
      "text/html": [
       "33"
      ],
      "text/latex": [
       "33"
      ],
      "text/markdown": [
       "33"
      ],
      "text/plain": [
       "[1] 33"
      ]
     },
     "metadata": {},
     "output_type": "display_data"
    },
    {
     "data": {
      "text/html": [
       "33"
      ],
      "text/latex": [
       "33"
      ],
      "text/markdown": [
       "33"
      ],
      "text/plain": [
       "[1] 33"
      ]
     },
     "metadata": {},
     "output_type": "display_data"
    },
    {
     "data": {
      "text/html": [
       "33"
      ],
      "text/latex": [
       "33"
      ],
      "text/markdown": [
       "33"
      ],
      "text/plain": [
       "[1] 33"
      ]
     },
     "metadata": {},
     "output_type": "display_data"
    },
    {
     "data": {
      "text/html": [
       "33"
      ],
      "text/latex": [
       "33"
      ],
      "text/markdown": [
       "33"
      ],
      "text/plain": [
       "[1] 33"
      ]
     },
     "metadata": {},
     "output_type": "display_data"
    },
    {
     "data": {
      "text/html": [
       "14"
      ],
      "text/latex": [
       "14"
      ],
      "text/markdown": [
       "14"
      ],
      "text/plain": [
       "[1] 14"
      ]
     },
     "metadata": {},
     "output_type": "display_data"
    },
    {
     "data": {
      "text/html": [
       "33"
      ],
      "text/latex": [
       "33"
      ],
      "text/markdown": [
       "33"
      ],
      "text/plain": [
       "[1] 33"
      ]
     },
     "metadata": {},
     "output_type": "display_data"
    },
    {
     "data": {
      "text/html": [
       "33"
      ],
      "text/latex": [
       "33"
      ],
      "text/markdown": [
       "33"
      ],
      "text/plain": [
       "[1] 33"
      ]
     },
     "metadata": {},
     "output_type": "display_data"
    },
    {
     "data": {
      "text/html": [
       "33"
      ],
      "text/latex": [
       "33"
      ],
      "text/markdown": [
       "33"
      ],
      "text/plain": [
       "[1] 33"
      ]
     },
     "metadata": {},
     "output_type": "display_data"
    },
    {
     "data": {
      "text/html": [
       "33"
      ],
      "text/latex": [
       "33"
      ],
      "text/markdown": [
       "33"
      ],
      "text/plain": [
       "[1] 33"
      ]
     },
     "metadata": {},
     "output_type": "display_data"
    },
    {
     "data": {
      "text/html": [
       "33"
      ],
      "text/latex": [
       "33"
      ],
      "text/markdown": [
       "33"
      ],
      "text/plain": [
       "[1] 33"
      ]
     },
     "metadata": {},
     "output_type": "display_data"
    },
    {
     "data": {
      "text/html": [
       "33"
      ],
      "text/latex": [
       "33"
      ],
      "text/markdown": [
       "33"
      ],
      "text/plain": [
       "[1] 33"
      ]
     },
     "metadata": {},
     "output_type": "display_data"
    },
    {
     "data": {
      "text/html": [
       "33"
      ],
      "text/latex": [
       "33"
      ],
      "text/markdown": [
       "33"
      ],
      "text/plain": [
       "[1] 33"
      ]
     },
     "metadata": {},
     "output_type": "display_data"
    },
    {
     "data": {
      "text/html": [
       "33"
      ],
      "text/latex": [
       "33"
      ],
      "text/markdown": [
       "33"
      ],
      "text/plain": [
       "[1] 33"
      ]
     },
     "metadata": {},
     "output_type": "display_data"
    },
    {
     "data": {
      "text/html": [
       "24"
      ],
      "text/latex": [
       "24"
      ],
      "text/markdown": [
       "24"
      ],
      "text/plain": [
       "[1] 24"
      ]
     },
     "metadata": {},
     "output_type": "display_data"
    },
    {
     "data": {
      "text/html": [
       "33"
      ],
      "text/latex": [
       "33"
      ],
      "text/markdown": [
       "33"
      ],
      "text/plain": [
       "[1] 33"
      ]
     },
     "metadata": {},
     "output_type": "display_data"
    },
    {
     "data": {
      "text/html": [
       "33"
      ],
      "text/latex": [
       "33"
      ],
      "text/markdown": [
       "33"
      ],
      "text/plain": [
       "[1] 33"
      ]
     },
     "metadata": {},
     "output_type": "display_data"
    },
    {
     "data": {
      "text/html": [
       "24"
      ],
      "text/latex": [
       "24"
      ],
      "text/markdown": [
       "24"
      ],
      "text/plain": [
       "[1] 24"
      ]
     },
     "metadata": {},
     "output_type": "display_data"
    },
    {
     "data": {
      "text/html": [
       "8"
      ],
      "text/latex": [
       "8"
      ],
      "text/markdown": [
       "8"
      ],
      "text/plain": [
       "[1] 8"
      ]
     },
     "metadata": {},
     "output_type": "display_data"
    }
   ],
   "source": [
    "n_distinct(dailyActivity_merged$Id)\n",
    "n_distinct(dailyCalories_merged$Id)\n",
    "n_distinct(dailyIntensities_merged$Id)\n",
    "n_distinct(dailySteps_merged$Id)\n",
    "n_distinct(heartrate_seconds_merged$Id)\n",
    "n_distinct(hourlyCalories_merged$Id)\n",
    "n_distinct(hourlyIntensities_merged$Id)\n",
    "n_distinct(hourlySteps_merged$Id)\n",
    "n_distinct(minuteCaloriesNarrow_merged$Id)\n",
    "n_distinct(minuteCaloriesWide_merged$Id)\n",
    "n_distinct(minuteIntensitiesNarrow_merged$Id)\n",
    "n_distinct(minuteIntensitiesWide_merged$Id)\n",
    "n_distinct(minuteMETsNarrow_merged$Id)\n",
    "n_distinct(minuteSleep_merged$Id)\n",
    "n_distinct(minuteStepsNarrow_merged$Id)\n",
    "n_distinct(minuteStepsWide_merged$Id)\n",
    "n_distinct(sleepDay_merged$Id)\n",
    "n_distinct(weightLogInfo_merged$Id)"
   ]
  },
  {
   "cell_type": "markdown",
   "id": "3504dd67-0688-4d11-a66e-6e599a78f8e6",
   "metadata": {},
   "source": [
    "All data sets had 33 individuals, except for:\n",
    "- heartrate_seconds = 14\n",
    "- minuteSleep = 24\n",
    "- sleepDay = 24\n",
    "- WeightLogInfo = 8"
   ]
  },
  {
   "cell_type": "markdown",
   "id": "e50a21eb-fb7c-47de-9370-635e5e46115e",
   "metadata": {
    "tags": []
   },
   "source": [
    "## Processing the Daily Activity Data"
   ]
  },
  {
   "cell_type": "markdown",
   "id": "870b909b-869e-47a1-adf0-3b5f755fa86e",
   "metadata": {},
   "source": [
    "### Processing the Daily Activity Data:"
   ]
  },
  {
   "cell_type": "markdown",
   "id": "9c0e0c52-386f-40aa-a032-03f608b4b000",
   "metadata": {},
   "source": [
    "Determine how the data is structured.The structure of the data:"
   ]
  },
  {
   "cell_type": "code",
   "execution_count": 43,
   "id": "c4c4e9ec-a157-498c-a006-cddeea00db63",
   "metadata": {},
   "outputs": [
    {
     "name": "stdout",
     "output_type": "stream",
     "text": [
      "spc_tbl_ [940 x 15] (S3: spec_tbl_df/tbl_df/tbl/data.frame)\n",
      " $ Id                      : num [1:940] 1.5e+09 1.5e+09 1.5e+09 1.5e+09 1.5e+09 ...\n",
      " $ ActivityDate            : chr [1:940] \"4/12/2016\" \"4/13/2016\" \"4/14/2016\" \"4/15/2016\" ...\n",
      " $ TotalSteps              : num [1:940] 13162 10735 10460 9762 12669 ...\n",
      " $ TotalDistance           : num [1:940] 8.5 6.97 6.74 6.28 8.16 ...\n",
      " $ TrackerDistance         : num [1:940] 8.5 6.97 6.74 6.28 8.16 ...\n",
      " $ LoggedActivitiesDistance: num [1:940] 0 0 0 0 0 0 0 0 0 0 ...\n",
      " $ VeryActiveDistance      : num [1:940] 1.88 1.57 2.44 2.14 2.71 ...\n",
      " $ ModeratelyActiveDistance: num [1:940] 0.55 0.69 0.4 1.26 0.41 ...\n",
      " $ LightActiveDistance     : num [1:940] 6.06 4.71 3.91 2.83 5.04 ...\n",
      " $ SedentaryActiveDistance : num [1:940] 0 0 0 0 0 0 0 0 0 0 ...\n",
      " $ VeryActiveMinutes       : num [1:940] 25 21 30 29 36 38 42 50 28 19 ...\n",
      " $ FairlyActiveMinutes     : num [1:940] 13 19 11 34 10 20 16 31 12 8 ...\n",
      " $ LightlyActiveMinutes    : num [1:940] 328 217 181 209 221 164 233 264 205 211 ...\n",
      " $ SedentaryMinutes        : num [1:940] 728 776 1218 726 773 ...\n",
      " $ Calories                : num [1:940] 1985 1797 1776 1745 1863 ...\n",
      " - attr(*, \"spec\")=\n",
      "  .. cols(\n",
      "  ..   Id = \u001b[32mcol_double()\u001b[39m,\n",
      "  ..   ActivityDate = \u001b[31mcol_character()\u001b[39m,\n",
      "  ..   TotalSteps = \u001b[32mcol_double()\u001b[39m,\n",
      "  ..   TotalDistance = \u001b[32mcol_double()\u001b[39m,\n",
      "  ..   TrackerDistance = \u001b[32mcol_double()\u001b[39m,\n",
      "  ..   LoggedActivitiesDistance = \u001b[32mcol_double()\u001b[39m,\n",
      "  ..   VeryActiveDistance = \u001b[32mcol_double()\u001b[39m,\n",
      "  ..   ModeratelyActiveDistance = \u001b[32mcol_double()\u001b[39m,\n",
      "  ..   LightActiveDistance = \u001b[32mcol_double()\u001b[39m,\n",
      "  ..   SedentaryActiveDistance = \u001b[32mcol_double()\u001b[39m,\n",
      "  ..   VeryActiveMinutes = \u001b[32mcol_double()\u001b[39m,\n",
      "  ..   FairlyActiveMinutes = \u001b[32mcol_double()\u001b[39m,\n",
      "  ..   LightlyActiveMinutes = \u001b[32mcol_double()\u001b[39m,\n",
      "  ..   SedentaryMinutes = \u001b[32mcol_double()\u001b[39m,\n",
      "  ..   Calories = \u001b[32mcol_double()\u001b[39m\n",
      "  .. )\n",
      " - attr(*, \"problems\")=<externalptr> \n"
     ]
    }
   ],
   "source": [
    "str(dailyActivity_merged)"
   ]
  },
  {
   "cell_type": "markdown",
   "id": "ee916b18-bd40-4ae4-af2d-8f80b89bc88b",
   "metadata": {},
   "source": [
    "Check for NA values and duplicate rows."
   ]
  },
  {
   "cell_type": "code",
   "execution_count": 44,
   "id": "bb624d7c-defb-4d56-8710-2ebc12572d1f",
   "metadata": {},
   "outputs": [
    {
     "data": {
      "text/html": [
       "0"
      ],
      "text/latex": [
       "0"
      ],
      "text/markdown": [
       "0"
      ],
      "text/plain": [
       "[1] 0"
      ]
     },
     "metadata": {},
     "output_type": "display_data"
    },
    {
     "data": {
      "text/html": [
       "0"
      ],
      "text/latex": [
       "0"
      ],
      "text/markdown": [
       "0"
      ],
      "text/plain": [
       "[1] 0"
      ]
     },
     "metadata": {},
     "output_type": "display_data"
    }
   ],
   "source": [
    "sum(is.na(dailyActivity_merged))\n",
    "sum(duplicated(dailyActivity_merged))"
   ]
  },
  {
   "cell_type": "markdown",
   "id": "e164556e-3b5a-47c7-a696-307b014fd543",
   "metadata": {},
   "source": [
    "Clean the column names."
   ]
  },
  {
   "cell_type": "code",
   "execution_count": 45,
   "id": "efa303a4-28a7-4137-bfbb-44afe1b4e31a",
   "metadata": {},
   "outputs": [
    {
     "name": "stdout",
     "output_type": "stream",
     "text": [
      "Rows: 940\n",
      "Columns: 15\n",
      "$ id                         \u001b[3m\u001b[90m<dbl>\u001b[39m\u001b[23m 1503960366, 1503960366, 1503960366, 1503960~\n",
      "$ activity_date              \u001b[3m\u001b[90m<chr>\u001b[39m\u001b[23m \"4/12/2016\", \"4/13/2016\", \"4/14/2016\", \"4/1~\n",
      "$ total_steps                \u001b[3m\u001b[90m<dbl>\u001b[39m\u001b[23m 13162, 10735, 10460, 9762, 12669, 9705, 130~\n",
      "$ total_distance             \u001b[3m\u001b[90m<dbl>\u001b[39m\u001b[23m 8.50, 6.97, 6.74, 6.28, 8.16, 6.48, 8.59, 9~\n",
      "$ tracker_distance           \u001b[3m\u001b[90m<dbl>\u001b[39m\u001b[23m 8.50, 6.97, 6.74, 6.28, 8.16, 6.48, 8.59, 9~\n",
      "$ logged_activities_distance \u001b[3m\u001b[90m<dbl>\u001b[39m\u001b[23m 0, 0, 0, 0, 0, 0, 0, 0, 0, 0, 0, 0, 0, 0, 0~\n",
      "$ very_active_distance       \u001b[3m\u001b[90m<dbl>\u001b[39m\u001b[23m 1.88, 1.57, 2.44, 2.14, 2.71, 3.19, 3.25, 3~\n",
      "$ moderately_active_distance \u001b[3m\u001b[90m<dbl>\u001b[39m\u001b[23m 0.55, 0.69, 0.40, 1.26, 0.41, 0.78, 0.64, 1~\n",
      "$ light_active_distance      \u001b[3m\u001b[90m<dbl>\u001b[39m\u001b[23m 6.06, 4.71, 3.91, 2.83, 5.04, 2.51, 4.71, 5~\n",
      "$ sedentary_active_distance  \u001b[3m\u001b[90m<dbl>\u001b[39m\u001b[23m 0, 0, 0, 0, 0, 0, 0, 0, 0, 0, 0, 0, 0, 0, 0~\n",
      "$ very_active_minutes        \u001b[3m\u001b[90m<dbl>\u001b[39m\u001b[23m 25, 21, 30, 29, 36, 38, 42, 50, 28, 19, 66,~\n",
      "$ fairly_active_minutes      \u001b[3m\u001b[90m<dbl>\u001b[39m\u001b[23m 13, 19, 11, 34, 10, 20, 16, 31, 12, 8, 27, ~\n",
      "$ lightly_active_minutes     \u001b[3m\u001b[90m<dbl>\u001b[39m\u001b[23m 328, 217, 181, 209, 221, 164, 233, 264, 205~\n",
      "$ sedentary_minutes          \u001b[3m\u001b[90m<dbl>\u001b[39m\u001b[23m 728, 776, 1218, 726, 773, 539, 1149, 775, 8~\n",
      "$ calories                   \u001b[3m\u001b[90m<dbl>\u001b[39m\u001b[23m 1985, 1797, 1776, 1745, 1863, 1728, 1921, 2~\n"
     ]
    }
   ],
   "source": [
    "dailyActivity_merged <- clean_names(dailyActivity_merged)\n",
    "glimpse(dailyActivity_merged)"
   ]
  },
  {
   "cell_type": "markdown",
   "id": "675ab50f-3538-4a62-9eae-f771730e9489",
   "metadata": {},
   "source": [
    "Add a new date column in appropriate format, column for day of the week (with Monday being designated as the first day) and an \"id_and_date\" to use as reference for joins later."
   ]
  },
  {
   "cell_type": "code",
   "execution_count": 46,
   "id": "58f8c921-f289-4eea-8063-f44493efbf4c",
   "metadata": {},
   "outputs": [
    {
     "name": "stdout",
     "output_type": "stream",
     "text": [
      "tibble [940 x 18] (S3: tbl_df/tbl/data.frame)\n",
      " $ id                        : num [1:940] 1.5e+09 1.5e+09 1.5e+09 1.5e+09 1.5e+09 ...\n",
      " $ activity_date             : chr [1:940] \"4/12/2016\" \"4/13/2016\" \"4/14/2016\" \"4/15/2016\" ...\n",
      " $ total_steps               : num [1:940] 13162 10735 10460 9762 12669 ...\n",
      " $ total_distance            : num [1:940] 8.5 6.97 6.74 6.28 8.16 ...\n",
      " $ tracker_distance          : num [1:940] 8.5 6.97 6.74 6.28 8.16 ...\n",
      " $ logged_activities_distance: num [1:940] 0 0 0 0 0 0 0 0 0 0 ...\n",
      " $ very_active_distance      : num [1:940] 1.88 1.57 2.44 2.14 2.71 ...\n",
      " $ moderately_active_distance: num [1:940] 0.55 0.69 0.4 1.26 0.41 ...\n",
      " $ light_active_distance     : num [1:940] 6.06 4.71 3.91 2.83 5.04 ...\n",
      " $ sedentary_active_distance : num [1:940] 0 0 0 0 0 0 0 0 0 0 ...\n",
      " $ very_active_minutes       : num [1:940] 25 21 30 29 36 38 42 50 28 19 ...\n",
      " $ fairly_active_minutes     : num [1:940] 13 19 11 34 10 20 16 31 12 8 ...\n",
      " $ lightly_active_minutes    : num [1:940] 328 217 181 209 221 164 233 264 205 211 ...\n",
      " $ sedentary_minutes         : num [1:940] 728 776 1218 726 773 ...\n",
      " $ calories                  : num [1:940] 1985 1797 1776 1745 1863 ...\n",
      " $ new_date                  : Date[1:940], format: \"2020-04-12\" \"2020-04-13\" ...\n",
      " $ week_day                  : Ord.factor w/ 7 levels \"Mon\"<\"Tue\"<\"Wed\"<..: 7 1 2 3 4 5 6 7 1 2 ...\n",
      " $ id_and_date               : chr [1:940] \"1503960366_and_2020-04-12\" \"1503960366_and_2020-04-13\" \"1503960366_and_2020-04-14\" \"1503960366_and_2020-04-15\" ...\n"
     ]
    }
   ],
   "source": [
    "dailyActivity_merged <- dailyActivity_merged %>%\n",
    "  mutate(\n",
    "    new_date = as.Date(activity_date,\"%m/%d/%y\"),\n",
    "    week_day = wday(new_date,label=TRUE,week_start=1),\n",
    "    id_and_date = paste0(id,\"_and_\",new_date)\n",
    "  )\n",
    "str(dailyActivity_merged)"
   ]
  },
  {
   "cell_type": "markdown",
   "id": "e2d48ec1-c5cc-4441-9dc9-7b3b2b246f24",
   "metadata": {},
   "source": [
    "## Processing the Daily Sleep Data"
   ]
  },
  {
   "cell_type": "markdown",
   "id": "98c602fc-c39c-4347-ac47-c0aacfb68746",
   "metadata": {},
   "source": [
    "Determine how the data is structured."
   ]
  },
  {
   "cell_type": "code",
   "execution_count": 47,
   "id": "0892f330-4054-4139-8dfa-27270e13bea0",
   "metadata": {},
   "outputs": [
    {
     "name": "stdout",
     "output_type": "stream",
     "text": [
      "spc_tbl_ [413 x 5] (S3: spec_tbl_df/tbl_df/tbl/data.frame)\n",
      " $ Id                : num [1:413] 1.5e+09 1.5e+09 1.5e+09 1.5e+09 1.5e+09 ...\n",
      " $ SleepDay          : chr [1:413] \"4/12/2016 12:00:00 AM\" \"4/13/2016 12:00:00 AM\" \"4/15/2016 12:00:00 AM\" \"4/16/2016 12:00:00 AM\" ...\n",
      " $ TotalSleepRecords : num [1:413] 1 2 1 2 1 1 1 1 1 1 ...\n",
      " $ TotalMinutesAsleep: num [1:413] 327 384 412 340 700 304 360 325 361 430 ...\n",
      " $ TotalTimeInBed    : num [1:413] 346 407 442 367 712 320 377 364 384 449 ...\n",
      " - attr(*, \"spec\")=\n",
      "  .. cols(\n",
      "  ..   Id = \u001b[32mcol_double()\u001b[39m,\n",
      "  ..   SleepDay = \u001b[31mcol_character()\u001b[39m,\n",
      "  ..   TotalSleepRecords = \u001b[32mcol_double()\u001b[39m,\n",
      "  ..   TotalMinutesAsleep = \u001b[32mcol_double()\u001b[39m,\n",
      "  ..   TotalTimeInBed = \u001b[32mcol_double()\u001b[39m\n",
      "  .. )\n",
      " - attr(*, \"problems\")=<externalptr> \n"
     ]
    }
   ],
   "source": [
    "str(sleepDay_merged)"
   ]
  },
  {
   "cell_type": "markdown",
   "id": "40b0a3f5-e234-40d8-96c9-abf5eee3eed6",
   "metadata": {},
   "source": [
    "Check for NA values and duplicate rows."
   ]
  },
  {
   "cell_type": "code",
   "execution_count": 48,
   "id": "a68f37d7-afb2-42f5-bb01-daf90a87400c",
   "metadata": {},
   "outputs": [
    {
     "data": {
      "text/html": [
       "0"
      ],
      "text/latex": [
       "0"
      ],
      "text/markdown": [
       "0"
      ],
      "text/plain": [
       "[1] 0"
      ]
     },
     "metadata": {},
     "output_type": "display_data"
    },
    {
     "data": {
      "text/html": [
       "3"
      ],
      "text/latex": [
       "3"
      ],
      "text/markdown": [
       "3"
      ],
      "text/plain": [
       "[1] 3"
      ]
     },
     "metadata": {},
     "output_type": "display_data"
    }
   ],
   "source": [
    "sum(is.na(sleepDay_merged))\n",
    "sum(duplicated(sleepDay_merged))"
   ]
  },
  {
   "cell_type": "markdown",
   "id": "241e09cc-1f36-497f-9413-c7005ec42c43",
   "metadata": {},
   "source": [
    "Remove duplicates."
   ]
  },
  {
   "cell_type": "code",
   "execution_count": 49,
   "id": "d926d2a4-107e-4f68-9b9c-7f9b0e92ab73",
   "metadata": {},
   "outputs": [
    {
     "data": {
      "text/html": [
       "0"
      ],
      "text/latex": [
       "0"
      ],
      "text/markdown": [
       "0"
      ],
      "text/plain": [
       "[1] 0"
      ]
     },
     "metadata": {},
     "output_type": "display_data"
    }
   ],
   "source": [
    "sleepDay_merged <- sleepDay_merged[!duplicated(sleepDay_merged),]\n",
    "sum(duplicated(sleepDay_merged))"
   ]
  },
  {
   "cell_type": "markdown",
   "id": "047758bf-4d7d-4fad-9cac-04f094eccb6a",
   "metadata": {},
   "source": [
    "Clean the column names."
   ]
  },
  {
   "cell_type": "code",
   "execution_count": 50,
   "id": "03c07fcd-e057-4f60-8dda-fe98a1948591",
   "metadata": {},
   "outputs": [
    {
     "name": "stdout",
     "output_type": "stream",
     "text": [
      "tibble [410 x 5] (S3: tbl_df/tbl/data.frame)\n",
      " $ id                  : num [1:410] 1.5e+09 1.5e+09 1.5e+09 1.5e+09 1.5e+09 ...\n",
      " $ sleep_day           : chr [1:410] \"4/12/2016 12:00:00 AM\" \"4/13/2016 12:00:00 AM\" \"4/15/2016 12:00:00 AM\" \"4/16/2016 12:00:00 AM\" ...\n",
      " $ total_sleep_records : num [1:410] 1 2 1 2 1 1 1 1 1 1 ...\n",
      " $ total_minutes_asleep: num [1:410] 327 384 412 340 700 304 360 325 361 430 ...\n",
      " $ total_time_in_bed   : num [1:410] 346 407 442 367 712 320 377 364 384 449 ...\n"
     ]
    }
   ],
   "source": [
    "sleepDay_merged <- clean_names(sleepDay_merged)\n",
    "str(sleepDay_merged)"
   ]
  },
  {
   "cell_type": "markdown",
   "id": "944d180c-1f7c-4697-bc96-46b670f62f9b",
   "metadata": {},
   "source": [
    "Add a new column for time awake in bed, a new date column in appropriate format, column for day of the week (with Monday being designated as the first day) and an \"id_and_date\" to use as reference for joins later."
   ]
  },
  {
   "cell_type": "code",
   "execution_count": 51,
   "id": "01b9bd5b-4fab-4dd6-8ae3-abeb6d76b5ef",
   "metadata": {},
   "outputs": [
    {
     "name": "stdout",
     "output_type": "stream",
     "text": [
      "tibble [410 x 9] (S3: tbl_df/tbl/data.frame)\n",
      " $ id                  : num [1:410] 1.5e+09 1.5e+09 1.5e+09 1.5e+09 1.5e+09 ...\n",
      " $ sleep_day           : chr [1:410] \"4/12/2016 12:00:00 AM\" \"4/13/2016 12:00:00 AM\" \"4/15/2016 12:00:00 AM\" \"4/16/2016 12:00:00 AM\" ...\n",
      " $ total_sleep_records : num [1:410] 1 2 1 2 1 1 1 1 1 1 ...\n",
      " $ total_minutes_asleep: num [1:410] 327 384 412 340 700 304 360 325 361 430 ...\n",
      " $ total_time_in_bed   : num [1:410] 346 407 442 367 712 320 377 364 384 449 ...\n",
      " $ time_awake_in_bed   : num [1:410] 19 23 30 27 12 16 17 39 23 19 ...\n",
      " $ new_date            : Date[1:410], format: \"2020-04-12\" \"2020-04-13\" ...\n",
      " $ week_day            : Ord.factor w/ 7 levels \"Mon\"<\"Tue\"<\"Wed\"<..: 7 1 3 4 5 7 1 2 4 5 ...\n",
      " $ id_and_date         : chr [1:410] \"1503960366_and_2020-04-12\" \"1503960366_and_2020-04-13\" \"1503960366_and_2020-04-15\" \"1503960366_and_2020-04-16\" ...\n"
     ]
    }
   ],
   "source": [
    "sleepDay_merged <- sleepDay_merged %>%\n",
    "  mutate(\n",
    "    time_awake_in_bed = total_time_in_bed - total_minutes_asleep,\n",
    "    new_date = as.Date(sleep_day,\"%m/%d/%y\"),\n",
    "    week_day = wday(new_date,label=TRUE,week_start=1),\n",
    "    id_and_date = paste0(id,\"_and_\",new_date)\n",
    "  )\n",
    "str(sleepDay_merged)"
   ]
  },
  {
   "cell_type": "markdown",
   "id": "0357fb79-9332-40c3-b14a-ecd197067c0a",
   "metadata": {},
   "source": [
    "## Processing the Daily Weight Data"
   ]
  },
  {
   "cell_type": "markdown",
   "id": "605b5eae-282a-4af1-9917-be16bbe65235",
   "metadata": {},
   "source": [
    "Determine how the data is structured."
   ]
  },
  {
   "cell_type": "code",
   "execution_count": 52,
   "id": "84a57915-29f9-4157-b521-979078161352",
   "metadata": {},
   "outputs": [
    {
     "name": "stdout",
     "output_type": "stream",
     "text": [
      "spc_tbl_ [67 x 8] (S3: spec_tbl_df/tbl_df/tbl/data.frame)\n",
      " $ Id            : num [1:67] 1.50e+09 1.50e+09 1.93e+09 2.87e+09 2.87e+09 ...\n",
      " $ Date          : chr [1:67] \"5/2/2016 11:59:59 PM\" \"5/3/2016 11:59:59 PM\" \"4/13/2016 1:08:52 AM\" \"4/21/2016 11:59:59 PM\" ...\n",
      " $ WeightKg      : num [1:67] 52.6 52.6 133.5 56.7 57.3 ...\n",
      " $ WeightPounds  : num [1:67] 116 116 294 125 126 ...\n",
      " $ Fat           : num [1:67] 22 NA NA NA NA 25 NA NA NA NA ...\n",
      " $ BMI           : num [1:67] 22.6 22.6 47.5 21.5 21.7 ...\n",
      " $ IsManualReport: logi [1:67] TRUE TRUE FALSE TRUE TRUE TRUE ...\n",
      " $ LogId         : num [1:67] 1.46e+12 1.46e+12 1.46e+12 1.46e+12 1.46e+12 ...\n",
      " - attr(*, \"spec\")=\n",
      "  .. cols(\n",
      "  ..   Id = \u001b[32mcol_double()\u001b[39m,\n",
      "  ..   Date = \u001b[31mcol_character()\u001b[39m,\n",
      "  ..   WeightKg = \u001b[32mcol_double()\u001b[39m,\n",
      "  ..   WeightPounds = \u001b[32mcol_double()\u001b[39m,\n",
      "  ..   Fat = \u001b[32mcol_double()\u001b[39m,\n",
      "  ..   BMI = \u001b[32mcol_double()\u001b[39m,\n",
      "  ..   IsManualReport = \u001b[33mcol_logical()\u001b[39m,\n",
      "  ..   LogId = \u001b[32mcol_double()\u001b[39m\n",
      "  .. )\n",
      " - attr(*, \"problems\")=<externalptr> \n"
     ]
    }
   ],
   "source": [
    "str(weightLogInfo_merged)"
   ]
  },
  {
   "cell_type": "markdown",
   "id": "883636bd-accc-4b6b-8852-718d923ac6de",
   "metadata": {},
   "source": [
    "Check for NA values and duplicate rows."
   ]
  },
  {
   "cell_type": "code",
   "execution_count": 53,
   "id": "40c1b88d-79e0-4f48-98e8-18c0577207e2",
   "metadata": {},
   "outputs": [
    {
     "data": {
      "text/html": [
       "65"
      ],
      "text/latex": [
       "65"
      ],
      "text/markdown": [
       "65"
      ],
      "text/plain": [
       "[1] 65"
      ]
     },
     "metadata": {},
     "output_type": "display_data"
    },
    {
     "data": {
      "text/html": [
       "0"
      ],
      "text/latex": [
       "0"
      ],
      "text/markdown": [
       "0"
      ],
      "text/plain": [
       "[1] 0"
      ]
     },
     "metadata": {},
     "output_type": "display_data"
    }
   ],
   "source": [
    "sum(is.na(weightLogInfo_merged))\n",
    "sum(duplicated(weightLogInfo_merged))"
   ]
  },
  {
   "cell_type": "markdown",
   "id": "3f97ea09-bb3e-4c67-8b8a-e68b9a89302f",
   "metadata": {},
   "source": [
    "NA values exist - double check what they actually are."
   ]
  },
  {
   "cell_type": "code",
   "execution_count": 54,
   "id": "9f0546f3-24ea-475c-aad3-526e90f406a8",
   "metadata": {},
   "outputs": [
    {
     "data": {
      "text/html": [
       "<table class=\"dataframe\">\n",
       "<caption>A tibble: 6 × 8</caption>\n",
       "<thead>\n",
       "\t<tr><th scope=col>Id</th><th scope=col>Date</th><th scope=col>WeightKg</th><th scope=col>WeightPounds</th><th scope=col>Fat</th><th scope=col>BMI</th><th scope=col>IsManualReport</th><th scope=col>LogId</th></tr>\n",
       "\t<tr><th scope=col>&lt;dbl&gt;</th><th scope=col>&lt;chr&gt;</th><th scope=col>&lt;dbl&gt;</th><th scope=col>&lt;dbl&gt;</th><th scope=col>&lt;dbl&gt;</th><th scope=col>&lt;dbl&gt;</th><th scope=col>&lt;lgl&gt;</th><th scope=col>&lt;dbl&gt;</th></tr>\n",
       "</thead>\n",
       "<tbody>\n",
       "\t<tr><td>1503960366</td><td>5/2/2016 11:59:59 PM </td><td> 52.6</td><td>115.9631</td><td>22</td><td>22.65</td><td> TRUE</td><td>1.462234e+12</td></tr>\n",
       "\t<tr><td>1503960366</td><td>5/3/2016 11:59:59 PM </td><td> 52.6</td><td>115.9631</td><td>NA</td><td>22.65</td><td> TRUE</td><td>1.462320e+12</td></tr>\n",
       "\t<tr><td>1927972279</td><td>4/13/2016 1:08:52 AM </td><td>133.5</td><td>294.3171</td><td>NA</td><td>47.54</td><td>FALSE</td><td>1.460510e+12</td></tr>\n",
       "\t<tr><td>2873212765</td><td>4/21/2016 11:59:59 PM</td><td> 56.7</td><td>125.0021</td><td>NA</td><td>21.45</td><td> TRUE</td><td>1.461283e+12</td></tr>\n",
       "\t<tr><td>2873212765</td><td>5/12/2016 11:59:59 PM</td><td> 57.3</td><td>126.3249</td><td>NA</td><td>21.69</td><td> TRUE</td><td>1.463098e+12</td></tr>\n",
       "\t<tr><td>4319703577</td><td>4/17/2016 11:59:59 PM</td><td> 72.4</td><td>159.6147</td><td>25</td><td>27.45</td><td> TRUE</td><td>1.460938e+12</td></tr>\n",
       "</tbody>\n",
       "</table>\n"
      ],
      "text/latex": [
       "A tibble: 6 × 8\n",
       "\\begin{tabular}{llllllll}\n",
       " Id & Date & WeightKg & WeightPounds & Fat & BMI & IsManualReport & LogId\\\\\n",
       " <dbl> & <chr> & <dbl> & <dbl> & <dbl> & <dbl> & <lgl> & <dbl>\\\\\n",
       "\\hline\n",
       "\t 1503960366 & 5/2/2016 11:59:59 PM  &  52.6 & 115.9631 & 22 & 22.65 &  TRUE & 1.462234e+12\\\\\n",
       "\t 1503960366 & 5/3/2016 11:59:59 PM  &  52.6 & 115.9631 & NA & 22.65 &  TRUE & 1.462320e+12\\\\\n",
       "\t 1927972279 & 4/13/2016 1:08:52 AM  & 133.5 & 294.3171 & NA & 47.54 & FALSE & 1.460510e+12\\\\\n",
       "\t 2873212765 & 4/21/2016 11:59:59 PM &  56.7 & 125.0021 & NA & 21.45 &  TRUE & 1.461283e+12\\\\\n",
       "\t 2873212765 & 5/12/2016 11:59:59 PM &  57.3 & 126.3249 & NA & 21.69 &  TRUE & 1.463098e+12\\\\\n",
       "\t 4319703577 & 4/17/2016 11:59:59 PM &  72.4 & 159.6147 & 25 & 27.45 &  TRUE & 1.460938e+12\\\\\n",
       "\\end{tabular}\n"
      ],
      "text/markdown": [
       "\n",
       "A tibble: 6 × 8\n",
       "\n",
       "| Id &lt;dbl&gt; | Date &lt;chr&gt; | WeightKg &lt;dbl&gt; | WeightPounds &lt;dbl&gt; | Fat &lt;dbl&gt; | BMI &lt;dbl&gt; | IsManualReport &lt;lgl&gt; | LogId &lt;dbl&gt; |\n",
       "|---|---|---|---|---|---|---|---|\n",
       "| 1503960366 | 5/2/2016 11:59:59 PM  |  52.6 | 115.9631 | 22 | 22.65 |  TRUE | 1.462234e+12 |\n",
       "| 1503960366 | 5/3/2016 11:59:59 PM  |  52.6 | 115.9631 | NA | 22.65 |  TRUE | 1.462320e+12 |\n",
       "| 1927972279 | 4/13/2016 1:08:52 AM  | 133.5 | 294.3171 | NA | 47.54 | FALSE | 1.460510e+12 |\n",
       "| 2873212765 | 4/21/2016 11:59:59 PM |  56.7 | 125.0021 | NA | 21.45 |  TRUE | 1.461283e+12 |\n",
       "| 2873212765 | 5/12/2016 11:59:59 PM |  57.3 | 126.3249 | NA | 21.69 |  TRUE | 1.463098e+12 |\n",
       "| 4319703577 | 4/17/2016 11:59:59 PM |  72.4 | 159.6147 | 25 | 27.45 |  TRUE | 1.460938e+12 |\n",
       "\n"
      ],
      "text/plain": [
       "  Id         Date                  WeightKg WeightPounds Fat BMI  \n",
       "1 1503960366 5/2/2016 11:59:59 PM   52.6    115.9631     22  22.65\n",
       "2 1503960366 5/3/2016 11:59:59 PM   52.6    115.9631     NA  22.65\n",
       "3 1927972279 4/13/2016 1:08:52 AM  133.5    294.3171     NA  47.54\n",
       "4 2873212765 4/21/2016 11:59:59 PM  56.7    125.0021     NA  21.45\n",
       "5 2873212765 5/12/2016 11:59:59 PM  57.3    126.3249     NA  21.69\n",
       "6 4319703577 4/17/2016 11:59:59 PM  72.4    159.6147     25  27.45\n",
       "  IsManualReport LogId       \n",
       "1  TRUE          1.462234e+12\n",
       "2  TRUE          1.462320e+12\n",
       "3 FALSE          1.460510e+12\n",
       "4  TRUE          1.461283e+12\n",
       "5  TRUE          1.463098e+12\n",
       "6  TRUE          1.460938e+12"
      ]
     },
     "metadata": {},
     "output_type": "display_data"
    }
   ],
   "source": [
    "head(weightLogInfo_merged)"
   ]
  },
  {
   "cell_type": "markdown",
   "id": "a88aa15e-fc06-4c45-b11b-564f44ce2988",
   "metadata": {},
   "source": [
    "They are just 'Fat' records that weren't put in, but other daily data exists for these dates and, if we need, we can filter out these NA vales if we analyse Fat data.\n",
    "\n",
    "Clean the column names."
   ]
  },
  {
   "cell_type": "code",
   "execution_count": 55,
   "id": "135d4f23-92a0-41ab-9084-1d5af4bc2201",
   "metadata": {},
   "outputs": [
    {
     "name": "stdout",
     "output_type": "stream",
     "text": [
      "spc_tbl_ [67 x 8] (S3: spec_tbl_df/tbl_df/tbl/data.frame)\n",
      " $ id              : num [1:67] 1.50e+09 1.50e+09 1.93e+09 2.87e+09 2.87e+09 ...\n",
      " $ date            : chr [1:67] \"5/2/2016 11:59:59 PM\" \"5/3/2016 11:59:59 PM\" \"4/13/2016 1:08:52 AM\" \"4/21/2016 11:59:59 PM\" ...\n",
      " $ weight_kg       : num [1:67] 52.6 52.6 133.5 56.7 57.3 ...\n",
      " $ weight_pounds   : num [1:67] 116 116 294 125 126 ...\n",
      " $ fat             : num [1:67] 22 NA NA NA NA 25 NA NA NA NA ...\n",
      " $ bmi             : num [1:67] 22.6 22.6 47.5 21.5 21.7 ...\n",
      " $ is_manual_report: logi [1:67] TRUE TRUE FALSE TRUE TRUE TRUE ...\n",
      " $ log_id          : num [1:67] 1.46e+12 1.46e+12 1.46e+12 1.46e+12 1.46e+12 ...\n",
      " - attr(*, \"spec\")=\n",
      "  .. cols(\n",
      "  ..   Id = \u001b[32mcol_double()\u001b[39m,\n",
      "  ..   Date = \u001b[31mcol_character()\u001b[39m,\n",
      "  ..   WeightKg = \u001b[32mcol_double()\u001b[39m,\n",
      "  ..   WeightPounds = \u001b[32mcol_double()\u001b[39m,\n",
      "  ..   Fat = \u001b[32mcol_double()\u001b[39m,\n",
      "  ..   BMI = \u001b[32mcol_double()\u001b[39m,\n",
      "  ..   IsManualReport = \u001b[33mcol_logical()\u001b[39m,\n",
      "  ..   LogId = \u001b[32mcol_double()\u001b[39m\n",
      "  .. )\n",
      " - attr(*, \"problems\")=<externalptr> \n"
     ]
    }
   ],
   "source": [
    "weightLogInfo_merged <- clean_names(weightLogInfo_merged)\n",
    "str(weightLogInfo_merged)"
   ]
  },
  {
   "cell_type": "markdown",
   "id": "2217cc62-f34d-4eee-ba37-08717b62beea",
   "metadata": {},
   "source": [
    "Add a new date column in appropriate format, column for day of the week and an \"id_and_date\" to use as reference for joins later."
   ]
  },
  {
   "cell_type": "code",
   "execution_count": 56,
   "id": "4d37b3c8-b6cd-43fe-91e4-efc3bb18af1f",
   "metadata": {},
   "outputs": [
    {
     "name": "stdout",
     "output_type": "stream",
     "text": [
      "tibble [67 x 11] (S3: tbl_df/tbl/data.frame)\n",
      " $ id              : num [1:67] 1.50e+09 1.50e+09 1.93e+09 2.87e+09 2.87e+09 ...\n",
      " $ date            : chr [1:67] \"5/2/2016 11:59:59 PM\" \"5/3/2016 11:59:59 PM\" \"4/13/2016 1:08:52 AM\" \"4/21/2016 11:59:59 PM\" ...\n",
      " $ weight_kg       : num [1:67] 52.6 52.6 133.5 56.7 57.3 ...\n",
      " $ weight_pounds   : num [1:67] 116 116 294 125 126 ...\n",
      " $ fat             : num [1:67] 22 NA NA NA NA 25 NA NA NA NA ...\n",
      " $ bmi             : num [1:67] 22.6 22.6 47.5 21.5 21.7 ...\n",
      " $ is_manual_report: logi [1:67] TRUE TRUE FALSE TRUE TRUE TRUE ...\n",
      " $ log_id          : num [1:67] 1.46e+12 1.46e+12 1.46e+12 1.46e+12 1.46e+12 ...\n",
      " $ new_date        : Date[1:67], format: \"2020-05-02\" \"2020-05-03\" ...\n",
      " $ week_day        : Ord.factor w/ 7 levels \"Mon\"<\"Tue\"<\"Wed\"<..: 6 7 1 2 2 5 1 6 6 5 ...\n",
      " $ id_and_date     : chr [1:67] \"1503960366_and_2020-05-02\" \"1503960366_and_2020-05-03\" \"1927972279_and_2020-04-13\" \"2873212765_and_2020-04-21\" ...\n"
     ]
    }
   ],
   "source": [
    "weightLogInfo_merged <- weightLogInfo_merged %>%\n",
    "  mutate(\n",
    "    new_date = as.Date(date,\"%m/%d/%y\"),\n",
    "    week_day = wday(new_date,label=TRUE,week_start=1),\n",
    "    id_and_date = paste0(id,\"_and_\",new_date)\n",
    "  )\n",
    "str(weightLogInfo_merged)"
   ]
  },
  {
   "cell_type": "markdown",
   "id": "18c837ae-c05f-4252-b1f5-6b3dac7126f7",
   "metadata": {},
   "source": [
    "## Creating temp tables for joining"
   ]
  },
  {
   "cell_type": "markdown",
   "id": "5851443a-9c25-49db-8115-f3e00f7e1a9d",
   "metadata": {},
   "source": [
    "Daily Activity Data:"
   ]
  },
  {
   "cell_type": "code",
   "execution_count": 57,
   "id": "1f9b5d64-76bb-400d-8a6d-62a9d004e20a",
   "metadata": {},
   "outputs": [
    {
     "data": {
      "text/html": [
       "<style>\n",
       ".list-inline {list-style: none; margin:0; padding: 0}\n",
       ".list-inline>li {display: inline-block}\n",
       ".list-inline>li:not(:last-child)::after {content: \"\\00b7\"; padding: 0 .5ex}\n",
       "</style>\n",
       "<ol class=list-inline><li>'id'</li><li>'activity_date'</li><li>'total_steps'</li><li>'total_distance'</li><li>'tracker_distance'</li><li>'logged_activities_distance'</li><li>'very_active_distance'</li><li>'moderately_active_distance'</li><li>'light_active_distance'</li><li>'sedentary_active_distance'</li><li>'very_active_minutes'</li><li>'fairly_active_minutes'</li><li>'lightly_active_minutes'</li><li>'sedentary_minutes'</li><li>'calories'</li><li>'new_date'</li><li>'week_day'</li><li>'id_and_date'</li></ol>\n"
      ],
      "text/latex": [
       "\\begin{enumerate*}\n",
       "\\item 'id'\n",
       "\\item 'activity\\_date'\n",
       "\\item 'total\\_steps'\n",
       "\\item 'total\\_distance'\n",
       "\\item 'tracker\\_distance'\n",
       "\\item 'logged\\_activities\\_distance'\n",
       "\\item 'very\\_active\\_distance'\n",
       "\\item 'moderately\\_active\\_distance'\n",
       "\\item 'light\\_active\\_distance'\n",
       "\\item 'sedentary\\_active\\_distance'\n",
       "\\item 'very\\_active\\_minutes'\n",
       "\\item 'fairly\\_active\\_minutes'\n",
       "\\item 'lightly\\_active\\_minutes'\n",
       "\\item 'sedentary\\_minutes'\n",
       "\\item 'calories'\n",
       "\\item 'new\\_date'\n",
       "\\item 'week\\_day'\n",
       "\\item 'id\\_and\\_date'\n",
       "\\end{enumerate*}\n"
      ],
      "text/markdown": [
       "1. 'id'\n",
       "2. 'activity_date'\n",
       "3. 'total_steps'\n",
       "4. 'total_distance'\n",
       "5. 'tracker_distance'\n",
       "6. 'logged_activities_distance'\n",
       "7. 'very_active_distance'\n",
       "8. 'moderately_active_distance'\n",
       "9. 'light_active_distance'\n",
       "10. 'sedentary_active_distance'\n",
       "11. 'very_active_minutes'\n",
       "12. 'fairly_active_minutes'\n",
       "13. 'lightly_active_minutes'\n",
       "14. 'sedentary_minutes'\n",
       "15. 'calories'\n",
       "16. 'new_date'\n",
       "17. 'week_day'\n",
       "18. 'id_and_date'\n",
       "\n",
       "\n"
      ],
      "text/plain": [
       " [1] \"id\"                         \"activity_date\"             \n",
       " [3] \"total_steps\"                \"total_distance\"            \n",
       " [5] \"tracker_distance\"           \"logged_activities_distance\"\n",
       " [7] \"very_active_distance\"       \"moderately_active_distance\"\n",
       " [9] \"light_active_distance\"      \"sedentary_active_distance\" \n",
       "[11] \"very_active_minutes\"        \"fairly_active_minutes\"     \n",
       "[13] \"lightly_active_minutes\"     \"sedentary_minutes\"         \n",
       "[15] \"calories\"                   \"new_date\"                  \n",
       "[17] \"week_day\"                   \"id_and_date\"               "
      ]
     },
     "metadata": {},
     "output_type": "display_data"
    }
   ],
   "source": [
    "colnames(dailyActivity_merged)"
   ]
  },
  {
   "cell_type": "code",
   "execution_count": 58,
   "id": "346aa975-531b-49ae-bbf3-0f9d61758450",
   "metadata": {},
   "outputs": [],
   "source": [
    "temp_daily_activity <- select(dailyActivity_merged, \n",
    "  \"id\", \n",
    "  \"new_date\",\n",
    "  \"id_and_date\",\n",
    "  \"total_steps\", \n",
    "  \"total_distance\", \n",
    "  \"very_active_distance\",\n",
    "  \"moderately_active_distance\",\n",
    "  \"light_active_distance\",\n",
    "  \"sedentary_active_distance\",\n",
    "  \"very_active_minutes\",\n",
    "  \"fairly_active_minutes\",\n",
    "  \"lightly_active_minutes\",\n",
    "  \"sedentary_minutes\",\n",
    "  \"calories\", \n",
    "  \"week_day\"\n",
    "  )"
   ]
  },
  {
   "cell_type": "markdown",
   "id": "077ab053-9dec-47db-b0b9-c687a4147b4c",
   "metadata": {},
   "source": [
    "Daily Sleep Data:"
   ]
  },
  {
   "cell_type": "code",
   "execution_count": 59,
   "id": "73833a8b-8160-45e7-9fa9-a70cd9cb1d16",
   "metadata": {},
   "outputs": [
    {
     "data": {
      "text/html": [
       "<style>\n",
       ".list-inline {list-style: none; margin:0; padding: 0}\n",
       ".list-inline>li {display: inline-block}\n",
       ".list-inline>li:not(:last-child)::after {content: \"\\00b7\"; padding: 0 .5ex}\n",
       "</style>\n",
       "<ol class=list-inline><li>'id'</li><li>'sleep_day'</li><li>'total_sleep_records'</li><li>'total_minutes_asleep'</li><li>'total_time_in_bed'</li><li>'time_awake_in_bed'</li><li>'new_date'</li><li>'week_day'</li><li>'id_and_date'</li></ol>\n"
      ],
      "text/latex": [
       "\\begin{enumerate*}\n",
       "\\item 'id'\n",
       "\\item 'sleep\\_day'\n",
       "\\item 'total\\_sleep\\_records'\n",
       "\\item 'total\\_minutes\\_asleep'\n",
       "\\item 'total\\_time\\_in\\_bed'\n",
       "\\item 'time\\_awake\\_in\\_bed'\n",
       "\\item 'new\\_date'\n",
       "\\item 'week\\_day'\n",
       "\\item 'id\\_and\\_date'\n",
       "\\end{enumerate*}\n"
      ],
      "text/markdown": [
       "1. 'id'\n",
       "2. 'sleep_day'\n",
       "3. 'total_sleep_records'\n",
       "4. 'total_minutes_asleep'\n",
       "5. 'total_time_in_bed'\n",
       "6. 'time_awake_in_bed'\n",
       "7. 'new_date'\n",
       "8. 'week_day'\n",
       "9. 'id_and_date'\n",
       "\n",
       "\n"
      ],
      "text/plain": [
       "[1] \"id\"                   \"sleep_day\"            \"total_sleep_records\" \n",
       "[4] \"total_minutes_asleep\" \"total_time_in_bed\"    \"time_awake_in_bed\"   \n",
       "[7] \"new_date\"             \"week_day\"             \"id_and_date\"         "
      ]
     },
     "metadata": {},
     "output_type": "display_data"
    }
   ],
   "source": [
    "colnames(sleepDay_merged)"
   ]
  },
  {
   "cell_type": "code",
   "execution_count": 61,
   "id": "68c7a611-8816-42c6-a0a3-fa28519b26d5",
   "metadata": {},
   "outputs": [],
   "source": [
    "temp_daily_sleep <- select(sleepDay_merged, \n",
    "  \"id_and_date\",\n",
    "  \"total_sleep_records\",\n",
    "  \"time_awake_in_bed\",\n",
    "  \"total_minutes_asleep\",\n",
    "  \"total_time_in_bed\",\n",
    "  )"
   ]
  },
  {
   "cell_type": "markdown",
   "id": "182bc5d5-e982-444a-a626-97e0f77fd1f2",
   "metadata": {},
   "source": [
    "Merge these two data frames with an outer join."
   ]
  },
  {
   "cell_type": "code",
   "execution_count": 62,
   "id": "608340cd-cccc-438c-a89b-86b34896a254",
   "metadata": {},
   "outputs": [
    {
     "name": "stdout",
     "output_type": "stream",
     "text": [
      "'data.frame':\t940 obs. of  19 variables:\n",
      " $ id_and_date               : chr  \"1503960366_and_2020-04-12\" \"1503960366_and_2020-04-13\" \"1503960366_and_2020-04-14\" \"1503960366_and_2020-04-15\" ...\n",
      " $ id                        : num  1.5e+09 1.5e+09 1.5e+09 1.5e+09 1.5e+09 ...\n",
      " $ new_date                  : Date, format: \"2020-04-12\" \"2020-04-13\" ...\n",
      " $ total_steps               : num  13162 10735 10460 9762 12669 ...\n",
      " $ total_distance            : num  8.5 6.97 6.74 6.28 8.16 ...\n",
      " $ very_active_distance      : num  1.88 1.57 2.44 2.14 2.71 ...\n",
      " $ moderately_active_distance: num  0.55 0.69 0.4 1.26 0.41 ...\n",
      " $ light_active_distance     : num  6.06 4.71 3.91 2.83 5.04 ...\n",
      " $ sedentary_active_distance : num  0 0 0 0 0 0 0 0 0 0 ...\n",
      " $ very_active_minutes       : num  25 21 30 29 36 38 42 50 28 19 ...\n",
      " $ fairly_active_minutes     : num  13 19 11 34 10 20 16 31 12 8 ...\n",
      " $ lightly_active_minutes    : num  328 217 181 209 221 164 233 264 205 211 ...\n",
      " $ sedentary_minutes         : num  728 776 1218 726 773 ...\n",
      " $ calories                  : num  1985 1797 1776 1745 1863 ...\n",
      " $ week_day                  : Ord.factor w/ 7 levels \"Mon\"<\"Tue\"<\"Wed\"<..: 7 1 2 3 4 5 6 7 1 2 ...\n",
      " $ total_sleep_records       : num  1 2 NA 1 2 1 NA 1 1 1 ...\n",
      " $ time_awake_in_bed         : num  19 23 NA 30 27 12 NA 16 17 39 ...\n",
      " $ total_minutes_asleep      : num  327 384 NA 412 340 700 NA 304 360 325 ...\n",
      " $ total_time_in_bed         : num  346 407 NA 442 367 712 NA 320 377 364 ...\n"
     ]
    }
   ],
   "source": [
    "merged_daily_activity_and_sleep <- merge(x = temp_daily_activity, y = temp_daily_sleep, by = \"id_and_date\", all = TRUE)\n",
    "str(merged_daily_activity_and_sleep)"
   ]
  },
  {
   "cell_type": "markdown",
   "id": "fd988737-31cb-44ab-8a4f-d6e0bb3eed7c",
   "metadata": {},
   "source": [
    "Daily Weight Data."
   ]
  },
  {
   "cell_type": "code",
   "execution_count": 26,
   "id": "70805205-d6d9-4208-b4e6-7a4533445806",
   "metadata": {},
   "outputs": [
    {
     "data": {
      "text/html": [
       "<style>\n",
       ".list-inline {list-style: none; margin:0; padding: 0}\n",
       ".list-inline>li {display: inline-block}\n",
       ".list-inline>li:not(:last-child)::after {content: \"\\00b7\"; padding: 0 .5ex}\n",
       "</style>\n",
       "<ol class=list-inline><li>'id'</li><li>'date'</li><li>'weight_kg'</li><li>'weight_pounds'</li><li>'fat'</li><li>'bmi'</li><li>'is_manual_report'</li><li>'log_id'</li><li>'new_date'</li><li>'week_day'</li><li>'id_and_date'</li></ol>\n"
      ],
      "text/latex": [
       "\\begin{enumerate*}\n",
       "\\item 'id'\n",
       "\\item 'date'\n",
       "\\item 'weight\\_kg'\n",
       "\\item 'weight\\_pounds'\n",
       "\\item 'fat'\n",
       "\\item 'bmi'\n",
       "\\item 'is\\_manual\\_report'\n",
       "\\item 'log\\_id'\n",
       "\\item 'new\\_date'\n",
       "\\item 'week\\_day'\n",
       "\\item 'id\\_and\\_date'\n",
       "\\end{enumerate*}\n"
      ],
      "text/markdown": [
       "1. 'id'\n",
       "2. 'date'\n",
       "3. 'weight_kg'\n",
       "4. 'weight_pounds'\n",
       "5. 'fat'\n",
       "6. 'bmi'\n",
       "7. 'is_manual_report'\n",
       "8. 'log_id'\n",
       "9. 'new_date'\n",
       "10. 'week_day'\n",
       "11. 'id_and_date'\n",
       "\n",
       "\n"
      ],
      "text/plain": [
       " [1] \"id\"               \"date\"             \"weight_kg\"        \"weight_pounds\"   \n",
       " [5] \"fat\"              \"bmi\"              \"is_manual_report\" \"log_id\"          \n",
       " [9] \"new_date\"         \"week_day\"         \"id_and_date\"     "
      ]
     },
     "metadata": {},
     "output_type": "display_data"
    }
   ],
   "source": [
    "colnames(weightLogInfo_merged)"
   ]
  },
  {
   "cell_type": "code",
   "execution_count": 63,
   "id": "638a8341-d252-4393-8bed-036e063f0c7b",
   "metadata": {},
   "outputs": [
    {
     "data": {
      "text/html": [
       "<style>\n",
       ".list-inline {list-style: none; margin:0; padding: 0}\n",
       ".list-inline>li {display: inline-block}\n",
       ".list-inline>li:not(:last-child)::after {content: \"\\00b7\"; padding: 0 .5ex}\n",
       "</style>\n",
       "<ol class=list-inline><li>'id_and_date'</li><li>'weight_kg'</li><li>'weight_pounds'</li><li>'fat'</li><li>'bmi'</li><li>'is_manual_report'</li></ol>\n"
      ],
      "text/latex": [
       "\\begin{enumerate*}\n",
       "\\item 'id\\_and\\_date'\n",
       "\\item 'weight\\_kg'\n",
       "\\item 'weight\\_pounds'\n",
       "\\item 'fat'\n",
       "\\item 'bmi'\n",
       "\\item 'is\\_manual\\_report'\n",
       "\\end{enumerate*}\n"
      ],
      "text/markdown": [
       "1. 'id_and_date'\n",
       "2. 'weight_kg'\n",
       "3. 'weight_pounds'\n",
       "4. 'fat'\n",
       "5. 'bmi'\n",
       "6. 'is_manual_report'\n",
       "\n",
       "\n"
      ],
      "text/plain": [
       "[1] \"id_and_date\"      \"weight_kg\"        \"weight_pounds\"    \"fat\"             \n",
       "[5] \"bmi\"              \"is_manual_report\""
      ]
     },
     "metadata": {},
     "output_type": "display_data"
    }
   ],
   "source": [
    "temp_daily_weight <- select(weightLogInfo_merged, \n",
    "  \"id_and_date\",\n",
    "  \"weight_kg\",\n",
    "  \"weight_pounds\",\n",
    "  \"fat\",\n",
    "  \"bmi\",\n",
    "  \"is_manual_report\",\n",
    "  )\n",
    "colnames(temp_daily_weight)"
   ]
  },
  {
   "cell_type": "markdown",
   "id": "00b67cdb-c340-454b-bb5a-3ffdf5ae23e7",
   "metadata": {},
   "source": [
    "Merge all data together:"
   ]
  },
  {
   "cell_type": "code",
   "execution_count": 64,
   "id": "f944dce2-3916-4738-9561-e736a6490597",
   "metadata": {},
   "outputs": [
    {
     "name": "stdout",
     "output_type": "stream",
     "text": [
      "'data.frame':\t940 obs. of  24 variables:\n",
      " $ id_and_date               : chr  \"1503960366_and_2020-04-12\" \"1503960366_and_2020-04-13\" \"1503960366_and_2020-04-14\" \"1503960366_and_2020-04-15\" ...\n",
      " $ id                        : num  1.5e+09 1.5e+09 1.5e+09 1.5e+09 1.5e+09 ...\n",
      " $ new_date                  : Date, format: \"2020-04-12\" \"2020-04-13\" ...\n",
      " $ total_steps               : num  13162 10735 10460 9762 12669 ...\n",
      " $ total_distance            : num  8.5 6.97 6.74 6.28 8.16 ...\n",
      " $ very_active_distance      : num  1.88 1.57 2.44 2.14 2.71 ...\n",
      " $ moderately_active_distance: num  0.55 0.69 0.4 1.26 0.41 ...\n",
      " $ light_active_distance     : num  6.06 4.71 3.91 2.83 5.04 ...\n",
      " $ sedentary_active_distance : num  0 0 0 0 0 0 0 0 0 0 ...\n",
      " $ very_active_minutes       : num  25 21 30 29 36 38 42 50 28 19 ...\n",
      " $ fairly_active_minutes     : num  13 19 11 34 10 20 16 31 12 8 ...\n",
      " $ lightly_active_minutes    : num  328 217 181 209 221 164 233 264 205 211 ...\n",
      " $ sedentary_minutes         : num  728 776 1218 726 773 ...\n",
      " $ calories                  : num  1985 1797 1776 1745 1863 ...\n",
      " $ week_day                  : Ord.factor w/ 7 levels \"Mon\"<\"Tue\"<\"Wed\"<..: 7 1 2 3 4 5 6 7 1 2 ...\n",
      " $ total_sleep_records       : num  1 2 NA 1 2 1 NA 1 1 1 ...\n",
      " $ time_awake_in_bed         : num  19 23 NA 30 27 12 NA 16 17 39 ...\n",
      " $ total_minutes_asleep      : num  327 384 NA 412 340 700 NA 304 360 325 ...\n",
      " $ total_time_in_bed         : num  346 407 NA 442 367 712 NA 320 377 364 ...\n",
      " $ weight_kg                 : num  NA NA NA NA NA NA NA NA NA NA ...\n",
      " $ weight_pounds             : num  NA NA NA NA NA NA NA NA NA NA ...\n",
      " $ fat                       : num  NA NA NA NA NA NA NA NA NA NA ...\n",
      " $ bmi                       : num  NA NA NA NA NA NA NA NA NA NA ...\n",
      " $ is_manual_report          : logi  NA NA NA NA NA NA ...\n",
      "Rows: 940\n",
      "Columns: 24\n",
      "$ id_and_date                \u001b[3m\u001b[90m<chr>\u001b[39m\u001b[23m \"1503960366_and_2020-04-12\", \"1503960366_an~\n",
      "$ id                         \u001b[3m\u001b[90m<dbl>\u001b[39m\u001b[23m 1503960366, 1503960366, 1503960366, 1503960~\n",
      "$ new_date                   \u001b[3m\u001b[90m<date>\u001b[39m\u001b[23m 2020-04-12, 2020-04-13, 2020-04-14, 2020-0~\n",
      "$ total_steps                \u001b[3m\u001b[90m<dbl>\u001b[39m\u001b[23m 13162, 10735, 10460, 9762, 12669, 9705, 130~\n",
      "$ total_distance             \u001b[3m\u001b[90m<dbl>\u001b[39m\u001b[23m 8.50, 6.97, 6.74, 6.28, 8.16, 6.48, 8.59, 9~\n",
      "$ very_active_distance       \u001b[3m\u001b[90m<dbl>\u001b[39m\u001b[23m 1.88, 1.57, 2.44, 2.14, 2.71, 3.19, 3.25, 3~\n",
      "$ moderately_active_distance \u001b[3m\u001b[90m<dbl>\u001b[39m\u001b[23m 0.55, 0.69, 0.40, 1.26, 0.41, 0.78, 0.64, 1~\n",
      "$ light_active_distance      \u001b[3m\u001b[90m<dbl>\u001b[39m\u001b[23m 6.06, 4.71, 3.91, 2.83, 5.04, 2.51, 4.71, 5~\n",
      "$ sedentary_active_distance  \u001b[3m\u001b[90m<dbl>\u001b[39m\u001b[23m 0, 0, 0, 0, 0, 0, 0, 0, 0, 0, 0, 0, 0, 0, 0~\n",
      "$ very_active_minutes        \u001b[3m\u001b[90m<dbl>\u001b[39m\u001b[23m 25, 21, 30, 29, 36, 38, 42, 50, 28, 19, 66,~\n",
      "$ fairly_active_minutes      \u001b[3m\u001b[90m<dbl>\u001b[39m\u001b[23m 13, 19, 11, 34, 10, 20, 16, 31, 12, 8, 27, ~\n",
      "$ lightly_active_minutes     \u001b[3m\u001b[90m<dbl>\u001b[39m\u001b[23m 328, 217, 181, 209, 221, 164, 233, 264, 205~\n",
      "$ sedentary_minutes          \u001b[3m\u001b[90m<dbl>\u001b[39m\u001b[23m 728, 776, 1218, 726, 773, 539, 1149, 775, 8~\n",
      "$ calories                   \u001b[3m\u001b[90m<dbl>\u001b[39m\u001b[23m 1985, 1797, 1776, 1745, 1863, 1728, 1921, 2~\n",
      "$ week_day                   \u001b[3m\u001b[90m<ord>\u001b[39m\u001b[23m Sun, Mon, Tue, Wed, Thu, Fri, Sat, Sun, Mon~\n",
      "$ total_sleep_records        \u001b[3m\u001b[90m<dbl>\u001b[39m\u001b[23m 1, 2, NA, 1, 2, 1, NA, 1, 1, 1, NA, 1, 1, 1~\n",
      "$ time_awake_in_bed          \u001b[3m\u001b[90m<dbl>\u001b[39m\u001b[23m 19, 23, NA, 30, 27, 12, NA, 16, 17, 39, NA,~\n",
      "$ total_minutes_asleep       \u001b[3m\u001b[90m<dbl>\u001b[39m\u001b[23m 327, 384, NA, 412, 340, 700, NA, 304, 360, ~\n",
      "$ total_time_in_bed          \u001b[3m\u001b[90m<dbl>\u001b[39m\u001b[23m 346, 407, NA, 442, 367, 712, NA, 320, 377, ~\n",
      "$ weight_kg                  \u001b[3m\u001b[90m<dbl>\u001b[39m\u001b[23m NA, NA, NA, NA, NA, NA, NA, NA, NA, NA, NA,~\n",
      "$ weight_pounds              \u001b[3m\u001b[90m<dbl>\u001b[39m\u001b[23m NA, NA, NA, NA, NA, NA, NA, NA, NA, NA, NA,~\n",
      "$ fat                        \u001b[3m\u001b[90m<dbl>\u001b[39m\u001b[23m NA, NA, NA, NA, NA, NA, NA, NA, NA, NA, NA,~\n",
      "$ bmi                        \u001b[3m\u001b[90m<dbl>\u001b[39m\u001b[23m NA, NA, NA, NA, NA, NA, NA, NA, NA, NA, NA,~\n",
      "$ is_manual_report           \u001b[3m\u001b[90m<lgl>\u001b[39m\u001b[23m NA, NA, NA, NA, NA, NA, NA, NA, NA, NA, NA,~\n"
     ]
    }
   ],
   "source": [
    "merged_data_daily <- merge(x = merged_daily_activity_and_sleep, y = temp_daily_weight, by = \"id_and_date\", all = TRUE)\n",
    "str(merged_data_daily)\n",
    "glimpse(merged_data_daily)"
   ]
  },
  {
   "cell_type": "markdown",
   "id": "cc4bc942-9ede-4dde-b6eb-6ca05d59359c",
   "metadata": {},
   "source": [
    "## Analyzing the Daily Data"
   ]
  },
  {
   "cell_type": "markdown",
   "id": "ddbe2619-facd-493d-b471-04ecb5623491",
   "metadata": {},
   "source": [
    "Create a data frame of averages to analyse step data and intensity of distances and minutes."
   ]
  },
  {
   "cell_type": "code",
   "execution_count": 29,
   "id": "34d8c1ba-29c2-4186-8dc7-c950635e27a1",
   "metadata": {},
   "outputs": [
    {
     "name": "stdout",
     "output_type": "stream",
     "text": [
      "Rows: 7\n",
      "Columns: 13\n",
      "$ week_day                        \u001b[3m\u001b[90m<ord>\u001b[39m\u001b[23m Mon, Tue, Wed, Thu, Fri, Sat, Sun\n",
      "$ mean_steps                      \u001b[3m\u001b[90m<dbl>\u001b[39m\u001b[23m 8157.597, 8185.398, 7820.642, 8946.628~\n",
      "$ mean_total_distance             \u001b[3m\u001b[90m<dbl>\u001b[39m\u001b[23m 5.922662, 5.871429, 5.575417, 6.424602~\n",
      "$ mean_very_active_distance       \u001b[3m\u001b[90m<dbl>\u001b[39m\u001b[23m 1.762734, 1.536842, 1.378583, 1.662035~\n",
      "$ mean_moderately_active_distance \u001b[3m\u001b[90m<dbl>\u001b[39m\u001b[23m 0.5687770, 0.5583459, 0.5080000, 0.743~\n",
      "$ mean_light_active_distance      \u001b[3m\u001b[90m<dbl>\u001b[39m\u001b[23m 3.514029, 3.628722, 3.663583, 3.969292~\n",
      "$ mean_sedentary_active_distance  \u001b[3m\u001b[90m<dbl>\u001b[39m\u001b[23m 0.0014388489, 0.0025563909, 0.00191666~\n",
      "$ mean_very_active_minutes        \u001b[3m\u001b[90m<dbl>\u001b[39m\u001b[23m 22.42446, 21.45113, 21.05833, 23.76106~\n",
      "$ mean_fairly_active_minutes      \u001b[3m\u001b[90m<dbl>\u001b[39m\u001b[23m 14.13669, 13.21805, 12.71667, 16.68142~\n",
      "$ mean_lightly_active_minutes     \u001b[3m\u001b[90m<dbl>\u001b[39m\u001b[23m 204.8777, 204.9398, 214.4083, 227.3097~\n",
      "$ mean_sedentary_minutes          \u001b[3m\u001b[90m<dbl>\u001b[39m\u001b[23m 953.8273, 920.7218, 978.3250, 930.0265~\n",
      "$ mean_calories                   \u001b[3m\u001b[90m<dbl>\u001b[39m\u001b[23m 2339.432, 2274.436, 2351.608, 2428.752~\n",
      "$ total_records                   \u001b[3m\u001b[90m<int>\u001b[39m\u001b[23m 139, 133, 120, 113, 110, 110, 138\n"
     ]
    }
   ],
   "source": [
    "merged_data_daily_averages <- merged_data_daily %>%\n",
    "  ## remove records where no steps were taken (no device usage)\n",
    "  filter(total_steps > 0) %>%\n",
    "  group_by(week_day) %>%\n",
    "    summarise(\n",
    "      mean_steps = mean(total_steps),\n",
    "      mean_total_distance = mean(total_distance),\n",
    "      mean_very_active_distance = mean(very_active_distance),\n",
    "      mean_moderately_active_distance = mean(moderately_active_distance),\n",
    "      mean_light_active_distance = mean(light_active_distance),\n",
    "      mean_sedentary_active_distance = mean(sedentary_active_distance),\n",
    "      mean_very_active_minutes = mean(very_active_minutes),\n",
    "      mean_fairly_active_minutes = mean(fairly_active_minutes),\n",
    "      mean_lightly_active_minutes = mean(lightly_active_minutes),\n",
    "      mean_sedentary_minutes = mean(sedentary_minutes),\n",
    "      mean_calories = mean(calories),\n",
    "      total_records = sum(!is.na(week_day))\n",
    "    )\n",
    "glimpse(merged_data_daily_averages)"
   ]
  },
  {
   "cell_type": "markdown",
   "id": "96f934eb-cedd-4cd8-9c0b-2d224ec738ff",
   "metadata": {},
   "source": [
    "Create a graph of total steps for all users per week day."
   ]
  },
  {
   "cell_type": "code",
   "execution_count": 66,
   "id": "eaf7a2a5-ba11-4fb1-af69-2f1a1f0a822a",
   "metadata": {},
   "outputs": [
    {
     "data": {
      "image/png": "[encoded data removed]",
      "text/plain": [
       "plot without title"
      ]
     },
     "metadata": {
      "image/png": {
       "height": 420,
       "width": 420
      }
     },
     "output_type": "display_data"
    }
   ],
   "source": [
    "all_steps_daily <- merged_data_daily %>%\n",
    "  group_by(week_day) %>%\n",
    "  summarise(\n",
    "    all_steps = sum(total_steps)\n",
    "  )\n",
    "ggplot(data=all_steps_daily,aes(x=week_day,y=all_steps,fill=all_steps)) + geom_col() + geom_col() + labs(title=\"Total Steps Taken for All Users per Week Day\", x=\"Week Day\", y=\"Total Steps\") + guides(fill=\"none\")"
   ]
  },
  {
   "cell_type": "markdown",
   "id": "bd46bd9a-7865-4786-bf9f-69b9f5eda442",
   "metadata": {},
   "source": [
    "Create a graph of average steps per week day:"
   ]
  },
  {
   "cell_type": "code",
   "execution_count": 67,
   "id": "334292ce-dc51-4f3f-8472-a2b0f51d779b",
   "metadata": {},
   "outputs": [
    {
     "data": {
      "image/png": "[encoded data removed]",
      "text/plain": [
       "plot without title"
      ]
     },
     "metadata": {
      "image/png": {
       "height": 420,
       "width": 420
      }
     },
     "output_type": "display_data"
    }
   ],
   "source": [
    "ggplot(data=merged_data_daily_averages, aes(x=week_day,y=mean_steps,fill=mean_steps)) + geom_col() + labs(title=\"Average Steps Taken Per Week Day\", x=\"Week Day\", y=\"Average Steps\") + guides(fill=\"none\")"
   ]
  },
  {
   "cell_type": "markdown",
   "id": "ad912d96-724e-45f8-8805-1df25affb830",
   "metadata": {},
   "source": [
    "Create a graph of average calories per week day:"
   ]
  },
  {
   "cell_type": "code",
   "execution_count": 68,
   "id": "f1194777-cf73-412f-8cdc-aa37e248f76f",
   "metadata": {},
   "outputs": [
    {
     "data": {
      "image/png": "[encoded data removed]",
      "text/plain": [
       "plot without title"
      ]
     },
     "metadata": {
      "image/png": {
       "height": 420,
       "width": 420
      }
     },
     "output_type": "display_data"
    }
   ],
   "source": [
    "ggplot(data=merged_data_daily_averages, aes(x=week_day,y=mean_calories,fill=mean_calories)) + geom_col() + labs(title=\"Average Calories Burned Per Week Day\", x=\"Week Day\", y=\"Average Calories\") + guides(fill=\"none\")"
   ]
  },
  {
   "cell_type": "markdown",
   "id": "8b41bde8-0293-48c2-a354-a5813c5ad190",
   "metadata": {},
   "source": [
    "Create a graph of average records per week day:"
   ]
  },
  {
   "cell_type": "code",
   "execution_count": 69,
   "id": "d9e392d5-b796-4c5d-8c96-aa98ac25939a",
   "metadata": {
    "tags": []
   },
   "outputs": [
    {
     "data": {
      "image/png": "[encoded data removed]",
      "text/plain": [
       "plot without title"
      ]
     },
     "metadata": {
      "image/png": {
       "height": 420,
       "width": 420
      }
     },
     "output_type": "display_data"
    }
   ],
   "source": [
    "ggplot(data=merged_data_daily_averages, aes(x=week_day,y=total_records,fill=total_records)) + geom_col() + labs(title=\"Average Data Entries Per Week Day\", x=\"Week Day\", y=\"Average Data Entries\") + guides(fill=\"none\")"
   ]
  },
  {
   "cell_type": "markdown",
   "id": "16a6aeb7-d60d-4f19-8127-6371fdd758de",
   "metadata": {},
   "source": [
    "Create a graph of daily steps vs. daily calories burned."
   ]
  },
  {
   "cell_type": "code",
   "execution_count": 70,
   "id": "35bfd7dd-a7f9-452a-be3a-7e954a5f32b8",
   "metadata": {},
   "outputs": [
    {
     "name": "stderr",
     "output_type": "stream",
     "text": [
      "\u001b[1m\u001b[22m`geom_smooth()` using formula = 'y ~ x'\n"
     ]
    },
    {
     "data": {
      "image/png": "[encoded data removed]",
      "text/plain": [
       "plot without title"
      ]
     },
     "metadata": {
      "image/png": {
       "height": 420,
       "width": 420
      }
     },
     "output_type": "display_data"
    }
   ],
   "source": [
    "daily_steps_vs_calories <- merged_data_daily %>%\n",
    "  summarise (\n",
    "    total_steps = total_steps,\n",
    "    calories = calories\n",
    "  )\n",
    "ggplot(data=daily_steps_vs_calories, aes(x=total_steps,y=calories)) + geom_smooth(method = lm, aes(x=total_steps,y=calories)) + geom_point() + labs(title=\"Total Steps taken vs. Calories Burned Per Day\", x=\"Total Steps\", y=\"Calories Burned\")"
   ]
  },
  {
   "cell_type": "markdown",
   "id": "ec751b8c-23d9-404c-bfa7-d14abb7d076a",
   "metadata": {},
   "source": [
    "Create a graph of very active minutes vs. daily calories burned."
   ]
  },
  {
   "cell_type": "code",
   "execution_count": 71,
   "id": "55910762-9861-4dac-8942-1de14370582a",
   "metadata": {},
   "outputs": [
    {
     "name": "stderr",
     "output_type": "stream",
     "text": [
      "\u001b[1m\u001b[22m`geom_smooth()` using formula = 'y ~ x'\n"
     ]
    },
    {
     "data": {
      "image/png": "[encoded data removed]",
      "text/plain": [
       "plot without title"
      ]
     },
     "metadata": {
      "image/png": {
       "height": 420,
       "width": 420
      }
     },
     "output_type": "display_data"
    }
   ],
   "source": [
    "very_active_calories <- merged_data_daily %>%\n",
    "summarise (\n",
    "    very_active_minutes = very_active_minutes,\n",
    "    calories = calories    \n",
    "    )\n",
    "ggplot(data=very_active_calories, aes(x=very_active_minutes,y=calories)) + geom_point() + geom_smooth(method=lm, aes(x=very_active_minutes,y=calories)) + labs(title=\"Very Active Minutes vs. Calories Burned\", x=\"Very Active Minutes\",y=\"Calories Burned\")"
   ]
  },
  {
   "cell_type": "markdown",
   "id": "e319f80b-0837-4277-a2f7-a55910301379",
   "metadata": {},
   "source": [
    "Create a graph of sedentary minutes vs. daily calories burned."
   ]
  },
  {
   "cell_type": "code",
   "execution_count": 72,
   "id": "30f63a4b-0b09-4130-b0a2-99e91a8c60d9",
   "metadata": {},
   "outputs": [
    {
     "name": "stderr",
     "output_type": "stream",
     "text": [
      "\u001b[1m\u001b[22m`geom_smooth()` using formula = 'y ~ x'\n"
     ]
    },
    {
     "data": {
      "image/png": "[encoded data removed]",
      "text/plain": [
       "plot without title"
      ]
     },
     "metadata": {
      "image/png": {
       "height": 420,
       "width": 420
      }
     },
     "output_type": "display_data"
    }
   ],
   "source": [
    "sedentary_calories <- merged_data_daily %>%\n",
    "summarise (\n",
    "    sedentary_minutes = sedentary_minutes,\n",
    "    calories = calories    \n",
    "    )\n",
    "ggplot(data=sedentary_calories, aes(x=sedentary_minutes,y=calories)) + geom_point() + geom_smooth(method=lm, aes(x=sedentary_minutes,y=calories)) + labs(title=\"Sedentary Minutes vs. Calories Burned\", x=\"Sedentary Minutes\",y=\"Calories Burned\")"
   ]
  },
  {
   "cell_type": "markdown",
   "id": "2501523c-9cdc-44f6-bb66-9e45f4612887",
   "metadata": {},
   "source": [
    "Create a data frame of averages to analyse sleep data, including time in bed not asleep."
   ]
  },
  {
   "cell_type": "code",
   "execution_count": 34,
   "id": "9d5b789e-1ae5-482d-a331-a5b3fc452a8f",
   "metadata": {},
   "outputs": [
    {
     "name": "stdout",
     "output_type": "stream",
     "text": [
      "Rows: 7\n",
      "Columns: 5\n",
      "$ week_day                  \u001b[3m\u001b[90m<ord>\u001b[39m\u001b[23m Mon, Tue, Wed, Thu, Fri, Sat, Sun\n",
      "$ mean_time_awake_in_bed    \u001b[3m\u001b[90m<dbl>\u001b[39m\u001b[23m 35.34848, 33.57812, 39.63158, 40.77193, 50.7~\n",
      "$ mean_total_minutes_asleep \u001b[3m\u001b[90m<dbl>\u001b[39m\u001b[23m 434.6818, 401.2969, 405.4211, 419.0702, 452.~\n",
      "$ mean_total_time_in_bed    \u001b[3m\u001b[90m<dbl>\u001b[39m\u001b[23m 470.0303, 434.8750, 445.0526, 459.8421, 503.~\n",
      "$ total_records             \u001b[3m\u001b[90m<int>\u001b[39m\u001b[23m 66, 64, 57, 57, 55, 46, 65\n"
     ]
    }
   ],
   "source": [
    "merged_data_daily_sleep_averages <- merged_data_daily %>%\n",
    "  ## remove records where no sleep record was made\n",
    "  filter(total_sleep_records > 0) %>%\n",
    "  group_by(week_day) %>%\n",
    "    summarise(\n",
    "      mean_time_awake_in_bed = mean(time_awake_in_bed),\n",
    "      mean_total_minutes_asleep = mean(total_minutes_asleep),\n",
    "      mean_total_time_in_bed = mean(total_time_in_bed),\n",
    "      total_records = sum(!is.na(week_day))\n",
    "    )\n",
    "glimpse(merged_data_daily_sleep_averages)"
   ]
  },
  {
   "cell_type": "markdown",
   "id": "d3ebecda-b5ab-4081-a80a-e899ab9f5272",
   "metadata": {},
   "source": [
    "Create a graph of average minutes asleep each week day:"
   ]
  },
  {
   "cell_type": "code",
   "execution_count": 74,
   "id": "604268ac-ca1e-483c-a257-223c927af096",
   "metadata": {},
   "outputs": [
    {
     "data": {
      "image/png": "[encoded data removed]",
      "text/plain": [
       "plot without title"
      ]
     },
     "metadata": {
      "image/png": {
       "height": 420,
       "width": 420
      }
     },
     "output_type": "display_data"
    }
   ],
   "source": [
    "merged_data_daily_sleep_averages_labelled <- merged_data_daily %>%\n",
    "  ## remove records where no sleep record was made (no device usage)\n",
    "  filter(total_sleep_records > 0) %>%\n",
    "  group_by(week_day) %>%\n",
    "  summarise(\n",
    "    mean_total_minutes_asleep = mean(total_minutes_asleep),\n",
    "    hours = (mean_total_minutes_asleep/60),\n",
    "    floorhours = floor(hours),\n",
    "    sumhours = round(hours %% floorhours * 60,0 ),\n",
    "    label = paste0(floorhours,\":\",sumhours)\n",
    "  )\n",
    "ggplot(data=merged_data_daily_sleep_averages_labelled, aes(x=week_day,y=hours,label = label)) + geom_col() + geom_label(position = position_dodge(width = 1)) + xlab(label = \"Week Day\") + ylab(label = \"Hours Sleep\") + ggtitle(label = \"Average Hours Sleep Each Week Day\")"
   ]
  },
  {
   "cell_type": "markdown",
   "id": "0eb5e513-15dc-4d2d-b926-656d83375745",
   "metadata": {},
   "source": [
    "Creating a graph of average time in bed and awake each week day:"
   ]
  },
  {
   "cell_type": "code",
   "execution_count": 75,
   "id": "f7acc760-d28e-4df5-bdde-f07e4787b276",
   "metadata": {},
   "outputs": [
    {
     "data": {
      "image/png": "[encoded data removed]",
      "text/plain": [
       "plot without title"
      ]
     },
     "metadata": {
      "image/png": {
       "height": 420,
       "width": 420
      }
     },
     "output_type": "display_data"
    }
   ],
   "source": [
    "merged_data_daily_bed_awake_averages_labelled <- merged_data_daily %>%\n",
    "  ## remove records where no sleep record was made (no device usage)\n",
    "  filter(total_sleep_records > 0) %>%\n",
    "  group_by(week_day) %>%\n",
    "  summarise(\n",
    "    mean_time_awake_in_bed = mean(time_awake_in_bed),\n",
    "    label = paste0(round(mean_time_awake_in_bed),\" mins\")\n",
    "  )\n",
    "ggplot(data=merged_data_daily_bed_awake_averages_labelled, aes(x=week_day,y=mean_time_awake_in_bed,label = label)) + geom_col() + geom_label(position = position_dodge(width = 1)) + xlab(label = \"Week Day\") + ylab(label = \"Mins Awake in Bed\") + ggtitle(label = \"Average Minutes Awake in Bed Per Week Day\")"
   ]
  },
  {
   "cell_type": "markdown",
   "id": "8244b5bf-892b-4c00-945b-008043168279",
   "metadata": {},
   "source": [
    "## Processing the Hourly Intensities Data"
   ]
  },
  {
   "cell_type": "markdown",
   "id": "2e6810d2-89a5-47ec-9b5a-32f628ac554c",
   "metadata": {},
   "source": [
    "Determine how the data is structured."
   ]
  },
  {
   "cell_type": "code",
   "execution_count": 76,
   "id": "f3367d44-02e3-4556-bc25-6151dba797eb",
   "metadata": {},
   "outputs": [
    {
     "name": "stdout",
     "output_type": "stream",
     "text": [
      "spc_tbl_ [22,099 x 3] (S3: spec_tbl_df/tbl_df/tbl/data.frame)\n",
      " $ Id          : num [1:22099] 1.5e+09 1.5e+09 1.5e+09 1.5e+09 1.5e+09 ...\n",
      " $ ActivityHour: chr [1:22099] \"4/12/2016 12:00:00 AM\" \"4/12/2016 1:00:00 AM\" \"4/12/2016 2:00:00 AM\" \"4/12/2016 3:00:00 AM\" ...\n",
      " $ StepTotal   : num [1:22099] 373 160 151 0 0 ...\n",
      " - attr(*, \"spec\")=\n",
      "  .. cols(\n",
      "  ..   Id = \u001b[32mcol_double()\u001b[39m,\n",
      "  ..   ActivityHour = \u001b[31mcol_character()\u001b[39m,\n",
      "  ..   StepTotal = \u001b[32mcol_double()\u001b[39m\n",
      "  .. )\n",
      " - attr(*, \"problems\")=<externalptr> \n"
     ]
    }
   ],
   "source": [
    "str(hourlySteps_merged)"
   ]
  },
  {
   "cell_type": "markdown",
   "id": "8f205c30-0f1b-45eb-a469-ca0836d5818d",
   "metadata": {},
   "source": [
    "Check for NA values and duplicate rows."
   ]
  },
  {
   "cell_type": "code",
   "execution_count": 77,
   "id": "f142d0d3-eebb-4d73-8351-865af3fc7e42",
   "metadata": {},
   "outputs": [
    {
     "data": {
      "text/html": [
       "0"
      ],
      "text/latex": [
       "0"
      ],
      "text/markdown": [
       "0"
      ],
      "text/plain": [
       "[1] 0"
      ]
     },
     "metadata": {},
     "output_type": "display_data"
    },
    {
     "data": {
      "text/html": [
       "0"
      ],
      "text/latex": [
       "0"
      ],
      "text/markdown": [
       "0"
      ],
      "text/plain": [
       "[1] 0"
      ]
     },
     "metadata": {},
     "output_type": "display_data"
    }
   ],
   "source": [
    "sum(is.na(hourlySteps_merged))\n",
    "sum(duplicated(hourlySteps_merged))"
   ]
  },
  {
   "cell_type": "markdown",
   "id": "91c2f4cd-4321-4949-bcd8-f8efcfbaec7c",
   "metadata": {},
   "source": [
    "Clean the column names."
   ]
  },
  {
   "cell_type": "code",
   "execution_count": 78,
   "id": "be329c1f-e927-4cf4-a4c3-7236fbd22879",
   "metadata": {},
   "outputs": [
    {
     "name": "stdout",
     "output_type": "stream",
     "text": [
      "spc_tbl_ [22,099 x 3] (S3: spec_tbl_df/tbl_df/tbl/data.frame)\n",
      " $ id           : num [1:22099] 1.5e+09 1.5e+09 1.5e+09 1.5e+09 1.5e+09 ...\n",
      " $ activity_hour: chr [1:22099] \"4/12/2016 12:00:00 AM\" \"4/12/2016 1:00:00 AM\" \"4/12/2016 2:00:00 AM\" \"4/12/2016 3:00:00 AM\" ...\n",
      " $ step_total   : num [1:22099] 373 160 151 0 0 ...\n",
      " - attr(*, \"spec\")=\n",
      "  .. cols(\n",
      "  ..   Id = \u001b[32mcol_double()\u001b[39m,\n",
      "  ..   ActivityHour = \u001b[31mcol_character()\u001b[39m,\n",
      "  ..   StepTotal = \u001b[32mcol_double()\u001b[39m\n",
      "  .. )\n",
      " - attr(*, \"problems\")=<externalptr> \n"
     ]
    }
   ],
   "source": [
    "hourlySteps_merged <- clean_names(hourlySteps_merged)\n",
    "str(hourlySteps_merged)"
   ]
  },
  {
   "cell_type": "markdown",
   "id": "b25cbeaa-3ec8-4efd-ac8b-9accb2f0fdf0",
   "metadata": {},
   "source": [
    "Add columns for the date, the hour(and ways to represent it) and id/date/hour for joins later."
   ]
  },
  {
   "cell_type": "code",
   "execution_count": 79,
   "id": "1e5845b7-84da-495a-9688-786e3f2e5e03",
   "metadata": {},
   "outputs": [
    {
     "name": "stdout",
     "output_type": "stream",
     "text": [
      "tibble [22,099 x 10] (S3: tbl_df/tbl/data.frame)\n",
      " $ id               : num [1:22099] 1.5e+09 1.5e+09 1.5e+09 1.5e+09 1.5e+09 ...\n",
      " $ activity_hour    : chr [1:22099] \"4/12/2016 12:00:00 AM\" \"4/12/2016 1:00:00 AM\" \"4/12/2016 2:00:00 AM\" \"4/12/2016 3:00:00 AM\" ...\n",
      " $ step_total       : num [1:22099] 373 160 151 0 0 ...\n",
      " $ new_date         : Date[1:22099], format: \"2020-04-12\" \"2020-04-12\" ...\n",
      " $ new_hour         : chr [1:22099] \"00:00\" \"01:00\" \"02:00\" \"03:00\" ...\n",
      " $ hour_int         : int [1:22099] 0 1 2 3 4 5 6 7 8 9 ...\n",
      " $ hour_label       : chr [1:22099] \"00AM\" \"01AM\" \"02AM\" \"03AM\" ...\n",
      " $ hour_label_simple: chr [1:22099] \"00\" \"01\" \"02\" \"03\" ...\n",
      " $ week_day         : Ord.factor w/ 7 levels \"Mon\"<\"Tue\"<\"Wed\"<..: 7 7 7 7 7 7 7 7 7 7 ...\n",
      " $ id_and_time      : chr [1:22099] \"1503960366_and_2020-04-12_and_00:00\" \"1503960366_and_2020-04-12_and_01:00\" \"1503960366_and_2020-04-12_and_02:00\" \"1503960366_and_2020-04-12_and_03:00\" ...\n"
     ]
    }
   ],
   "source": [
    "hourlySteps_merged <- hourlySteps_merged %>%\n",
    "  mutate(\n",
    "    new_date = as.Date(activity_hour,\"%m/%d/%y\"),\n",
    "    new_hour = format(mdy_hms(activity_hour),format=\"%H:%M\"),\n",
    "    hour_int = hour(mdy_hms(activity_hour)),\n",
    "    hour_label = format(mdy_hms(activity_hour),format=\"%H%p\"),\n",
    "    hour_label_simple = format(mdy_hms(activity_hour),format=\"%H\"),\n",
    "    week_day = wday(new_date,label=TRUE,week_start=1),\n",
    "    id_and_time = paste0(id,\"_and_\",new_date,\"_and_\",new_hour)\n",
    "  )\n",
    "str(hourlySteps_merged)"
   ]
  },
  {
   "cell_type": "markdown",
   "id": "9ec5862f-0874-4bf8-9142-42dac9293e57",
   "metadata": {},
   "source": [
    "## Processing the Hourly Intensities Data"
   ]
  },
  {
   "cell_type": "markdown",
   "id": "b00e2df7-c95e-4108-9239-fc7a34584cac",
   "metadata": {},
   "source": [
    "Determine how the data is structured."
   ]
  },
  {
   "cell_type": "code",
   "execution_count": 80,
   "id": "678c8636-6464-44b8-91dc-4cfb8b80a85e",
   "metadata": {},
   "outputs": [
    {
     "name": "stdout",
     "output_type": "stream",
     "text": [
      "spc_tbl_ [22,099 x 4] (S3: spec_tbl_df/tbl_df/tbl/data.frame)\n",
      " $ Id              : num [1:22099] 1.5e+09 1.5e+09 1.5e+09 1.5e+09 1.5e+09 ...\n",
      " $ ActivityHour    : chr [1:22099] \"4/12/2016 12:00:00 AM\" \"4/12/2016 1:00:00 AM\" \"4/12/2016 2:00:00 AM\" \"4/12/2016 3:00:00 AM\" ...\n",
      " $ TotalIntensity  : num [1:22099] 20 8 7 0 0 0 0 0 13 30 ...\n",
      " $ AverageIntensity: num [1:22099] 0.333 0.133 0.117 0 0 ...\n",
      " - attr(*, \"spec\")=\n",
      "  .. cols(\n",
      "  ..   Id = \u001b[32mcol_double()\u001b[39m,\n",
      "  ..   ActivityHour = \u001b[31mcol_character()\u001b[39m,\n",
      "  ..   TotalIntensity = \u001b[32mcol_double()\u001b[39m,\n",
      "  ..   AverageIntensity = \u001b[32mcol_double()\u001b[39m\n",
      "  .. )\n",
      " - attr(*, \"problems\")=<externalptr> \n"
     ]
    }
   ],
   "source": [
    "str(hourlyIntensities_merged)"
   ]
  },
  {
   "cell_type": "markdown",
   "id": "8f94fcf7-0214-46d9-8de6-ccfe19cf8665",
   "metadata": {},
   "source": [
    "Check for NA values and duplicate rows."
   ]
  },
  {
   "cell_type": "code",
   "execution_count": 81,
   "id": "1287dbaf-3d6b-406b-915e-cf15cb1b006e",
   "metadata": {},
   "outputs": [
    {
     "data": {
      "text/html": [
       "0"
      ],
      "text/latex": [
       "0"
      ],
      "text/markdown": [
       "0"
      ],
      "text/plain": [
       "[1] 0"
      ]
     },
     "metadata": {},
     "output_type": "display_data"
    },
    {
     "data": {
      "text/html": [
       "0"
      ],
      "text/latex": [
       "0"
      ],
      "text/markdown": [
       "0"
      ],
      "text/plain": [
       "[1] 0"
      ]
     },
     "metadata": {},
     "output_type": "display_data"
    }
   ],
   "source": [
    "sum(is.na(hourlyIntensities_merged))\n",
    "sum(duplicated(hourlyIntensities_merged))"
   ]
  },
  {
   "cell_type": "markdown",
   "id": "2bf70601-d911-4355-a416-8417a3e57f70",
   "metadata": {},
   "source": [
    "Clean the column names."
   ]
  },
  {
   "cell_type": "code",
   "execution_count": 82,
   "id": "90231b8f-5385-44b7-8030-9bd6fe2e98fd",
   "metadata": {},
   "outputs": [
    {
     "name": "stdout",
     "output_type": "stream",
     "text": [
      "spc_tbl_ [22,099 x 4] (S3: spec_tbl_df/tbl_df/tbl/data.frame)\n",
      " $ id               : num [1:22099] 1.5e+09 1.5e+09 1.5e+09 1.5e+09 1.5e+09 ...\n",
      " $ activity_hour    : chr [1:22099] \"4/12/2016 12:00:00 AM\" \"4/12/2016 1:00:00 AM\" \"4/12/2016 2:00:00 AM\" \"4/12/2016 3:00:00 AM\" ...\n",
      " $ total_intensity  : num [1:22099] 20 8 7 0 0 0 0 0 13 30 ...\n",
      " $ average_intensity: num [1:22099] 0.333 0.133 0.117 0 0 ...\n",
      " - attr(*, \"spec\")=\n",
      "  .. cols(\n",
      "  ..   Id = \u001b[32mcol_double()\u001b[39m,\n",
      "  ..   ActivityHour = \u001b[31mcol_character()\u001b[39m,\n",
      "  ..   TotalIntensity = \u001b[32mcol_double()\u001b[39m,\n",
      "  ..   AverageIntensity = \u001b[32mcol_double()\u001b[39m\n",
      "  .. )\n",
      " - attr(*, \"problems\")=<externalptr> \n"
     ]
    }
   ],
   "source": [
    "hourlyIntensities_merged <- clean_names(hourlyIntensities_merged)\n",
    "str(hourlyIntensities_merged)"
   ]
  },
  {
   "cell_type": "markdown",
   "id": "58c19a3f-f4d7-45b1-b561-bdfbda19bf14",
   "metadata": {},
   "source": [
    "Add columns for the date, the hour and id/date/hour for joins later."
   ]
  },
  {
   "cell_type": "code",
   "execution_count": 83,
   "id": "e4349075-6ce3-4bbd-9d6a-3fb1bfb1b5b9",
   "metadata": {},
   "outputs": [
    {
     "name": "stdout",
     "output_type": "stream",
     "text": [
      "tibble [22,099 x 8] (S3: tbl_df/tbl/data.frame)\n",
      " $ id               : num [1:22099] 1.5e+09 1.5e+09 1.5e+09 1.5e+09 1.5e+09 ...\n",
      " $ activity_hour    : chr [1:22099] \"4/12/2016 12:00:00 AM\" \"4/12/2016 1:00:00 AM\" \"4/12/2016 2:00:00 AM\" \"4/12/2016 3:00:00 AM\" ...\n",
      " $ total_intensity  : num [1:22099] 20 8 7 0 0 0 0 0 13 30 ...\n",
      " $ average_intensity: num [1:22099] 0.333 0.133 0.117 0 0 ...\n",
      " $ new_date         : Date[1:22099], format: \"2020-04-12\" \"2020-04-12\" ...\n",
      " $ new_hour         : chr [1:22099] \"00:00\" \"01:00\" \"02:00\" \"03:00\" ...\n",
      " $ week_day         : Ord.factor w/ 7 levels \"Mon\"<\"Tue\"<\"Wed\"<..: 7 7 7 7 7 7 7 7 7 7 ...\n",
      " $ id_and_time      : chr [1:22099] \"1503960366_and_2020-04-12_and_00:00\" \"1503960366_and_2020-04-12_and_01:00\" \"1503960366_and_2020-04-12_and_02:00\" \"1503960366_and_2020-04-12_and_03:00\" ...\n"
     ]
    }
   ],
   "source": [
    "hourlyIntensities_merged <- hourlyIntensities_merged %>%\n",
    "  mutate(\n",
    "    new_date = as.Date(activity_hour,\"%m/%d/%y\"),\n",
    "    new_hour = format(mdy_hms(activity_hour),format=\"%H:%M\"),\n",
    "    week_day = wday(new_date,label=TRUE,week_start=1),\n",
    "    id_and_time = paste0(id,\"_and_\",new_date,\"_and_\",new_hour)\n",
    "  )\n",
    "str(hourlyIntensities_merged)"
   ]
  },
  {
   "cell_type": "markdown",
   "id": "3f86cf8d-4aa6-42c1-8409-a40557fb26ec",
   "metadata": {},
   "source": [
    "## Processing the Hourly Calories Data"
   ]
  },
  {
   "cell_type": "markdown",
   "id": "f05b8037-8b8a-4468-b4c2-7d6df623638f",
   "metadata": {},
   "source": [
    "Determine how the data is structured."
   ]
  },
  {
   "cell_type": "code",
   "execution_count": 46,
   "id": "e599b2a4-e3c7-4d81-8be8-a90fccfb9533",
   "metadata": {},
   "outputs": [
    {
     "name": "stdout",
     "output_type": "stream",
     "text": [
      "spc_tbl_ [22,099 x 3] (S3: spec_tbl_df/tbl_df/tbl/data.frame)\n",
      " $ Id          : num [1:22099] 1.5e+09 1.5e+09 1.5e+09 1.5e+09 1.5e+09 ...\n",
      " $ ActivityHour: chr [1:22099] \"4/12/2016 12:00:00 AM\" \"4/12/2016 1:00:00 AM\" \"4/12/2016 2:00:00 AM\" \"4/12/2016 3:00:00 AM\" ...\n",
      " $ Calories    : num [1:22099] 81 61 59 47 48 48 48 47 68 141 ...\n",
      " - attr(*, \"spec\")=\n",
      "  .. cols(\n",
      "  ..   Id = \u001b[32mcol_double()\u001b[39m,\n",
      "  ..   ActivityHour = \u001b[31mcol_character()\u001b[39m,\n",
      "  ..   Calories = \u001b[32mcol_double()\u001b[39m\n",
      "  .. )\n",
      " - attr(*, \"problems\")=<externalptr> \n"
     ]
    }
   ],
   "source": [
    "str(hourlyCalories_merged)"
   ]
  },
  {
   "cell_type": "markdown",
   "id": "09cdc380-aa30-4908-887c-bdc8fd4b7747",
   "metadata": {},
   "source": [
    "Check for NA values and duplicate rows."
   ]
  },
  {
   "cell_type": "code",
   "execution_count": 84,
   "id": "1b42fa13-ab9a-4a02-bdc3-cf0822414b87",
   "metadata": {},
   "outputs": [
    {
     "data": {
      "text/html": [
       "0"
      ],
      "text/latex": [
       "0"
      ],
      "text/markdown": [
       "0"
      ],
      "text/plain": [
       "[1] 0"
      ]
     },
     "metadata": {},
     "output_type": "display_data"
    },
    {
     "data": {
      "text/html": [
       "0"
      ],
      "text/latex": [
       "0"
      ],
      "text/markdown": [
       "0"
      ],
      "text/plain": [
       "[1] 0"
      ]
     },
     "metadata": {},
     "output_type": "display_data"
    }
   ],
   "source": [
    "sum(is.na(hourlyCalories_merged))\n",
    "sum(duplicated(hourlyCalories_merged))"
   ]
  },
  {
   "cell_type": "markdown",
   "id": "f16946c9-4fff-4e9b-b886-973d886f2d24",
   "metadata": {},
   "source": [
    "Clean the column names."
   ]
  },
  {
   "cell_type": "code",
   "execution_count": 85,
   "id": "f80a0abc-458f-4e0a-8036-28d2d4860c75",
   "metadata": {},
   "outputs": [
    {
     "name": "stdout",
     "output_type": "stream",
     "text": [
      "spc_tbl_ [22,099 x 3] (S3: spec_tbl_df/tbl_df/tbl/data.frame)\n",
      " $ id           : num [1:22099] 1.5e+09 1.5e+09 1.5e+09 1.5e+09 1.5e+09 ...\n",
      " $ activity_hour: chr [1:22099] \"4/12/2016 12:00:00 AM\" \"4/12/2016 1:00:00 AM\" \"4/12/2016 2:00:00 AM\" \"4/12/2016 3:00:00 AM\" ...\n",
      " $ calories     : num [1:22099] 81 61 59 47 48 48 48 47 68 141 ...\n",
      " - attr(*, \"spec\")=\n",
      "  .. cols(\n",
      "  ..   Id = \u001b[32mcol_double()\u001b[39m,\n",
      "  ..   ActivityHour = \u001b[31mcol_character()\u001b[39m,\n",
      "  ..   Calories = \u001b[32mcol_double()\u001b[39m\n",
      "  .. )\n",
      " - attr(*, \"problems\")=<externalptr> \n"
     ]
    }
   ],
   "source": [
    "hourlyCalories_merged <- clean_names(hourlyCalories_merged)\n",
    "str(hourlyCalories_merged)"
   ]
  },
  {
   "cell_type": "markdown",
   "id": "ab604feb-c332-4c0b-bc9f-574d863bafd8",
   "metadata": {},
   "source": [
    "Add columns for the date, the hour and id/date/hour for joins later."
   ]
  },
  {
   "cell_type": "code",
   "execution_count": 86,
   "id": "7eb90f20-f77b-44a4-8eb5-2c7233f4c460",
   "metadata": {},
   "outputs": [
    {
     "name": "stdout",
     "output_type": "stream",
     "text": [
      "tibble [22,099 x 7] (S3: tbl_df/tbl/data.frame)\n",
      " $ id           : num [1:22099] 1.5e+09 1.5e+09 1.5e+09 1.5e+09 1.5e+09 ...\n",
      " $ activity_hour: chr [1:22099] \"4/12/2016 12:00:00 AM\" \"4/12/2016 1:00:00 AM\" \"4/12/2016 2:00:00 AM\" \"4/12/2016 3:00:00 AM\" ...\n",
      " $ calories     : num [1:22099] 81 61 59 47 48 48 48 47 68 141 ...\n",
      " $ new_date     : Date[1:22099], format: \"2020-04-12\" \"2020-04-12\" ...\n",
      " $ new_hour     : chr [1:22099] \"00:00\" \"01:00\" \"02:00\" \"03:00\" ...\n",
      " $ week_day     : Ord.factor w/ 7 levels \"Sun\"<\"Mon\"<\"Tue\"<..: 1 1 1 1 1 1 1 1 1 1 ...\n",
      " $ id_and_time  : chr [1:22099] \"1503960366_and_2020-04-12_and_00:00\" \"1503960366_and_2020-04-12_and_01:00\" \"1503960366_and_2020-04-12_and_02:00\" \"1503960366_and_2020-04-12_and_03:00\" ...\n"
     ]
    }
   ],
   "source": [
    "hourlyCalories_merged <- hourlyCalories_merged %>%\n",
    "  mutate(\n",
    "    new_date = as.Date(activity_hour,\"%m/%d/%y\"),\n",
    "    new_hour = format(mdy_hms(activity_hour),format=\"%H:%M\"),\n",
    "    week_day = wday(new_date,label=TRUE),\n",
    "    id_and_time = paste0(id,\"_and_\",new_date,\"_and_\",new_hour)\n",
    "  )\n",
    "str(hourlyCalories_merged)"
   ]
  },
  {
   "cell_type": "markdown",
   "id": "1b57e75d-d5c0-462d-b745-5192ef1fc067",
   "metadata": {},
   "source": [
    "## Creating temp tables for joining"
   ]
  },
  {
   "cell_type": "markdown",
   "id": "343cdc0a-f939-4d41-afde-dfdcd063c8fb",
   "metadata": {},
   "source": [
    "Hourly Steps Data:"
   ]
  },
  {
   "cell_type": "code",
   "execution_count": 50,
   "id": "bc078aa6-c500-4fba-acba-ff6ef7b6fce5",
   "metadata": {},
   "outputs": [
    {
     "data": {
      "text/html": [
       "<style>\n",
       ".list-inline {list-style: none; margin:0; padding: 0}\n",
       ".list-inline>li {display: inline-block}\n",
       ".list-inline>li:not(:last-child)::after {content: \"\\00b7\"; padding: 0 .5ex}\n",
       "</style>\n",
       "<ol class=list-inline><li>'id'</li><li>'activity_hour'</li><li>'step_total'</li><li>'new_date'</li><li>'new_hour'</li><li>'hour_int'</li><li>'hour_label'</li><li>'hour_label_simple'</li><li>'week_day'</li><li>'id_and_time'</li></ol>\n"
      ],
      "text/latex": [
       "\\begin{enumerate*}\n",
       "\\item 'id'\n",
       "\\item 'activity\\_hour'\n",
       "\\item 'step\\_total'\n",
       "\\item 'new\\_date'\n",
       "\\item 'new\\_hour'\n",
       "\\item 'hour\\_int'\n",
       "\\item 'hour\\_label'\n",
       "\\item 'hour\\_label\\_simple'\n",
       "\\item 'week\\_day'\n",
       "\\item 'id\\_and\\_time'\n",
       "\\end{enumerate*}\n"
      ],
      "text/markdown": [
       "1. 'id'\n",
       "2. 'activity_hour'\n",
       "3. 'step_total'\n",
       "4. 'new_date'\n",
       "5. 'new_hour'\n",
       "6. 'hour_int'\n",
       "7. 'hour_label'\n",
       "8. 'hour_label_simple'\n",
       "9. 'week_day'\n",
       "10. 'id_and_time'\n",
       "\n",
       "\n"
      ],
      "text/plain": [
       " [1] \"id\"                \"activity_hour\"     \"step_total\"       \n",
       " [4] \"new_date\"          \"new_hour\"          \"hour_int\"         \n",
       " [7] \"hour_label\"        \"hour_label_simple\" \"week_day\"         \n",
       "[10] \"id_and_time\"      "
      ]
     },
     "metadata": {},
     "output_type": "display_data"
    }
   ],
   "source": [
    "colnames(hourlySteps_merged)"
   ]
  },
  {
   "cell_type": "code",
   "execution_count": 90,
   "id": "349140d4-1cbc-420d-9019-455e33b3508a",
   "metadata": {},
   "outputs": [],
   "source": [
    "temp_hourly_steps <- select(hourlySteps_merged, \n",
    "  \"id\", \n",
    "  \"activity_hour\",\n",
    "  \"id_and_time\",\n",
    "  \"new_date\",\n",
    "  \"new_hour\",\n",
    "  \"hour_int\",\n",
    "  \"hour_label\",\n",
    "  \"hour_label_simple\",\n",
    "  \"week_day\",\n",
    "  \"step_total\"\n",
    "  )"
   ]
  },
  {
   "cell_type": "markdown",
   "id": "d8c25619-16b8-44fc-90af-2eb5700908e6",
   "metadata": {},
   "source": [
    "Hourly Intensities Data:"
   ]
  },
  {
   "cell_type": "code",
   "execution_count": 91,
   "id": "9e171d57-67b5-4433-8797-15a6ea278709",
   "metadata": {},
   "outputs": [
    {
     "data": {
      "text/html": [
       "<style>\n",
       ".list-inline {list-style: none; margin:0; padding: 0}\n",
       ".list-inline>li {display: inline-block}\n",
       ".list-inline>li:not(:last-child)::after {content: \"\\00b7\"; padding: 0 .5ex}\n",
       "</style>\n",
       "<ol class=list-inline><li>'id'</li><li>'activity_hour'</li><li>'total_intensity'</li><li>'average_intensity'</li><li>'new_date'</li><li>'new_hour'</li><li>'week_day'</li><li>'id_and_time'</li></ol>\n"
      ],
      "text/latex": [
       "\\begin{enumerate*}\n",
       "\\item 'id'\n",
       "\\item 'activity\\_hour'\n",
       "\\item 'total\\_intensity'\n",
       "\\item 'average\\_intensity'\n",
       "\\item 'new\\_date'\n",
       "\\item 'new\\_hour'\n",
       "\\item 'week\\_day'\n",
       "\\item 'id\\_and\\_time'\n",
       "\\end{enumerate*}\n"
      ],
      "text/markdown": [
       "1. 'id'\n",
       "2. 'activity_hour'\n",
       "3. 'total_intensity'\n",
       "4. 'average_intensity'\n",
       "5. 'new_date'\n",
       "6. 'new_hour'\n",
       "7. 'week_day'\n",
       "8. 'id_and_time'\n",
       "\n",
       "\n"
      ],
      "text/plain": [
       "[1] \"id\"                \"activity_hour\"     \"total_intensity\"  \n",
       "[4] \"average_intensity\" \"new_date\"          \"new_hour\"         \n",
       "[7] \"week_day\"          \"id_and_time\"      "
      ]
     },
     "metadata": {},
     "output_type": "display_data"
    }
   ],
   "source": [
    "colnames(hourlyIntensities_merged)"
   ]
  },
  {
   "cell_type": "code",
   "execution_count": 92,
   "id": "2edb5bdc-b7a2-4427-978c-b70cfe429461",
   "metadata": {},
   "outputs": [],
   "source": [
    "temp_hourly_intensities <- select(hourlyIntensities_merged, \n",
    "  \"id_and_time\",\n",
    "  \"total_intensity\",\n",
    "  \"average_intensity\"\n",
    "  )"
   ]
  },
  {
   "cell_type": "markdown",
   "id": "478effa3-d118-4d3e-9af3-89c4db3913df",
   "metadata": {},
   "source": [
    "Merge these two data frames with an outer join."
   ]
  },
  {
   "cell_type": "code",
   "execution_count": 93,
   "id": "bade8815-9a74-4cd5-be7e-a47781ff0ce6",
   "metadata": {},
   "outputs": [
    {
     "name": "stdout",
     "output_type": "stream",
     "text": [
      "'data.frame':\t22099 obs. of  12 variables:\n",
      " $ id_and_time      : chr  \"1503960366_and_2020-04-12_and_00:00\" \"1503960366_and_2020-04-12_and_01:00\" \"1503960366_and_2020-04-12_and_02:00\" \"1503960366_and_2020-04-12_and_03:00\" ...\n",
      " $ id               : num  1.5e+09 1.5e+09 1.5e+09 1.5e+09 1.5e+09 ...\n",
      " $ activity_hour    : chr  \"4/12/2016 12:00:00 AM\" \"4/12/2016 1:00:00 AM\" \"4/12/2016 2:00:00 AM\" \"4/12/2016 3:00:00 AM\" ...\n",
      " $ new_date         : Date, format: \"2020-04-12\" \"2020-04-12\" ...\n",
      " $ new_hour         : chr  \"00:00\" \"01:00\" \"02:00\" \"03:00\" ...\n",
      " $ hour_int         : int  0 1 2 3 4 5 6 7 8 9 ...\n",
      " $ hour_label       : chr  \"00AM\" \"01AM\" \"02AM\" \"03AM\" ...\n",
      " $ hour_label_simple: chr  \"00\" \"01\" \"02\" \"03\" ...\n",
      " $ week_day         : Ord.factor w/ 7 levels \"Mon\"<\"Tue\"<\"Wed\"<..: 7 7 7 7 7 7 7 7 7 7 ...\n",
      " $ step_total       : num  373 160 151 0 0 ...\n",
      " $ total_intensity  : num  20 8 7 0 0 0 0 0 13 30 ...\n",
      " $ average_intensity: num  0.333 0.133 0.117 0 0 ...\n"
     ]
    }
   ],
   "source": [
    "merged_hourly_steps_and_intensities <- merge(x = temp_hourly_steps, y = temp_hourly_intensities, by = \"id_and_time\", all = TRUE)\n",
    "str(merged_hourly_steps_and_intensities)"
   ]
  },
  {
   "cell_type": "markdown",
   "id": "ff9486c6-7b2b-4fb9-92b7-056b8fd07779",
   "metadata": {},
   "source": [
    "Hourly Calories Data."
   ]
  },
  {
   "cell_type": "code",
   "execution_count": 94,
   "id": "4b7ee383-109c-48a1-b86b-b5d7a9b730e2",
   "metadata": {},
   "outputs": [
    {
     "data": {
      "text/html": [
       "<style>\n",
       ".list-inline {list-style: none; margin:0; padding: 0}\n",
       ".list-inline>li {display: inline-block}\n",
       ".list-inline>li:not(:last-child)::after {content: \"\\00b7\"; padding: 0 .5ex}\n",
       "</style>\n",
       "<ol class=list-inline><li>'id'</li><li>'activity_hour'</li><li>'calories'</li><li>'new_date'</li><li>'new_hour'</li><li>'week_day'</li><li>'id_and_time'</li></ol>\n"
      ],
      "text/latex": [
       "\\begin{enumerate*}\n",
       "\\item 'id'\n",
       "\\item 'activity\\_hour'\n",
       "\\item 'calories'\n",
       "\\item 'new\\_date'\n",
       "\\item 'new\\_hour'\n",
       "\\item 'week\\_day'\n",
       "\\item 'id\\_and\\_time'\n",
       "\\end{enumerate*}\n"
      ],
      "text/markdown": [
       "1. 'id'\n",
       "2. 'activity_hour'\n",
       "3. 'calories'\n",
       "4. 'new_date'\n",
       "5. 'new_hour'\n",
       "6. 'week_day'\n",
       "7. 'id_and_time'\n",
       "\n",
       "\n"
      ],
      "text/plain": [
       "[1] \"id\"            \"activity_hour\" \"calories\"      \"new_date\"     \n",
       "[5] \"new_hour\"      \"week_day\"      \"id_and_time\"  "
      ]
     },
     "metadata": {},
     "output_type": "display_data"
    }
   ],
   "source": [
    "colnames(hourlyCalories_merged)"
   ]
  },
  {
   "cell_type": "code",
   "execution_count": 95,
   "id": "e1820c29-121d-4eb5-a05e-f2db3f82a7cf",
   "metadata": {},
   "outputs": [
    {
     "data": {
      "text/html": [
       "<style>\n",
       ".list-inline {list-style: none; margin:0; padding: 0}\n",
       ".list-inline>li {display: inline-block}\n",
       ".list-inline>li:not(:last-child)::after {content: \"\\00b7\"; padding: 0 .5ex}\n",
       "</style>\n",
       "<ol class=list-inline><li>'id_and_time'</li><li>'calories'</li></ol>\n"
      ],
      "text/latex": [
       "\\begin{enumerate*}\n",
       "\\item 'id\\_and\\_time'\n",
       "\\item 'calories'\n",
       "\\end{enumerate*}\n"
      ],
      "text/markdown": [
       "1. 'id_and_time'\n",
       "2. 'calories'\n",
       "\n",
       "\n"
      ],
      "text/plain": [
       "[1] \"id_and_time\" \"calories\"   "
      ]
     },
     "metadata": {},
     "output_type": "display_data"
    }
   ],
   "source": [
    "temp_hourly_calories <- select(hourlyCalories_merged, \n",
    "  \"id_and_time\",\n",
    "  \"calories\"\n",
    "  )\n",
    "colnames(temp_hourly_calories)"
   ]
  },
  {
   "cell_type": "markdown",
   "id": "51c8b4c1-d08a-4876-9723-f2ea9a9a6c99",
   "metadata": {},
   "source": [
    "Merge all data together."
   ]
  },
  {
   "cell_type": "code",
   "execution_count": 96,
   "id": "70e0fff0-893a-4899-85be-ff3631157463",
   "metadata": {},
   "outputs": [
    {
     "name": "stdout",
     "output_type": "stream",
     "text": [
      "'data.frame':\t22099 obs. of  13 variables:\n",
      " $ id_and_time      : chr  \"1503960366_and_2020-04-12_and_00:00\" \"1503960366_and_2020-04-12_and_01:00\" \"1503960366_and_2020-04-12_and_02:00\" \"1503960366_and_2020-04-12_and_03:00\" ...\n",
      " $ id               : num  1.5e+09 1.5e+09 1.5e+09 1.5e+09 1.5e+09 ...\n",
      " $ activity_hour    : chr  \"4/12/2016 12:00:00 AM\" \"4/12/2016 1:00:00 AM\" \"4/12/2016 2:00:00 AM\" \"4/12/2016 3:00:00 AM\" ...\n",
      " $ new_date         : Date, format: \"2020-04-12\" \"2020-04-12\" ...\n",
      " $ new_hour         : chr  \"00:00\" \"01:00\" \"02:00\" \"03:00\" ...\n",
      " $ hour_int         : int  0 1 2 3 4 5 6 7 8 9 ...\n",
      " $ hour_label       : chr  \"00AM\" \"01AM\" \"02AM\" \"03AM\" ...\n",
      " $ hour_label_simple: chr  \"00\" \"01\" \"02\" \"03\" ...\n",
      " $ week_day         : Ord.factor w/ 7 levels \"Mon\"<\"Tue\"<\"Wed\"<..: 7 7 7 7 7 7 7 7 7 7 ...\n",
      " $ step_total       : num  373 160 151 0 0 ...\n",
      " $ total_intensity  : num  20 8 7 0 0 0 0 0 13 30 ...\n",
      " $ average_intensity: num  0.333 0.133 0.117 0 0 ...\n",
      " $ calories         : num  81 61 59 47 48 48 48 47 68 141 ...\n",
      "Rows: 22,099\n",
      "Columns: 13\n",
      "$ id_and_time       \u001b[3m\u001b[90m<chr>\u001b[39m\u001b[23m \"1503960366_and_2020-04-12_and_00:00\", \"1503960366_a~\n",
      "$ id                \u001b[3m\u001b[90m<dbl>\u001b[39m\u001b[23m 1503960366, 1503960366, 1503960366, 1503960366, 1503~\n",
      "$ activity_hour     \u001b[3m\u001b[90m<chr>\u001b[39m\u001b[23m \"4/12/2016 12:00:00 AM\", \"4/12/2016 1:00:00 AM\", \"4/~\n",
      "$ new_date          \u001b[3m\u001b[90m<date>\u001b[39m\u001b[23m 2020-04-12, 2020-04-12, 2020-04-12, 2020-04-12, 202~\n",
      "$ new_hour          \u001b[3m\u001b[90m<chr>\u001b[39m\u001b[23m \"00:00\", \"01:00\", \"02:00\", \"03:00\", \"04:00\", \"05:00\"~\n",
      "$ hour_int          \u001b[3m\u001b[90m<int>\u001b[39m\u001b[23m 0, 1, 2, 3, 4, 5, 6, 7, 8, 9, 10, 11, 12, 13, 14, 15~\n",
      "$ hour_label        \u001b[3m\u001b[90m<chr>\u001b[39m\u001b[23m \"00AM\", \"01AM\", \"02AM\", \"03AM\", \"04AM\", \"05AM\", \"06A~\n",
      "$ hour_label_simple \u001b[3m\u001b[90m<chr>\u001b[39m\u001b[23m \"00\", \"01\", \"02\", \"03\", \"04\", \"05\", \"06\", \"07\", \"08\"~\n",
      "$ week_day          \u001b[3m\u001b[90m<ord>\u001b[39m\u001b[23m Sun, Sun, Sun, Sun, Sun, Sun, Sun, Sun, Sun, Sun, Su~\n",
      "$ step_total        \u001b[3m\u001b[90m<dbl>\u001b[39m\u001b[23m 373, 160, 151, 0, 0, 0, 0, 0, 250, 1864, 676, 360, 2~\n",
      "$ total_intensity   \u001b[3m\u001b[90m<dbl>\u001b[39m\u001b[23m 20, 8, 7, 0, 0, 0, 0, 0, 13, 30, 29, 12, 11, 6, 36, ~\n",
      "$ average_intensity \u001b[3m\u001b[90m<dbl>\u001b[39m\u001b[23m 0.333333, 0.133333, 0.116667, 0.000000, 0.000000, 0.~\n",
      "$ calories          \u001b[3m\u001b[90m<dbl>\u001b[39m\u001b[23m 81, 61, 59, 47, 48, 48, 48, 47, 68, 141, 99, 76, 73,~\n"
     ]
    }
   ],
   "source": [
    "merged_data_hourly <- merge(x = merged_hourly_steps_and_intensities, y = temp_hourly_calories, by = \"id_and_time\", all = TRUE)\n",
    "str(merged_data_hourly)\n",
    "glimpse(merged_data_hourly)"
   ]
  },
  {
   "cell_type": "markdown",
   "id": "5d78a32a-ca99-4649-ae0c-4ed7606dd81c",
   "metadata": {},
   "source": [
    "## Analyzing the Hourly Data"
   ]
  },
  {
   "cell_type": "markdown",
   "id": "a1306d46-245e-4199-a37f-28de438866dc",
   "metadata": {},
   "source": [
    "Create a graph of average steps per hour for all days."
   ]
  },
  {
   "cell_type": "code",
   "execution_count": 97,
   "id": "e73f7cbd-e5e3-40d3-8d02-ba5afb0f0369",
   "metadata": {},
   "outputs": [
    {
     "name": "stdout",
     "output_type": "stream",
     "text": [
      "Rows: 24\n",
      "Columns: 2\n",
      "$ hour_label_simple \u001b[3m\u001b[90m<chr>\u001b[39m\u001b[23m \"00\", \"01\", \"02\", \"03\", \"04\", \"05\", \"06\", \"07\", \"08\"~\n",
      "$ mean_step_total   \u001b[3m\u001b[90m<dbl>\u001b[39m\u001b[23m 42.188437, 23.102894, 17.110397, 6.426581, 12.699571~\n"
     ]
    },
    {
     "data": {
      "image/png": "[encoded data removed]",
      "text/plain": [
       "plot without title"
      ]
     },
     "metadata": {
      "image/png": {
       "height": 420,
       "width": 420
      }
     },
     "output_type": "display_data"
    }
   ],
   "source": [
    "merged_data_hourly_averages <- merged_data_hourly %>%\n",
    "  group_by(hour_label_simple) %>%\n",
    "  summarise (\n",
    "    mean_step_total = mean(step_total),\n",
    "  ) \n",
    "glimpse(merged_data_hourly_averages)\n",
    "ggplot(data=merged_data_hourly_averages, aes(x=hour_label_simple, y=mean_step_total, fill=mean_step_total)) + geom_col() + xlab(label = \"Hour\") + ylab(label = \"Average Steps\") + ggtitle(label = \"Average Steps per Hour for All Days\") + guides(fill=\"none\")"
   ]
  },
  {
   "cell_type": "markdown",
   "id": "944da356-062f-4027-9fc2-68eb45c957cc",
   "metadata": {},
   "source": [
    "Create graphs of average steps per hour for each week day."
   ]
  },
  {
   "cell_type": "code",
   "execution_count": 98,
   "id": "be341b45-3379-46dd-8a0f-8c489ae9d92d",
   "metadata": {},
   "outputs": [
    {
     "name": "stderr",
     "output_type": "stream",
     "text": [
      "\u001b[1m\u001b[22m`summarise()` has grouped output by 'week_day'. You can override using the `.groups` argument.\n"
     ]
    },
    {
     "name": "stdout",
     "output_type": "stream",
     "text": [
      "Rows: 168\n",
      "Columns: 3\n",
      "Groups: week_day [7]\n",
      "$ week_day          \u001b[3m\u001b[90m<ord>\u001b[39m\u001b[23m Mon, Mon, Mon, Mon, Mon, Mon, Mon, Mon, Mon, Mon, Mo~\n",
      "$ hour_label_simple \u001b[3m\u001b[90m<chr>\u001b[39m\u001b[23m \"00\", \"01\", \"02\", \"03\", \"04\", \"05\", \"06\", \"07\", \"08\"~\n",
      "$ mean_step_total   \u001b[3m\u001b[90m<dbl>\u001b[39m\u001b[23m 31.221477, 14.906040, 14.476510, 2.228188, 14.335570~\n"
     ]
    },
    {
     "data": {
      "image/png": "[encoded data removed]",
      "text/plain": [
       "plot without title"
      ]
     },
     "metadata": {
      "image/png": {
       "height": 420,
       "width": 420
      }
     },
     "output_type": "display_data"
    }
   ],
   "source": [
    "merged_data_hourly_averages <- merged_data_hourly %>%\n",
    "  group_by(week_day, hour_label_simple) %>%\n",
    "  summarise (\n",
    "    mean_step_total = mean(step_total),\n",
    "  ) \n",
    "glimpse(merged_data_hourly_averages)\n",
    "ggplot(data=merged_data_hourly_averages, aes(x=hour_label_simple, y=mean_step_total, fill=hour_label_simple)) + geom_col() + xlab(label = \"Hour\") + ylab(label = \"Average Steps\") + ggtitle(label = \"Average Steps per Hour for Each Days\") + facet_wrap(~week_day) + guides(fill=\"none\")"
   ]
  },
  {
   "cell_type": "markdown",
   "id": "cdcaa505-1bc6-4a7b-b467-df587b76e765",
   "metadata": {},
   "source": [
    "Create a graph of average calories burned per hour for all days."
   ]
  },
  {
   "cell_type": "code",
   "execution_count": 99,
   "id": "b3721d89-13f2-40d5-812c-f3ad493c418c",
   "metadata": {},
   "outputs": [
    {
     "name": "stdout",
     "output_type": "stream",
     "text": [
      "Rows: 24\n",
      "Columns: 2\n",
      "$ hour_label_simple \u001b[3m\u001b[90m<chr>\u001b[39m\u001b[23m \"00\", \"01\", \"02\", \"03\", \"04\", \"05\", \"06\", \"07\", \"08\"~\n",
      "$ mean_calories     \u001b[3m\u001b[90m<dbl>\u001b[39m\u001b[23m 71.80514, 70.16506, 69.18650, 67.53805, 68.26180, 81~\n"
     ]
    },
    {
     "data": {
      "image/png": "[encoded data removed]",
      "text/plain": [
       "plot without title"
      ]
     },
     "metadata": {
      "image/png": {
       "height": 420,
       "width": 420
      }
     },
     "output_type": "display_data"
    }
   ],
   "source": [
    "hourly_calories <- merged_data_hourly %>%\n",
    "  group_by(hour_label_simple) %>%\n",
    "  summarise (\n",
    "    mean_calories = mean(calories),\n",
    "  ) \n",
    "\n",
    "glimpse(hourly_calories)\n",
    "\n",
    "ggplot(data=hourly_calories, aes(x=hour_label_simple, y=mean_calories,fill=mean_calories)) + geom_col() + xlab(label = \"Hour\") + ylab(label = \"Average Steps\") + ggtitle(label = \"Average Calories per Hour for All Days\")"
   ]
  },
  {
   "cell_type": "markdown",
   "id": "0d9c567f-b0d6-48e9-b9a5-682ac13c8244",
   "metadata": {},
   "source": [
    "Create graphs of average calories burned per hour for each week day."
   ]
  },
  {
   "cell_type": "code",
   "execution_count": 100,
   "id": "fa3b5245-093b-4c57-b925-384ca0b9ed1d",
   "metadata": {},
   "outputs": [
    {
     "name": "stderr",
     "output_type": "stream",
     "text": [
      "\u001b[1m\u001b[22m`summarise()` has grouped output by 'week_day'. You can override using the `.groups` argument.\n"
     ]
    },
    {
     "name": "stdout",
     "output_type": "stream",
     "text": [
      "Rows: 168\n",
      "Columns: 3\n",
      "Groups: week_day [7]\n",
      "$ week_day          \u001b[3m\u001b[90m<ord>\u001b[39m\u001b[23m Mon, Mon, Mon, Mon, Mon, Mon, Mon, Mon, Mon, Mon, Mo~\n",
      "$ hour_label_simple \u001b[3m\u001b[90m<chr>\u001b[39m\u001b[23m \"00\", \"01\", \"02\", \"03\", \"04\", \"05\", \"06\", \"07\", \"08\"~\n",
      "$ mean_calories     \u001b[3m\u001b[90m<dbl>\u001b[39m\u001b[23m 70.75168, 69.25503, 68.93960, 67.21477, 68.78523, 83~\n"
     ]
    },
    {
     "data": {
      "image/png": "[encoded data removed]",
      "text/plain": [
       "plot without title"
      ]
     },
     "metadata": {
      "image/png": {
       "height": 420,
       "width": 420
      }
     },
     "output_type": "display_data"
    }
   ],
   "source": [
    "hourly_calories <- merged_data_hourly %>%\n",
    "  group_by(week_day, hour_label_simple) %>%\n",
    "  summarise (\n",
    "    mean_calories = mean(calories),\n",
    "  ) \n",
    "\n",
    "glimpse(hourly_calories)\n",
    "\n",
    "ggplot(data=hourly_calories, aes(x=hour_label_simple, y=mean_calories,fill=mean_calories)) + geom_col() + facet_wrap(~week_day) + xlab(label = \"Hour\") + ylab(label = \"Average Steps\") + ggtitle(label = \"Average Calories per Hour for All Days\")"
   ]
  },
  {
   "cell_type": "markdown",
   "id": "5671f965-ec48-420b-bc04-58562e0668a3",
   "metadata": {},
   "source": [
    "Create a graph of average intensity per hour vs. calories burned per hour."
   ]
  },
  {
   "cell_type": "code",
   "execution_count": 101,
   "id": "98d81b77-adbd-407f-99da-7ebdd85357b9",
   "metadata": {},
   "outputs": [
    {
     "name": "stderr",
     "output_type": "stream",
     "text": [
      "\u001b[1m\u001b[22m`geom_smooth()` using method = 'gam' and formula = 'y ~ s(x, bs = \"cs\")'\n"
     ]
    },
    {
     "data": {
      "image/png": "[encoded data removed]",
      "text/plain": [
       "plot without title"
      ]
     },
     "metadata": {
      "image/png": {
       "height": 420,
       "width": 420
      }
     },
     "output_type": "display_data"
    }
   ],
   "source": [
    "average_vs_cal <- merged_data_hourly %>%\n",
    "  summarise (\n",
    "    average_intensity = average_intensity,\n",
    "      calories = calories\n",
    "  ) \n",
    "\n",
    "ggplot(data=average_vs_cal, aes(x=average_intensity, y=calories)) + geom_smooth(aes(x=average_intensity, y=calories)) + geom_point() + xlab(label = \"Average Intensity\") + ylab(label = \"Calories Burned\") + ggtitle(label = \"Average Intensities Per Hour vs. Calories Burned\")"
   ]
  },
  {
   "cell_type": "markdown",
   "id": "2aed1732-8590-4b67-b6dc-5f2cfa73b7c6",
   "metadata": {},
   "source": []
  },
  {
   "cell_type": "code",
   "execution_count": null,
   "id": "2ebea222-a8db-4ebf-916d-6c16137e290e",
   "metadata": {},
   "outputs": [],
   "source": []
  }
 ],
 "metadata": {
  "kernelspec": {
   "display_name": "R",
   "language": "R",
   "name": "ir"
  },
  "language_info": {
   "codemirror_mode": "r",
   "file_extension": ".r",
   "mimetype": "text/x-r-source",
   "name": "R",
   "pygments_lexer": "r",
   "version": "4.1.3"
  }
 },
 "nbformat": 4,
 "nbformat_minor": 5
}
