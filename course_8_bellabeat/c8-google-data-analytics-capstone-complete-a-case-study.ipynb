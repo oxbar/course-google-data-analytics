{
 "cells": [
  {
   "cell_type": "markdown",
   "id": "9e5467ee-83c5-4359-a82a-59761d0c9141",
   "metadata": {},
   "source": [
    "# Course 8 - Google Data Analytics Capstone: Complete a Case Study"
   ]
  },
  {
   "cell_type": "markdown",
   "id": "8d68cc6e-f4bf-40a4-998a-001fc703ddc3",
   "metadata": {
    "jp-MarkdownHeadingCollapsed": true,
    "tags": []
   },
   "source": [
    "###"
   ]
  },
  {
   "cell_type": "markdown",
   "id": "75bf0687-65b5-4930-b39f-646cba7b394b",
   "metadata": {},
   "source": []
  },
  {
   "cell_type": "code",
   "execution_count": null,
   "id": "0c0f5191-39fe-4c97-a5d7-27fda8305738",
   "metadata": {},
   "outputs": [],
   "source": []
  }
 ],
 "metadata": {
  "kernelspec": {
   "display_name": "R",
   "language": "R",
   "name": "ir"
  },
  "language_info": {
   "codemirror_mode": "r",
   "file_extension": ".r",
   "mimetype": "text/x-r-source",
   "name": "R",
   "pygments_lexer": "r",
   "version": "4.1.3"
  }
 },
 "nbformat": 4,
 "nbformat_minor": 5
}
