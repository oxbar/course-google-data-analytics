{
 "cells": [
  {
   "cell_type": "markdown",
   "id": "0c846df1-bf81-44a6-900b-0edb86d07d9b",
   "metadata": {},
   "source": [
    "Installing and loading the required packages:"
   ]
  },
  {
   "cell_type": "code",
   "execution_count": null,
   "id": "55a8f326-c328-4023-bb75-cbf6efc4580d",
   "metadata": {},
   "outputs": [],
   "source": [
    "install.packages(\"dplyr\")\n",
    "install.packages(\"tidyr\")\n",
    "install.packages(\"ggplot2\")\n",
    "install.packages(\"lubridate\")\n",
    "install.packages(\"readr\")\n",
    "install.packages(\"janitor\")\n",
    "library(dplyr)\n",
    "library(tidyr)\n",
    "library(ggplot2)\n",
    "library(lubridate)\n",
    "library(readr)\n",
    "library(janitor)"
   ]
  },
  {
   "cell_type": "markdown",
   "id": "9dd674d0-ac19-486f-bcee-0578dd91335c",
   "metadata": {},
   "source": [
    "Creating data frames for all the csv files:"
   ]
  },
  {
   "cell_type": "code",
   "execution_count": 250,
   "id": "ac1855f7-2682-4c38-bb49-db7f23f6d897",
   "metadata": {
    "collapsed": true,
    "jupyter": {
     "outputs_hidden": true
    },
    "tags": []
   },
   "outputs": [
    {
     "name": "stderr",
     "output_type": "stream",
     "text": [
      "\u001b[1mRows: \u001b[22m\u001b[34m940\u001b[39m \u001b[1mColumns: \u001b[22m\u001b[34m15\u001b[39m\n",
      "\u001b[36m--\u001b[39m \u001b[1mColumn specification\u001b[22m \u001b[36m------------------------------------------------------------------------------------------------\u001b[39m\n",
      "\u001b[1mDelimiter:\u001b[22m \",\"\n",
      "\u001b[31mchr\u001b[39m  (1): ActivityDate\n",
      "\u001b[32mdbl\u001b[39m (14): Id, TotalSteps, TotalDistance, TrackerDistance, LoggedActivitiesDi...\n",
      "\n",
      "\u001b[36mi\u001b[39m Use `spec()` to retrieve the full column specification for this data.\n",
      "\u001b[36mi\u001b[39m Specify the column types or set `show_col_types = FALSE` to quiet this message.\n",
      "\u001b[1mRows: \u001b[22m\u001b[34m940\u001b[39m \u001b[1mColumns: \u001b[22m\u001b[34m3\u001b[39m\n",
      "\u001b[36m--\u001b[39m \u001b[1mColumn specification\u001b[22m \u001b[36m------------------------------------------------------------------------------------------------\u001b[39m\n",
      "\u001b[1mDelimiter:\u001b[22m \",\"\n",
      "\u001b[31mchr\u001b[39m (1): ActivityDay\n",
      "\u001b[32mdbl\u001b[39m (2): Id, Calories\n",
      "\n",
      "\u001b[36mi\u001b[39m Use `spec()` to retrieve the full column specification for this data.\n",
      "\u001b[36mi\u001b[39m Specify the column types or set `show_col_types = FALSE` to quiet this message.\n",
      "\u001b[1mRows: \u001b[22m\u001b[34m940\u001b[39m \u001b[1mColumns: \u001b[22m\u001b[34m10\u001b[39m\n",
      "\u001b[36m--\u001b[39m \u001b[1mColumn specification\u001b[22m \u001b[36m------------------------------------------------------------------------------------------------\u001b[39m\n",
      "\u001b[1mDelimiter:\u001b[22m \",\"\n",
      "\u001b[31mchr\u001b[39m (1): ActivityDay\n",
      "\u001b[32mdbl\u001b[39m (9): Id, SedentaryMinutes, LightlyActiveMinutes, FairlyActiveMinutes, Ve...\n",
      "\n",
      "\u001b[36mi\u001b[39m Use `spec()` to retrieve the full column specification for this data.\n",
      "\u001b[36mi\u001b[39m Specify the column types or set `show_col_types = FALSE` to quiet this message.\n",
      "\u001b[1mRows: \u001b[22m\u001b[34m940\u001b[39m \u001b[1mColumns: \u001b[22m\u001b[34m3\u001b[39m\n",
      "\u001b[36m--\u001b[39m \u001b[1mColumn specification\u001b[22m \u001b[36m------------------------------------------------------------------------------------------------\u001b[39m\n",
      "\u001b[1mDelimiter:\u001b[22m \",\"\n",
      "\u001b[31mchr\u001b[39m (1): ActivityDay\n",
      "\u001b[32mdbl\u001b[39m (2): Id, StepTotal\n",
      "\n",
      "\u001b[36mi\u001b[39m Use `spec()` to retrieve the full column specification for this data.\n",
      "\u001b[36mi\u001b[39m Specify the column types or set `show_col_types = FALSE` to quiet this message.\n",
      "\u001b[1mRows: \u001b[22m\u001b[34m2483658\u001b[39m \u001b[1mColumns: \u001b[22m\u001b[34m3\u001b[39m\n",
      "\u001b[36m--\u001b[39m \u001b[1mColumn specification\u001b[22m \u001b[36m------------------------------------------------------------------------------------------------\u001b[39m\n",
      "\u001b[1mDelimiter:\u001b[22m \",\"\n",
      "\u001b[31mchr\u001b[39m (1): Time\n",
      "\u001b[32mdbl\u001b[39m (2): Id, Value\n",
      "\n",
      "\u001b[36mi\u001b[39m Use `spec()` to retrieve the full column specification for this data.\n",
      "\u001b[36mi\u001b[39m Specify the column types or set `show_col_types = FALSE` to quiet this message.\n",
      "\u001b[1mRows: \u001b[22m\u001b[34m22099\u001b[39m \u001b[1mColumns: \u001b[22m\u001b[34m3\u001b[39m\n",
      "\u001b[36m--\u001b[39m \u001b[1mColumn specification\u001b[22m \u001b[36m------------------------------------------------------------------------------------------------\u001b[39m\n",
      "\u001b[1mDelimiter:\u001b[22m \",\"\n",
      "\u001b[31mchr\u001b[39m (1): ActivityHour\n",
      "\u001b[32mdbl\u001b[39m (2): Id, Calories\n",
      "\n",
      "\u001b[36mi\u001b[39m Use `spec()` to retrieve the full column specification for this data.\n",
      "\u001b[36mi\u001b[39m Specify the column types or set `show_col_types = FALSE` to quiet this message.\n",
      "\u001b[1mRows: \u001b[22m\u001b[34m22099\u001b[39m \u001b[1mColumns: \u001b[22m\u001b[34m4\u001b[39m\n",
      "\u001b[36m--\u001b[39m \u001b[1mColumn specification\u001b[22m \u001b[36m------------------------------------------------------------------------------------------------\u001b[39m\n",
      "\u001b[1mDelimiter:\u001b[22m \",\"\n",
      "\u001b[31mchr\u001b[39m (1): ActivityHour\n",
      "\u001b[32mdbl\u001b[39m (3): Id, TotalIntensity, AverageIntensity\n",
      "\n",
      "\u001b[36mi\u001b[39m Use `spec()` to retrieve the full column specification for this data.\n",
      "\u001b[36mi\u001b[39m Specify the column types or set `show_col_types = FALSE` to quiet this message.\n",
      "\u001b[1mRows: \u001b[22m\u001b[34m22099\u001b[39m \u001b[1mColumns: \u001b[22m\u001b[34m3\u001b[39m\n",
      "\u001b[36m--\u001b[39m \u001b[1mColumn specification\u001b[22m \u001b[36m------------------------------------------------------------------------------------------------\u001b[39m\n",
      "\u001b[1mDelimiter:\u001b[22m \",\"\n",
      "\u001b[31mchr\u001b[39m (1): ActivityHour\n",
      "\u001b[32mdbl\u001b[39m (2): Id, StepTotal\n",
      "\n",
      "\u001b[36mi\u001b[39m Use `spec()` to retrieve the full column specification for this data.\n",
      "\u001b[36mi\u001b[39m Specify the column types or set `show_col_types = FALSE` to quiet this message.\n",
      "\u001b[1mRows: \u001b[22m\u001b[34m1325580\u001b[39m \u001b[1mColumns: \u001b[22m\u001b[34m3\u001b[39m\n",
      "\u001b[36m--\u001b[39m \u001b[1mColumn specification\u001b[22m \u001b[36m------------------------------------------------------------------------------------------------\u001b[39m\n",
      "\u001b[1mDelimiter:\u001b[22m \",\"\n",
      "\u001b[31mchr\u001b[39m (1): ActivityMinute\n",
      "\u001b[32mdbl\u001b[39m (2): Id, Calories\n",
      "\n",
      "\u001b[36mi\u001b[39m Use `spec()` to retrieve the full column specification for this data.\n",
      "\u001b[36mi\u001b[39m Specify the column types or set `show_col_types = FALSE` to quiet this message.\n",
      "\u001b[1mRows: \u001b[22m\u001b[34m21645\u001b[39m \u001b[1mColumns: \u001b[22m\u001b[34m62\u001b[39m\n",
      "\u001b[36m--\u001b[39m \u001b[1mColumn specification\u001b[22m \u001b[36m------------------------------------------------------------------------------------------------\u001b[39m\n",
      "\u001b[1mDelimiter:\u001b[22m \",\"\n",
      "\u001b[31mchr\u001b[39m  (1): ActivityHour\n",
      "\u001b[32mdbl\u001b[39m (61): Id, Calories00, Calories01, Calories02, Calories03, Calories04, Ca...\n",
      "\n",
      "\u001b[36mi\u001b[39m Use `spec()` to retrieve the full column specification for this data.\n",
      "\u001b[36mi\u001b[39m Specify the column types or set `show_col_types = FALSE` to quiet this message.\n",
      "\u001b[1mRows: \u001b[22m\u001b[34m1325580\u001b[39m \u001b[1mColumns: \u001b[22m\u001b[34m3\u001b[39m\n",
      "\u001b[36m--\u001b[39m \u001b[1mColumn specification\u001b[22m \u001b[36m------------------------------------------------------------------------------------------------\u001b[39m\n",
      "\u001b[1mDelimiter:\u001b[22m \",\"\n",
      "\u001b[31mchr\u001b[39m (1): ActivityMinute\n",
      "\u001b[32mdbl\u001b[39m (2): Id, Intensity\n",
      "\n",
      "\u001b[36mi\u001b[39m Use `spec()` to retrieve the full column specification for this data.\n",
      "\u001b[36mi\u001b[39m Specify the column types or set `show_col_types = FALSE` to quiet this message.\n",
      "\u001b[1mRows: \u001b[22m\u001b[34m21645\u001b[39m \u001b[1mColumns: \u001b[22m\u001b[34m62\u001b[39m\n",
      "\u001b[36m--\u001b[39m \u001b[1mColumn specification\u001b[22m \u001b[36m------------------------------------------------------------------------------------------------\u001b[39m\n",
      "\u001b[1mDelimiter:\u001b[22m \",\"\n",
      "\u001b[31mchr\u001b[39m  (1): ActivityHour\n",
      "\u001b[32mdbl\u001b[39m (61): Id, Intensity00, Intensity01, Intensity02, Intensity03, Intensity0...\n",
      "\n",
      "\u001b[36mi\u001b[39m Use `spec()` to retrieve the full column specification for this data.\n",
      "\u001b[36mi\u001b[39m Specify the column types or set `show_col_types = FALSE` to quiet this message.\n",
      "\u001b[1mRows: \u001b[22m\u001b[34m1325580\u001b[39m \u001b[1mColumns: \u001b[22m\u001b[34m3\u001b[39m\n",
      "\u001b[36m--\u001b[39m \u001b[1mColumn specification\u001b[22m \u001b[36m------------------------------------------------------------------------------------------------\u001b[39m\n",
      "\u001b[1mDelimiter:\u001b[22m \",\"\n",
      "\u001b[31mchr\u001b[39m (1): ActivityMinute\n",
      "\u001b[32mdbl\u001b[39m (2): Id, METs\n",
      "\n",
      "\u001b[36mi\u001b[39m Use `spec()` to retrieve the full column specification for this data.\n",
      "\u001b[36mi\u001b[39m Specify the column types or set `show_col_types = FALSE` to quiet this message.\n",
      "\u001b[1mRows: \u001b[22m\u001b[34m188521\u001b[39m \u001b[1mColumns: \u001b[22m\u001b[34m4\u001b[39m\n",
      "\u001b[36m--\u001b[39m \u001b[1mColumn specification\u001b[22m \u001b[36m------------------------------------------------------------------------------------------------\u001b[39m\n",
      "\u001b[1mDelimiter:\u001b[22m \",\"\n",
      "\u001b[31mchr\u001b[39m (1): date\n",
      "\u001b[32mdbl\u001b[39m (3): Id, value, logId\n",
      "\n",
      "\u001b[36mi\u001b[39m Use `spec()` to retrieve the full column specification for this data.\n",
      "\u001b[36mi\u001b[39m Specify the column types or set `show_col_types = FALSE` to quiet this message.\n",
      "\u001b[1mRows: \u001b[22m\u001b[34m1325580\u001b[39m \u001b[1mColumns: \u001b[22m\u001b[34m3\u001b[39m\n",
      "\u001b[36m--\u001b[39m \u001b[1mColumn specification\u001b[22m \u001b[36m------------------------------------------------------------------------------------------------\u001b[39m\n",
      "\u001b[1mDelimiter:\u001b[22m \",\"\n",
      "\u001b[31mchr\u001b[39m (1): ActivityMinute\n",
      "\u001b[32mdbl\u001b[39m (2): Id, Steps\n",
      "\n",
      "\u001b[36mi\u001b[39m Use `spec()` to retrieve the full column specification for this data.\n",
      "\u001b[36mi\u001b[39m Specify the column types or set `show_col_types = FALSE` to quiet this message.\n",
      "\u001b[1mRows: \u001b[22m\u001b[34m21645\u001b[39m \u001b[1mColumns: \u001b[22m\u001b[34m62\u001b[39m\n",
      "\u001b[36m--\u001b[39m \u001b[1mColumn specification\u001b[22m \u001b[36m------------------------------------------------------------------------------------------------\u001b[39m\n",
      "\u001b[1mDelimiter:\u001b[22m \",\"\n",
      "\u001b[31mchr\u001b[39m  (1): ActivityHour\n",
      "\u001b[32mdbl\u001b[39m (61): Id, Steps00, Steps01, Steps02, Steps03, Steps04, Steps05, Steps06,...\n",
      "\n",
      "\u001b[36mi\u001b[39m Use `spec()` to retrieve the full column specification for this data.\n",
      "\u001b[36mi\u001b[39m Specify the column types or set `show_col_types = FALSE` to quiet this message.\n",
      "\u001b[1mRows: \u001b[22m\u001b[34m413\u001b[39m \u001b[1mColumns: \u001b[22m\u001b[34m5\u001b[39m\n",
      "\u001b[36m--\u001b[39m \u001b[1mColumn specification\u001b[22m \u001b[36m------------------------------------------------------------------------------------------------\u001b[39m\n",
      "\u001b[1mDelimiter:\u001b[22m \",\"\n",
      "\u001b[31mchr\u001b[39m (1): SleepDay\n",
      "\u001b[32mdbl\u001b[39m (4): Id, TotalSleepRecords, TotalMinutesAsleep, TotalTimeInBed\n",
      "\n",
      "\u001b[36mi\u001b[39m Use `spec()` to retrieve the full column specification for this data.\n",
      "\u001b[36mi\u001b[39m Specify the column types or set `show_col_types = FALSE` to quiet this message.\n",
      "\u001b[1mRows: \u001b[22m\u001b[34m67\u001b[39m \u001b[1mColumns: \u001b[22m\u001b[34m8\u001b[39m\n",
      "\u001b[36m--\u001b[39m \u001b[1mColumn specification\u001b[22m \u001b[36m------------------------------------------------------------------------------------------------\u001b[39m\n",
      "\u001b[1mDelimiter:\u001b[22m \",\"\n",
      "\u001b[31mchr\u001b[39m (1): Date\n",
      "\u001b[32mdbl\u001b[39m (6): Id, WeightKg, WeightPounds, Fat, BMI, LogId\n",
      "\u001b[33mlgl\u001b[39m (1): IsManualReport\n",
      "\n",
      "\u001b[36mi\u001b[39m Use `spec()` to retrieve the full column specification for this data.\n",
      "\u001b[36mi\u001b[39m Specify the column types or set `show_col_types = FALSE` to quiet this message.\n"
     ]
    }
   ],
   "source": [
    "files_csv <- list.files(path = \"bellabeat/\", pattern = \"*.csv\")\n",
    "files <- substr(files_csv,1,nchar(files_csv)-4)\n",
    "\n",
    "for(i in files){\n",
    "  filepath = file.path(paste(\"bellabeat/\",i,\".csv\", sep = \"\"))\n",
    "  assign(i,read_csv(filepath))\n",
    "}"
   ]
  },
  {
   "cell_type": "markdown",
   "id": "9169f3a9-cd05-4c6f-9df8-468aa501b682",
   "metadata": {},
   "source": [
    "Counting the distinct IDs in each data frame to determine how many individuals there were for each data set:\n",
    "\n",
    "All data sets had 33 individuals, except for:\n",
    "- heartrate_seconds = 14\n",
    "- minuteSleep = 24\n",
    "- sleepDay = 24\n",
    "- WeightLogInfo = 8"
   ]
  },
  {
   "cell_type": "code",
   "execution_count": 251,
   "id": "cac2f76b-9346-42f3-82bd-ef5fca4d217f",
   "metadata": {},
   "outputs": [
    {
     "data": {
      "text/html": [
       "33"
      ],
      "text/latex": [
       "33"
      ],
      "text/markdown": [
       "33"
      ],
      "text/plain": [
       "[1] 33"
      ]
     },
     "metadata": {},
     "output_type": "display_data"
    },
    {
     "data": {
      "text/html": [
       "33"
      ],
      "text/latex": [
       "33"
      ],
      "text/markdown": [
       "33"
      ],
      "text/plain": [
       "[1] 33"
      ]
     },
     "metadata": {},
     "output_type": "display_data"
    },
    {
     "data": {
      "text/html": [
       "33"
      ],
      "text/latex": [
       "33"
      ],
      "text/markdown": [
       "33"
      ],
      "text/plain": [
       "[1] 33"
      ]
     },
     "metadata": {},
     "output_type": "display_data"
    },
    {
     "data": {
      "text/html": [
       "33"
      ],
      "text/latex": [
       "33"
      ],
      "text/markdown": [
       "33"
      ],
      "text/plain": [
       "[1] 33"
      ]
     },
     "metadata": {},
     "output_type": "display_data"
    },
    {
     "data": {
      "text/html": [
       "14"
      ],
      "text/latex": [
       "14"
      ],
      "text/markdown": [
       "14"
      ],
      "text/plain": [
       "[1] 14"
      ]
     },
     "metadata": {},
     "output_type": "display_data"
    },
    {
     "data": {
      "text/html": [
       "33"
      ],
      "text/latex": [
       "33"
      ],
      "text/markdown": [
       "33"
      ],
      "text/plain": [
       "[1] 33"
      ]
     },
     "metadata": {},
     "output_type": "display_data"
    }
   ],
   "source": [
    "n_distinct(dailyActivity_merged$Id)\n",
    "n_distinct(dailyCalories_merged$Id)\n",
    "n_distinct(dailyIntensities_merged$Id)\n",
    "n_distinct(dailySteps_merged$Id)\n",
    "n_distinct(heartrate_seconds_merged$Id)\n",
    "n_distinct(hourlyCalories_merged$Id)"
   ]
  },
  {
   "cell_type": "code",
   "execution_count": 252,
   "id": "b3ebf36f-8d56-40a2-b127-dc63d9b54a8c",
   "metadata": {},
   "outputs": [
    {
     "data": {
      "text/html": [
       "33"
      ],
      "text/latex": [
       "33"
      ],
      "text/markdown": [
       "33"
      ],
      "text/plain": [
       "[1] 33"
      ]
     },
     "metadata": {},
     "output_type": "display_data"
    },
    {
     "data": {
      "text/html": [
       "33"
      ],
      "text/latex": [
       "33"
      ],
      "text/markdown": [
       "33"
      ],
      "text/plain": [
       "[1] 33"
      ]
     },
     "metadata": {},
     "output_type": "display_data"
    },
    {
     "data": {
      "text/html": [
       "33"
      ],
      "text/latex": [
       "33"
      ],
      "text/markdown": [
       "33"
      ],
      "text/plain": [
       "[1] 33"
      ]
     },
     "metadata": {},
     "output_type": "display_data"
    },
    {
     "data": {
      "text/html": [
       "33"
      ],
      "text/latex": [
       "33"
      ],
      "text/markdown": [
       "33"
      ],
      "text/plain": [
       "[1] 33"
      ]
     },
     "metadata": {},
     "output_type": "display_data"
    },
    {
     "data": {
      "text/html": [
       "33"
      ],
      "text/latex": [
       "33"
      ],
      "text/markdown": [
       "33"
      ],
      "text/plain": [
       "[1] 33"
      ]
     },
     "metadata": {},
     "output_type": "display_data"
    },
    {
     "data": {
      "text/html": [
       "33"
      ],
      "text/latex": [
       "33"
      ],
      "text/markdown": [
       "33"
      ],
      "text/plain": [
       "[1] 33"
      ]
     },
     "metadata": {},
     "output_type": "display_data"
    }
   ],
   "source": [
    "n_distinct(hourlyIntensities_merged$Id)\n",
    "n_distinct(hourlySteps_merged$Id)\n",
    "n_distinct(minuteCaloriesNarrow_merged$Id)\n",
    "n_distinct(minuteCaloriesWide_merged$Id)\n",
    "n_distinct(minuteIntensitiesNarrow_merged$Id)\n",
    "n_distinct(minuteIntensitiesWide_merged$Id)"
   ]
  },
  {
   "cell_type": "code",
   "execution_count": 253,
   "id": "7f2e6b2d-8e84-475a-a52e-972fa9a2f283",
   "metadata": {},
   "outputs": [
    {
     "data": {
      "text/html": [
       "33"
      ],
      "text/latex": [
       "33"
      ],
      "text/markdown": [
       "33"
      ],
      "text/plain": [
       "[1] 33"
      ]
     },
     "metadata": {},
     "output_type": "display_data"
    },
    {
     "data": {
      "text/html": [
       "24"
      ],
      "text/latex": [
       "24"
      ],
      "text/markdown": [
       "24"
      ],
      "text/plain": [
       "[1] 24"
      ]
     },
     "metadata": {},
     "output_type": "display_data"
    },
    {
     "data": {
      "text/html": [
       "33"
      ],
      "text/latex": [
       "33"
      ],
      "text/markdown": [
       "33"
      ],
      "text/plain": [
       "[1] 33"
      ]
     },
     "metadata": {},
     "output_type": "display_data"
    },
    {
     "data": {
      "text/html": [
       "33"
      ],
      "text/latex": [
       "33"
      ],
      "text/markdown": [
       "33"
      ],
      "text/plain": [
       "[1] 33"
      ]
     },
     "metadata": {},
     "output_type": "display_data"
    },
    {
     "data": {
      "text/html": [
       "24"
      ],
      "text/latex": [
       "24"
      ],
      "text/markdown": [
       "24"
      ],
      "text/plain": [
       "[1] 24"
      ]
     },
     "metadata": {},
     "output_type": "display_data"
    },
    {
     "data": {
      "text/html": [
       "8"
      ],
      "text/latex": [
       "8"
      ],
      "text/markdown": [
       "8"
      ],
      "text/plain": [
       "[1] 8"
      ]
     },
     "metadata": {},
     "output_type": "display_data"
    }
   ],
   "source": [
    "n_distinct(minuteMETsNarrow_merged$Id)\n",
    "n_distinct(minuteSleep_merged$Id)\n",
    "n_distinct(minuteStepsNarrow_merged$Id)\n",
    "n_distinct(minuteStepsWide_merged$Id)\n",
    "n_distinct(sleepDay_merged$Id)\n",
    "n_distinct(weightLogInfo_merged$Id)"
   ]
  },
  {
   "cell_type": "markdown",
   "id": "e50a21eb-fb7c-47de-9370-635e5e46115e",
   "metadata": {
    "tags": []
   },
   "source": [
    "## Processing and Analyzing the Daily Activity Data"
   ]
  },
  {
   "cell_type": "markdown",
   "id": "870b909b-869e-47a1-adf0-3b5f755fa86e",
   "metadata": {},
   "source": [
    "### Processing the Daily Activity Data:"
   ]
  },
  {
   "cell_type": "markdown",
   "id": "9c0e0c52-386f-40aa-a032-03f608b4b000",
   "metadata": {},
   "source": [
    "To familiarise myself with the structure of the data:"
   ]
  },
  {
   "cell_type": "code",
   "execution_count": 254,
   "id": "c4c4e9ec-a157-498c-a006-cddeea00db63",
   "metadata": {},
   "outputs": [
    {
     "name": "stdout",
     "output_type": "stream",
     "text": [
      "spc_tbl_ [940 x 15] (S3: spec_tbl_df/tbl_df/tbl/data.frame)\n",
      " $ Id                      : num [1:940] 1.5e+09 1.5e+09 1.5e+09 1.5e+09 1.5e+09 ...\n",
      " $ ActivityDate            : chr [1:940] \"4/12/2016\" \"4/13/2016\" \"4/14/2016\" \"4/15/2016\" ...\n",
      " $ TotalSteps              : num [1:940] 13162 10735 10460 9762 12669 ...\n",
      " $ TotalDistance           : num [1:940] 8.5 6.97 6.74 6.28 8.16 ...\n",
      " $ TrackerDistance         : num [1:940] 8.5 6.97 6.74 6.28 8.16 ...\n",
      " $ LoggedActivitiesDistance: num [1:940] 0 0 0 0 0 0 0 0 0 0 ...\n",
      " $ VeryActiveDistance      : num [1:940] 1.88 1.57 2.44 2.14 2.71 ...\n",
      " $ ModeratelyActiveDistance: num [1:940] 0.55 0.69 0.4 1.26 0.41 ...\n",
      " $ LightActiveDistance     : num [1:940] 6.06 4.71 3.91 2.83 5.04 ...\n",
      " $ SedentaryActiveDistance : num [1:940] 0 0 0 0 0 0 0 0 0 0 ...\n",
      " $ VeryActiveMinutes       : num [1:940] 25 21 30 29 36 38 42 50 28 19 ...\n",
      " $ FairlyActiveMinutes     : num [1:940] 13 19 11 34 10 20 16 31 12 8 ...\n",
      " $ LightlyActiveMinutes    : num [1:940] 328 217 181 209 221 164 233 264 205 211 ...\n",
      " $ SedentaryMinutes        : num [1:940] 728 776 1218 726 773 ...\n",
      " $ Calories                : num [1:940] 1985 1797 1776 1745 1863 ...\n",
      " - attr(*, \"spec\")=\n",
      "  .. cols(\n",
      "  ..   Id = \u001b[32mcol_double()\u001b[39m,\n",
      "  ..   ActivityDate = \u001b[31mcol_character()\u001b[39m,\n",
      "  ..   TotalSteps = \u001b[32mcol_double()\u001b[39m,\n",
      "  ..   TotalDistance = \u001b[32mcol_double()\u001b[39m,\n",
      "  ..   TrackerDistance = \u001b[32mcol_double()\u001b[39m,\n",
      "  ..   LoggedActivitiesDistance = \u001b[32mcol_double()\u001b[39m,\n",
      "  ..   VeryActiveDistance = \u001b[32mcol_double()\u001b[39m,\n",
      "  ..   ModeratelyActiveDistance = \u001b[32mcol_double()\u001b[39m,\n",
      "  ..   LightActiveDistance = \u001b[32mcol_double()\u001b[39m,\n",
      "  ..   SedentaryActiveDistance = \u001b[32mcol_double()\u001b[39m,\n",
      "  ..   VeryActiveMinutes = \u001b[32mcol_double()\u001b[39m,\n",
      "  ..   FairlyActiveMinutes = \u001b[32mcol_double()\u001b[39m,\n",
      "  ..   LightlyActiveMinutes = \u001b[32mcol_double()\u001b[39m,\n",
      "  ..   SedentaryMinutes = \u001b[32mcol_double()\u001b[39m,\n",
      "  ..   Calories = \u001b[32mcol_double()\u001b[39m\n",
      "  .. )\n",
      " - attr(*, \"problems\")=<externalptr> \n"
     ]
    }
   ],
   "source": [
    "str(dailyActivity_merged)"
   ]
  },
  {
   "cell_type": "markdown",
   "id": "ee916b18-bd40-4ae4-af2d-8f80b89bc88b",
   "metadata": {},
   "source": [
    "To check for na values and duplicate rows:"
   ]
  },
  {
   "cell_type": "code",
   "execution_count": 255,
   "id": "bb624d7c-defb-4d56-8710-2ebc12572d1f",
   "metadata": {},
   "outputs": [
    {
     "data": {
      "text/html": [
       "0"
      ],
      "text/latex": [
       "0"
      ],
      "text/markdown": [
       "0"
      ],
      "text/plain": [
       "[1] 0"
      ]
     },
     "metadata": {},
     "output_type": "display_data"
    },
    {
     "data": {
      "text/html": [
       "0"
      ],
      "text/latex": [
       "0"
      ],
      "text/markdown": [
       "0"
      ],
      "text/plain": [
       "[1] 0"
      ]
     },
     "metadata": {},
     "output_type": "display_data"
    }
   ],
   "source": [
    "sum(is.na(dailyActivity_merged))\n",
    "sum(duplicated(dailyActivity_merged))"
   ]
  },
  {
   "cell_type": "markdown",
   "id": "ed168e52-7da5-4f16-8b91-c90234a01767",
   "metadata": {},
   "source": [
    "To check for records where the smart device was not worn:"
   ]
  },
  {
   "cell_type": "code",
   "execution_count": 256,
   "id": "2dd14017-6936-4ad2-b68a-792bb9886ba4",
   "metadata": {},
   "outputs": [
    {
     "data": {
      "text/html": [
       "<table class=\"dataframe\">\n",
       "<caption>A spec_tbl_df: 2 × 2</caption>\n",
       "<thead>\n",
       "\t<tr><th scope=col>Calories == 0</th><th scope=col>n</th></tr>\n",
       "\t<tr><th scope=col>&lt;lgl&gt;</th><th scope=col>&lt;int&gt;</th></tr>\n",
       "</thead>\n",
       "<tbody>\n",
       "\t<tr><td>FALSE</td><td>936</td></tr>\n",
       "\t<tr><td> TRUE</td><td>  4</td></tr>\n",
       "</tbody>\n",
       "</table>\n"
      ],
      "text/latex": [
       "A spec\\_tbl\\_df: 2 × 2\n",
       "\\begin{tabular}{ll}\n",
       " Calories == 0 & n\\\\\n",
       " <lgl> & <int>\\\\\n",
       "\\hline\n",
       "\t FALSE & 936\\\\\n",
       "\t  TRUE &   4\\\\\n",
       "\\end{tabular}\n"
      ],
      "text/markdown": [
       "\n",
       "A spec_tbl_df: 2 × 2\n",
       "\n",
       "| Calories == 0 &lt;lgl&gt; | n &lt;int&gt; |\n",
       "|---|---|\n",
       "| FALSE | 936 |\n",
       "|  TRUE |   4 |\n",
       "\n"
      ],
      "text/plain": [
       "  Calories == 0 n  \n",
       "1 FALSE         936\n",
       "2  TRUE           4"
      ]
     },
     "metadata": {},
     "output_type": "display_data"
    }
   ],
   "source": [
    "count(dailyActivity_merged, Calories == 0)"
   ]
  },
  {
   "cell_type": "markdown",
   "id": "fb928a11-2ad3-4d9b-845e-0a0fb171b5cb",
   "metadata": {},
   "source": [
    "These can be filtered out:"
   ]
  },
  {
   "cell_type": "code",
   "execution_count": 257,
   "id": "f7ddf2ca-c911-4650-8798-e23b118dcb3a",
   "metadata": {},
   "outputs": [],
   "source": [
    "dailyActivity_merged <- dailyActivity_merged %>%\n",
    "filter(Calories > 0)"
   ]
  },
  {
   "cell_type": "markdown",
   "id": "675ab50f-3538-4a62-9eae-f771730e9489",
   "metadata": {},
   "source": [
    "A new column will be added that shows the day of the week. The date format needs to be adjusted to accommodate:"
   ]
  },
  {
   "cell_type": "code",
   "execution_count": 258,
   "id": "58f8c921-f289-4eea-8063-f44493efbf4c",
   "metadata": {},
   "outputs": [],
   "source": [
    "dailyActivity_merged <- dailyActivity_merged %>%\n",
    "mutate(week_day = wday(as.Date(ActivityDate, \"%m/%d/%y\"),label=TRUE))"
   ]
  },
  {
   "cell_type": "code",
   "execution_count": 259,
   "id": "4eac8353-3294-42d3-b9c2-c0b518afc176",
   "metadata": {},
   "outputs": [
    {
     "name": "stdout",
     "output_type": "stream",
     "text": [
      "tibble [936 x 16] (S3: tbl_df/tbl/data.frame)\n",
      " $ Id                      : num [1:936] 1.5e+09 1.5e+09 1.5e+09 1.5e+09 1.5e+09 ...\n",
      " $ ActivityDate            : chr [1:936] \"4/12/2016\" \"4/13/2016\" \"4/14/2016\" \"4/15/2016\" ...\n",
      " $ TotalSteps              : num [1:936] 13162 10735 10460 9762 12669 ...\n",
      " $ TotalDistance           : num [1:936] 8.5 6.97 6.74 6.28 8.16 ...\n",
      " $ TrackerDistance         : num [1:936] 8.5 6.97 6.74 6.28 8.16 ...\n",
      " $ LoggedActivitiesDistance: num [1:936] 0 0 0 0 0 0 0 0 0 0 ...\n",
      " $ VeryActiveDistance      : num [1:936] 1.88 1.57 2.44 2.14 2.71 ...\n",
      " $ ModeratelyActiveDistance: num [1:936] 0.55 0.69 0.4 1.26 0.41 ...\n",
      " $ LightActiveDistance     : num [1:936] 6.06 4.71 3.91 2.83 5.04 ...\n",
      " $ SedentaryActiveDistance : num [1:936] 0 0 0 0 0 0 0 0 0 0 ...\n",
      " $ VeryActiveMinutes       : num [1:936] 25 21 30 29 36 38 42 50 28 19 ...\n",
      " $ FairlyActiveMinutes     : num [1:936] 13 19 11 34 10 20 16 31 12 8 ...\n",
      " $ LightlyActiveMinutes    : num [1:936] 328 217 181 209 221 164 233 264 205 211 ...\n",
      " $ SedentaryMinutes        : num [1:936] 728 776 1218 726 773 ...\n",
      " $ Calories                : num [1:936] 1985 1797 1776 1745 1863 ...\n",
      " $ week_day                : Ord.factor w/ 7 levels \"Sun\"<\"Mon\"<\"Tue\"<..: 1 2 3 4 5 6 7 1 2 3 ...\n"
     ]
    }
   ],
   "source": [
    "str(dailyActivity_merged)"
   ]
  },
  {
   "cell_type": "markdown",
   "id": "129ddba6-4288-4400-bc57-4b1abf2675d7",
   "metadata": {
    "tags": []
   },
   "source": [
    "The data frame column names should be cleaned up:"
   ]
  },
  {
   "cell_type": "code",
   "execution_count": 260,
   "id": "f1ec344b-245e-48f1-af1b-c4dc7840c892",
   "metadata": {
    "tags": []
   },
   "outputs": [],
   "source": [
    "dailyActivity_merged <- clean_names(dailyActivity_merged)"
   ]
  },
  {
   "cell_type": "code",
   "execution_count": 262,
   "id": "e03e33c2-d7ee-43bb-98f8-7d5a317bf058",
   "metadata": {
    "tags": []
   },
   "outputs": [
    {
     "name": "stdout",
     "output_type": "stream",
     "text": [
      "tibble [936 x 16] (S3: tbl_df/tbl/data.frame)\n",
      " $ id                        : num [1:936] 1.5e+09 1.5e+09 1.5e+09 1.5e+09 1.5e+09 ...\n",
      " $ activity_date             : chr [1:936] \"4/12/2016\" \"4/13/2016\" \"4/14/2016\" \"4/15/2016\" ...\n",
      " $ total_steps               : num [1:936] 13162 10735 10460 9762 12669 ...\n",
      " $ total_distance            : num [1:936] 8.5 6.97 6.74 6.28 8.16 ...\n",
      " $ tracker_distance          : num [1:936] 8.5 6.97 6.74 6.28 8.16 ...\n",
      " $ logged_activities_distance: num [1:936] 0 0 0 0 0 0 0 0 0 0 ...\n",
      " $ very_active_distance      : num [1:936] 1.88 1.57 2.44 2.14 2.71 ...\n",
      " $ moderately_active_distance: num [1:936] 0.55 0.69 0.4 1.26 0.41 ...\n",
      " $ light_active_distance     : num [1:936] 6.06 4.71 3.91 2.83 5.04 ...\n",
      " $ sedentary_active_distance : num [1:936] 0 0 0 0 0 0 0 0 0 0 ...\n",
      " $ very_active_minutes       : num [1:936] 25 21 30 29 36 38 42 50 28 19 ...\n",
      " $ fairly_active_minutes     : num [1:936] 13 19 11 34 10 20 16 31 12 8 ...\n",
      " $ lightly_active_minutes    : num [1:936] 328 217 181 209 221 164 233 264 205 211 ...\n",
      " $ sedentary_minutes         : num [1:936] 728 776 1218 726 773 ...\n",
      " $ calories                  : num [1:936] 1985 1797 1776 1745 1863 ...\n",
      " $ week_day                  : Ord.factor w/ 7 levels \"Sun\"<\"Mon\"<\"Tue\"<..: 1 2 3 4 5 6 7 1 2 3 ...\n"
     ]
    }
   ],
   "source": [
    "str(dailyActivity_merged)"
   ]
  },
  {
   "cell_type": "markdown",
   "id": "7a77b938-1bc3-40e4-b6bb-7ae06943a987",
   "metadata": {},
   "source": [
    "### Analyzing the Daily Activity Data:"
   ]
  },
  {
   "cell_type": "markdown",
   "id": "f8083a49-4081-46d5-a965-95edf225d0d1",
   "metadata": {},
   "source": [
    "Creating a summary table of means based on week day:"
   ]
  },
  {
   "cell_type": "code",
   "execution_count": 267,
   "id": "dc8e5d7e-e1d8-46cc-a728-84e9e426816f",
   "metadata": {},
   "outputs": [
    {
     "data": {
      "text/html": [
       "<table class=\"dataframe\">\n",
       "<caption>A tibble: 7 × 9</caption>\n",
       "<thead>\n",
       "\t<tr><th scope=col>week_day</th><th scope=col>mean_steps</th><th scope=col>mean_total_distance</th><th scope=col>mean_very_active_minutes</th><th scope=col>mean_fairly_active_minutes</th><th scope=col>mean_lightly_active_minutes</th><th scope=col>mean_sedentary_minutes</th><th scope=col>mean_calories</th><th scope=col>total_records</th></tr>\n",
       "\t<tr><th scope=col>&lt;ord&gt;</th><th scope=col>&lt;dbl&gt;</th><th scope=col>&lt;dbl&gt;</th><th scope=col>&lt;dbl&gt;</th><th scope=col>&lt;dbl&gt;</th><th scope=col>&lt;dbl&gt;</th><th scope=col>&lt;dbl&gt;</th><th scope=col>&lt;dbl&gt;</th><th scope=col>&lt;int&gt;</th></tr>\n",
       "</thead>\n",
       "<tbody>\n",
       "\t<tr><td>Sun</td><td>8178.815</td><td>5.870861</td><td>23.10596</td><td>14.43046</td><td>198.6490</td><td>1004.4967</td><td>2371.616</td><td>151</td></tr>\n",
       "\t<tr><td>Mon</td><td>7559.373</td><td>5.488333</td><td>20.78000</td><td>13.10000</td><td>189.8533</td><td> 989.4800</td><td>2302.620</td><td>150</td></tr>\n",
       "\t<tr><td>Tue</td><td>7507.986</td><td>5.385517</td><td>19.67586</td><td>12.12414</td><td>187.9793</td><td> 955.4000</td><td>2229.910</td><td>145</td></tr>\n",
       "\t<tr><td>Wed</td><td>7448.230</td><td>5.309921</td><td>20.05556</td><td>12.11111</td><td>204.1984</td><td>1000.3095</td><td>2331.786</td><td>126</td></tr>\n",
       "\t<tr><td>Thu</td><td>8219.260</td><td>5.902276</td><td>22.09756</td><td>15.32520</td><td>208.8293</td><td> 960.4146</td><td>2374.114</td><td>123</td></tr>\n",
       "\t<tr><td>Fri</td><td>6933.231</td><td>5.027190</td><td>19.98347</td><td>14.52893</td><td>173.9752</td><td> 990.2562</td><td>2263.000</td><td>121</td></tr>\n",
       "\t<tr><td>Sat</td><td>7780.867</td><td>5.552917</td><td>23.10833</td><td>14.00000</td><td>192.0583</td><td>1027.9417</td><td>2324.208</td><td>120</td></tr>\n",
       "</tbody>\n",
       "</table>\n"
      ],
      "text/latex": [
       "A tibble: 7 × 9\n",
       "\\begin{tabular}{lllllllll}\n",
       " week\\_day & mean\\_steps & mean\\_total\\_distance & mean\\_very\\_active\\_minutes & mean\\_fairly\\_active\\_minutes & mean\\_lightly\\_active\\_minutes & mean\\_sedentary\\_minutes & mean\\_calories & total\\_records\\\\\n",
       " <ord> & <dbl> & <dbl> & <dbl> & <dbl> & <dbl> & <dbl> & <dbl> & <int>\\\\\n",
       "\\hline\n",
       "\t Sun & 8178.815 & 5.870861 & 23.10596 & 14.43046 & 198.6490 & 1004.4967 & 2371.616 & 151\\\\\n",
       "\t Mon & 7559.373 & 5.488333 & 20.78000 & 13.10000 & 189.8533 &  989.4800 & 2302.620 & 150\\\\\n",
       "\t Tue & 7507.986 & 5.385517 & 19.67586 & 12.12414 & 187.9793 &  955.4000 & 2229.910 & 145\\\\\n",
       "\t Wed & 7448.230 & 5.309921 & 20.05556 & 12.11111 & 204.1984 & 1000.3095 & 2331.786 & 126\\\\\n",
       "\t Thu & 8219.260 & 5.902276 & 22.09756 & 15.32520 & 208.8293 &  960.4146 & 2374.114 & 123\\\\\n",
       "\t Fri & 6933.231 & 5.027190 & 19.98347 & 14.52893 & 173.9752 &  990.2562 & 2263.000 & 121\\\\\n",
       "\t Sat & 7780.867 & 5.552917 & 23.10833 & 14.00000 & 192.0583 & 1027.9417 & 2324.208 & 120\\\\\n",
       "\\end{tabular}\n"
      ],
      "text/markdown": [
       "\n",
       "A tibble: 7 × 9\n",
       "\n",
       "| week_day &lt;ord&gt; | mean_steps &lt;dbl&gt; | mean_total_distance &lt;dbl&gt; | mean_very_active_minutes &lt;dbl&gt; | mean_fairly_active_minutes &lt;dbl&gt; | mean_lightly_active_minutes &lt;dbl&gt; | mean_sedentary_minutes &lt;dbl&gt; | mean_calories &lt;dbl&gt; | total_records &lt;int&gt; |\n",
       "|---|---|---|---|---|---|---|---|---|\n",
       "| Sun | 8178.815 | 5.870861 | 23.10596 | 14.43046 | 198.6490 | 1004.4967 | 2371.616 | 151 |\n",
       "| Mon | 7559.373 | 5.488333 | 20.78000 | 13.10000 | 189.8533 |  989.4800 | 2302.620 | 150 |\n",
       "| Tue | 7507.986 | 5.385517 | 19.67586 | 12.12414 | 187.9793 |  955.4000 | 2229.910 | 145 |\n",
       "| Wed | 7448.230 | 5.309921 | 20.05556 | 12.11111 | 204.1984 | 1000.3095 | 2331.786 | 126 |\n",
       "| Thu | 8219.260 | 5.902276 | 22.09756 | 15.32520 | 208.8293 |  960.4146 | 2374.114 | 123 |\n",
       "| Fri | 6933.231 | 5.027190 | 19.98347 | 14.52893 | 173.9752 |  990.2562 | 2263.000 | 121 |\n",
       "| Sat | 7780.867 | 5.552917 | 23.10833 | 14.00000 | 192.0583 | 1027.9417 | 2324.208 | 120 |\n",
       "\n"
      ],
      "text/plain": [
       "  week_day mean_steps mean_total_distance mean_very_active_minutes\n",
       "1 Sun      8178.815   5.870861            23.10596                \n",
       "2 Mon      7559.373   5.488333            20.78000                \n",
       "3 Tue      7507.986   5.385517            19.67586                \n",
       "4 Wed      7448.230   5.309921            20.05556                \n",
       "5 Thu      8219.260   5.902276            22.09756                \n",
       "6 Fri      6933.231   5.027190            19.98347                \n",
       "7 Sat      7780.867   5.552917            23.10833                \n",
       "  mean_fairly_active_minutes mean_lightly_active_minutes mean_sedentary_minutes\n",
       "1 14.43046                   198.6490                    1004.4967             \n",
       "2 13.10000                   189.8533                     989.4800             \n",
       "3 12.12414                   187.9793                     955.4000             \n",
       "4 12.11111                   204.1984                    1000.3095             \n",
       "5 15.32520                   208.8293                     960.4146             \n",
       "6 14.52893                   173.9752                     990.2562             \n",
       "7 14.00000                   192.0583                    1027.9417             \n",
       "  mean_calories total_records\n",
       "1 2371.616      151          \n",
       "2 2302.620      150          \n",
       "3 2229.910      145          \n",
       "4 2331.786      126          \n",
       "5 2374.114      123          \n",
       "6 2263.000      121          \n",
       "7 2324.208      120          "
      ]
     },
     "metadata": {},
     "output_type": "display_data"
    }
   ],
   "source": [
    "dailyActivity_day_averages <- dailyActivity_merged %>%\n",
    "group_by(week_day) %>%\n",
    "summarise(\n",
    "    mean_steps = mean(total_steps),\n",
    "    mean_total_distance = mean(total_distance),\n",
    "    mean_very_active_minutes = mean(very_active_minutes),\n",
    "    mean_fairly_active_minutes = mean(fairly_active_minutes),\n",
    "    mean_lightly_active_minutes = mean(lightly_active_minutes),\n",
    "    mean_sedentary_minutes = mean(sedentary_minutes),\n",
    "    mean_calories = mean(calories),\n",
    "    total_records = sum(!is.na(week_day))\n",
    ")\n",
    "\n",
    "dailyActivity_day_averages"
   ]
  },
  {
   "cell_type": "markdown",
   "id": "989cda4d-6c2b-49b8-80a2-45cd32fde7b6",
   "metadata": {},
   "source": [
    "Determining if specific days of the week had more records:"
   ]
  },
  {
   "cell_type": "code",
   "execution_count": 268,
   "id": "0d3766c5-3959-44ba-981c-a5f2f81d8d97",
   "metadata": {},
   "outputs": [
    {
     "data": {
      "image/png": "[encoded data removed]",
      "text/plain": [
       "plot without title"
      ]
     },
     "metadata": {
      "image/png": {
       "height": 420,
       "width": 420
      }
     },
     "output_type": "display_data"
    }
   ],
   "source": [
    "ggplot(data=dailyActivity_day_averages) + geom_col(mapping=aes(x=week_day, y=total_records))"
   ]
  },
  {
   "cell_type": "markdown",
   "id": "77c182e2-b6d4-4fab-94fe-fef977f72649",
   "metadata": {},
   "source": [
    "Determining if specific days of the week had more steps:"
   ]
  },
  {
   "cell_type": "code",
   "execution_count": 273,
   "id": "8eb6a52d-c9f4-4718-bd8a-62ca42b45e95",
   "metadata": {
    "tags": []
   },
   "outputs": [
    {
     "data": {
      "image/png": "[encoded data removed]",
      "text/plain": [
       "plot without title"
      ]
     },
     "metadata": {
      "image/png": {
       "height": 420,
       "width": 420
      }
     },
     "output_type": "display_data"
    }
   ],
   "source": [
    "ggplot(data=dailyActivity_day_averages) + geom_col(mapping=aes(x=week_day, y=mean_steps))"
   ]
  },
  {
   "cell_type": "markdown",
   "id": "60eef735-851e-4fb8-b693-33b6f38ee551",
   "metadata": {},
   "source": [
    "Determining if specific days of the week had more calories burned:"
   ]
  },
  {
   "cell_type": "code",
   "execution_count": 274,
   "id": "f878bd00-7d8f-4caf-bdf8-6d17bd9dafbe",
   "metadata": {
    "tags": []
   },
   "outputs": [
    {
     "data": {
      "image/png": "[encoded data removed]",
      "text/plain": [
       "plot without title"
      ]
     },
     "metadata": {
      "image/png": {
       "height": 420,
       "width": 420
      }
     },
     "output_type": "display_data"
    }
   ],
   "source": [
    "ggplot(data=dailyActivity_day_averages) + geom_col(mapping=aes(x=week_day, y=mean_calories))"
   ]
  },
  {
   "cell_type": "markdown",
   "id": "bbbf34b7-5803-4c02-a6d5-e733ad174d11",
   "metadata": {},
   "source": [
    "Determining the breakdown of very, fairly, lightly and sedentary minutes:"
   ]
  },
  {
   "cell_type": "code",
   "execution_count": null,
   "id": "7d678e9f-9983-4553-9030-7d2f0eb897c4",
   "metadata": {},
   "outputs": [],
   "source": [
    "ggplot(data=dailyActivity_day_averages) + geom_point(mapping=aes(x=Id,y=Calories)) + facet_wrap(~NewDate)"
   ]
  },
  {
   "cell_type": "code",
   "execution_count": 187,
   "id": "80206d36-d3aa-4ab1-852d-358837318cd8",
   "metadata": {},
   "outputs": [
    {
     "data": {
      "image/png": "[encoded data removed]",
      "text/plain": [
       "plot without title"
      ]
     },
     "metadata": {
      "image/png": {
       "height": 420,
       "width": 420
      }
     },
     "output_type": "display_data"
    }
   ],
   "source": [
    "ggplot(data=dailyActivity_merged) + geom_point(mapping=aes(x=Id,y=Calories)) + facet_wrap(~NewDate)"
   ]
  },
  {
   "cell_type": "code",
   "execution_count": 223,
   "id": "31fa98fa-1edf-4e09-9d59-3f6a491db2f4",
   "metadata": {},
   "outputs": [
    {
     "data": {
      "text/html": [
       "<style>\n",
       ".dl-inline {width: auto; margin:0; padding: 0}\n",
       ".dl-inline>dt, .dl-inline>dd {float: none; width: auto; display: inline-block}\n",
       ".dl-inline>dt::after {content: \":\\0020\"; padding-right: .5ex}\n",
       ".dl-inline>dt:not(:first-of-type) {padding-left: .5ex}\n",
       "</style><dl class=dl-inline><dt>Id</dt><dd>'1503960366'</dd><dt>ActivityDate</dt><dd>'4/12/2016'</dd><dt>TotalSteps</dt><dd><span style=white-space:pre-wrap>'    0'</span></dd><dt>TotalDistance</dt><dd>' 0.00'</dd><dt>TrackerDistance</dt><dd>' 0.00'</dd><dt>LoggedActivitiesDistance</dt><dd>'0.000000'</dd><dt>VeryActiveDistance</dt><dd>' 0.00'</dd><dt>ModeratelyActiveDistance</dt><dd>'0.00'</dd><dt>LightActiveDistance</dt><dd>' 0.00'</dd><dt>SedentaryActiveDistance</dt><dd>'0.00'</dd><dt>VeryActiveMinutes</dt><dd><span style=white-space:pre-wrap>'  0'</span></dd><dt>FairlyActiveMinutes</dt><dd><span style=white-space:pre-wrap>'  0'</span></dd><dt>LightlyActiveMinutes</dt><dd><span style=white-space:pre-wrap>'  0'</span></dd><dt>SedentaryMinutes</dt><dd><span style=white-space:pre-wrap>'   0'</span></dd><dt>Calories</dt><dd><span style=white-space:pre-wrap>'   0'</span></dd><dt>NewDate</dt><dd>'Fri'</dd></dl>\n"
      ],
      "text/latex": [
       "\\begin{description*}\n",
       "\\item[Id] '1503960366'\n",
       "\\item[ActivityDate] '4/12/2016'\n",
       "\\item[TotalSteps] '    0'\n",
       "\\item[TotalDistance] ' 0.00'\n",
       "\\item[TrackerDistance] ' 0.00'\n",
       "\\item[LoggedActivitiesDistance] '0.000000'\n",
       "\\item[VeryActiveDistance] ' 0.00'\n",
       "\\item[ModeratelyActiveDistance] '0.00'\n",
       "\\item[LightActiveDistance] ' 0.00'\n",
       "\\item[SedentaryActiveDistance] '0.00'\n",
       "\\item[VeryActiveMinutes] '  0'\n",
       "\\item[FairlyActiveMinutes] '  0'\n",
       "\\item[LightlyActiveMinutes] '  0'\n",
       "\\item[SedentaryMinutes] '   0'\n",
       "\\item[Calories] '   0'\n",
       "\\item[NewDate] 'Fri'\n",
       "\\end{description*}\n"
      ],
      "text/markdown": [
       "Id\n",
       ":   '1503960366'ActivityDate\n",
       ":   '4/12/2016'TotalSteps\n",
       ":   <span style=white-space:pre-wrap>'    0'</span>TotalDistance\n",
       ":   ' 0.00'TrackerDistance\n",
       ":   ' 0.00'LoggedActivitiesDistance\n",
       ":   '0.000000'VeryActiveDistance\n",
       ":   ' 0.00'ModeratelyActiveDistance\n",
       ":   '0.00'LightActiveDistance\n",
       ":   ' 0.00'SedentaryActiveDistance\n",
       ":   '0.00'VeryActiveMinutes\n",
       ":   <span style=white-space:pre-wrap>'  0'</span>FairlyActiveMinutes\n",
       ":   <span style=white-space:pre-wrap>'  0'</span>LightlyActiveMinutes\n",
       ":   <span style=white-space:pre-wrap>'  0'</span>SedentaryMinutes\n",
       ":   <span style=white-space:pre-wrap>'   0'</span>Calories\n",
       ":   <span style=white-space:pre-wrap>'   0'</span>NewDate\n",
       ":   'Fri'\n",
       "\n"
      ],
      "text/plain": [
       "                      Id             ActivityDate               TotalSteps \n",
       "            \"1503960366\"              \"4/12/2016\"                  \"    0\" \n",
       "           TotalDistance          TrackerDistance LoggedActivitiesDistance \n",
       "                 \" 0.00\"                  \" 0.00\"               \"0.000000\" \n",
       "      VeryActiveDistance ModeratelyActiveDistance      LightActiveDistance \n",
       "                 \" 0.00\"                   \"0.00\"                  \" 0.00\" \n",
       " SedentaryActiveDistance        VeryActiveMinutes      FairlyActiveMinutes \n",
       "                  \"0.00\"                    \"  0\"                    \"  0\" \n",
       "    LightlyActiveMinutes         SedentaryMinutes                 Calories \n",
       "                   \"  0\"                   \"   0\"                   \"   0\" \n",
       "                 NewDate \n",
       "                   \"Fri\" "
      ]
     },
     "metadata": {},
     "output_type": "display_data"
    }
   ],
   "source": [
    "apply(dailyActivity_merged,2,min)"
   ]
  },
  {
   "cell_type": "code",
   "execution_count": 229,
   "id": "72fd4822-8a98-48fa-95f1-baeafd091a10",
   "metadata": {},
   "outputs": [
    {
     "data": {
      "text/html": [
       "<table class=\"dataframe\">\n",
       "<caption>A tibble: 4 × 16</caption>\n",
       "<thead>\n",
       "\t<tr><th scope=col>Id</th><th scope=col>ActivityDate</th><th scope=col>TotalSteps</th><th scope=col>TotalDistance</th><th scope=col>TrackerDistance</th><th scope=col>LoggedActivitiesDistance</th><th scope=col>VeryActiveDistance</th><th scope=col>ModeratelyActiveDistance</th><th scope=col>LightActiveDistance</th><th scope=col>SedentaryActiveDistance</th><th scope=col>VeryActiveMinutes</th><th scope=col>FairlyActiveMinutes</th><th scope=col>LightlyActiveMinutes</th><th scope=col>SedentaryMinutes</th><th scope=col>Calories</th><th scope=col>NewDate</th></tr>\n",
       "\t<tr><th scope=col>&lt;dbl&gt;</th><th scope=col>&lt;chr&gt;</th><th scope=col>&lt;dbl&gt;</th><th scope=col>&lt;dbl&gt;</th><th scope=col>&lt;dbl&gt;</th><th scope=col>&lt;dbl&gt;</th><th scope=col>&lt;dbl&gt;</th><th scope=col>&lt;dbl&gt;</th><th scope=col>&lt;dbl&gt;</th><th scope=col>&lt;dbl&gt;</th><th scope=col>&lt;dbl&gt;</th><th scope=col>&lt;dbl&gt;</th><th scope=col>&lt;dbl&gt;</th><th scope=col>&lt;dbl&gt;</th><th scope=col>&lt;dbl&gt;</th><th scope=col>&lt;ord&gt;</th></tr>\n",
       "</thead>\n",
       "<tbody>\n",
       "\t<tr><td>1503960366</td><td>5/12/2016</td><td>0</td><td>0</td><td>0</td><td>0</td><td>0</td><td>0</td><td>0</td><td>0</td><td>0</td><td>0</td><td>0</td><td>1440</td><td>0</td><td>Tue</td></tr>\n",
       "\t<tr><td>6290855005</td><td>5/10/2016</td><td>0</td><td>0</td><td>0</td><td>0</td><td>0</td><td>0</td><td>0</td><td>0</td><td>0</td><td>0</td><td>0</td><td>1440</td><td>0</td><td>Sun</td></tr>\n",
       "\t<tr><td>8253242879</td><td>4/30/2016</td><td>0</td><td>0</td><td>0</td><td>0</td><td>0</td><td>0</td><td>0</td><td>0</td><td>0</td><td>0</td><td>0</td><td>1440</td><td>0</td><td>Thu</td></tr>\n",
       "\t<tr><td>8583815059</td><td>5/12/2016</td><td>0</td><td>0</td><td>0</td><td>0</td><td>0</td><td>0</td><td>0</td><td>0</td><td>0</td><td>0</td><td>0</td><td>1440</td><td>0</td><td>Tue</td></tr>\n",
       "</tbody>\n",
       "</table>\n"
      ],
      "text/latex": [
       "A tibble: 4 × 16\n",
       "\\begin{tabular}{llllllllllllllll}\n",
       " Id & ActivityDate & TotalSteps & TotalDistance & TrackerDistance & LoggedActivitiesDistance & VeryActiveDistance & ModeratelyActiveDistance & LightActiveDistance & SedentaryActiveDistance & VeryActiveMinutes & FairlyActiveMinutes & LightlyActiveMinutes & SedentaryMinutes & Calories & NewDate\\\\\n",
       " <dbl> & <chr> & <dbl> & <dbl> & <dbl> & <dbl> & <dbl> & <dbl> & <dbl> & <dbl> & <dbl> & <dbl> & <dbl> & <dbl> & <dbl> & <ord>\\\\\n",
       "\\hline\n",
       "\t 1503960366 & 5/12/2016 & 0 & 0 & 0 & 0 & 0 & 0 & 0 & 0 & 0 & 0 & 0 & 1440 & 0 & Tue\\\\\n",
       "\t 6290855005 & 5/10/2016 & 0 & 0 & 0 & 0 & 0 & 0 & 0 & 0 & 0 & 0 & 0 & 1440 & 0 & Sun\\\\\n",
       "\t 8253242879 & 4/30/2016 & 0 & 0 & 0 & 0 & 0 & 0 & 0 & 0 & 0 & 0 & 0 & 1440 & 0 & Thu\\\\\n",
       "\t 8583815059 & 5/12/2016 & 0 & 0 & 0 & 0 & 0 & 0 & 0 & 0 & 0 & 0 & 0 & 1440 & 0 & Tue\\\\\n",
       "\\end{tabular}\n"
      ],
      "text/markdown": [
       "\n",
       "A tibble: 4 × 16\n",
       "\n",
       "| Id &lt;dbl&gt; | ActivityDate &lt;chr&gt; | TotalSteps &lt;dbl&gt; | TotalDistance &lt;dbl&gt; | TrackerDistance &lt;dbl&gt; | LoggedActivitiesDistance &lt;dbl&gt; | VeryActiveDistance &lt;dbl&gt; | ModeratelyActiveDistance &lt;dbl&gt; | LightActiveDistance &lt;dbl&gt; | SedentaryActiveDistance &lt;dbl&gt; | VeryActiveMinutes &lt;dbl&gt; | FairlyActiveMinutes &lt;dbl&gt; | LightlyActiveMinutes &lt;dbl&gt; | SedentaryMinutes &lt;dbl&gt; | Calories &lt;dbl&gt; | NewDate &lt;ord&gt; |\n",
       "|---|---|---|---|---|---|---|---|---|---|---|---|---|---|---|---|\n",
       "| 1503960366 | 5/12/2016 | 0 | 0 | 0 | 0 | 0 | 0 | 0 | 0 | 0 | 0 | 0 | 1440 | 0 | Tue |\n",
       "| 6290855005 | 5/10/2016 | 0 | 0 | 0 | 0 | 0 | 0 | 0 | 0 | 0 | 0 | 0 | 1440 | 0 | Sun |\n",
       "| 8253242879 | 4/30/2016 | 0 | 0 | 0 | 0 | 0 | 0 | 0 | 0 | 0 | 0 | 0 | 1440 | 0 | Thu |\n",
       "| 8583815059 | 5/12/2016 | 0 | 0 | 0 | 0 | 0 | 0 | 0 | 0 | 0 | 0 | 0 | 1440 | 0 | Tue |\n",
       "\n"
      ],
      "text/plain": [
       "  Id         ActivityDate TotalSteps TotalDistance TrackerDistance\n",
       "1 1503960366 5/12/2016    0          0             0              \n",
       "2 6290855005 5/10/2016    0          0             0              \n",
       "3 8253242879 4/30/2016    0          0             0              \n",
       "4 8583815059 5/12/2016    0          0             0              \n",
       "  LoggedActivitiesDistance VeryActiveDistance ModeratelyActiveDistance\n",
       "1 0                        0                  0                       \n",
       "2 0                        0                  0                       \n",
       "3 0                        0                  0                       \n",
       "4 0                        0                  0                       \n",
       "  LightActiveDistance SedentaryActiveDistance VeryActiveMinutes\n",
       "1 0                   0                       0                \n",
       "2 0                   0                       0                \n",
       "3 0                   0                       0                \n",
       "4 0                   0                       0                \n",
       "  FairlyActiveMinutes LightlyActiveMinutes SedentaryMinutes Calories NewDate\n",
       "1 0                   0                    1440             0        Tue    \n",
       "2 0                   0                    1440             0        Sun    \n",
       "3 0                   0                    1440             0        Thu    \n",
       "4 0                   0                    1440             0        Tue    "
      ]
     },
     "metadata": {},
     "output_type": "display_data"
    }
   ],
   "source": [
    "filter(dailyActivity_merged, Calories == 0)"
   ]
  },
  {
   "cell_type": "code",
   "execution_count": 208,
   "id": "c5eff231-6a03-4606-b9d8-1c1e86624609",
   "metadata": {},
   "outputs": [
    {
     "name": "stdout",
     "output_type": "stream",
     "text": [
      "Rows: 4\n",
      "Columns: 16\n",
      "$ Id                       \u001b[3m\u001b[90m<dbl>\u001b[39m\u001b[23m 1503960366, 6290855005, 8253242879, 8583815059\n",
      "$ ActivityDate             \u001b[3m\u001b[90m<chr>\u001b[39m\u001b[23m \"5/12/2016\", \"5/10/2016\", \"4/30/2016\", \"5/12/~\n",
      "$ TotalSteps               \u001b[3m\u001b[90m<dbl>\u001b[39m\u001b[23m 0, 0, 0, 0\n",
      "$ TotalDistance            \u001b[3m\u001b[90m<dbl>\u001b[39m\u001b[23m 0, 0, 0, 0\n",
      "$ TrackerDistance          \u001b[3m\u001b[90m<dbl>\u001b[39m\u001b[23m 0, 0, 0, 0\n",
      "$ LoggedActivitiesDistance \u001b[3m\u001b[90m<dbl>\u001b[39m\u001b[23m 0, 0, 0, 0\n",
      "$ VeryActiveDistance       \u001b[3m\u001b[90m<dbl>\u001b[39m\u001b[23m 0, 0, 0, 0\n",
      "$ ModeratelyActiveDistance \u001b[3m\u001b[90m<dbl>\u001b[39m\u001b[23m 0, 0, 0, 0\n",
      "$ LightActiveDistance      \u001b[3m\u001b[90m<dbl>\u001b[39m\u001b[23m 0, 0, 0, 0\n",
      "$ SedentaryActiveDistance  \u001b[3m\u001b[90m<dbl>\u001b[39m\u001b[23m 0, 0, 0, 0\n",
      "$ VeryActiveMinutes        \u001b[3m\u001b[90m<dbl>\u001b[39m\u001b[23m 0, 0, 0, 0\n",
      "$ FairlyActiveMinutes      \u001b[3m\u001b[90m<dbl>\u001b[39m\u001b[23m 0, 0, 0, 0\n",
      "$ LightlyActiveMinutes     \u001b[3m\u001b[90m<dbl>\u001b[39m\u001b[23m 0, 0, 0, 0\n",
      "$ SedentaryMinutes         \u001b[3m\u001b[90m<dbl>\u001b[39m\u001b[23m 1440, 1440, 1440, 1440\n",
      "$ Calories                 \u001b[3m\u001b[90m<dbl>\u001b[39m\u001b[23m 0, 0, 0, 0\n",
      "$ NewDate                  \u001b[3m\u001b[90m<ord>\u001b[39m\u001b[23m Tue, Sun, Thu, Tue\n"
     ]
    }
   ],
   "source": [
    "glimpse(test)"
   ]
  },
  {
   "cell_type": "markdown",
   "id": "fc7ef3c1-558b-458e-bd59-da0f5aa5c51b",
   "metadata": {},
   "source": []
  },
  {
   "cell_type": "code",
   "execution_count": 235,
   "id": "747a47e7-99f6-4a67-9682-17ba459b882e",
   "metadata": {},
   "outputs": [
    {
     "name": "stdout",
     "output_type": "stream",
     "text": [
      "tibble [940 x 16] (S3: tbl_df/tbl/data.frame)\n",
      " $ Id                      : num [1:940] 1.5e+09 1.5e+09 1.5e+09 1.5e+09 1.5e+09 ...\n",
      " $ ActivityDate            : chr [1:940] \"4/12/2016\" \"4/13/2016\" \"4/14/2016\" \"4/15/2016\" ...\n",
      " $ TotalSteps              : num [1:940] 13162 10735 10460 9762 12669 ...\n",
      " $ TotalDistance           : num [1:940] 8.5 6.97 6.74 6.28 8.16 ...\n",
      " $ TrackerDistance         : num [1:940] 8.5 6.97 6.74 6.28 8.16 ...\n",
      " $ LoggedActivitiesDistance: num [1:940] 0 0 0 0 0 0 0 0 0 0 ...\n",
      " $ VeryActiveDistance      : num [1:940] 1.88 1.57 2.44 2.14 2.71 ...\n",
      " $ ModeratelyActiveDistance: num [1:940] 0.55 0.69 0.4 1.26 0.41 ...\n",
      " $ LightActiveDistance     : num [1:940] 6.06 4.71 3.91 2.83 5.04 ...\n",
      " $ SedentaryActiveDistance : num [1:940] 0 0 0 0 0 0 0 0 0 0 ...\n",
      " $ VeryActiveMinutes       : num [1:940] 25 21 30 29 36 38 42 50 28 19 ...\n",
      " $ FairlyActiveMinutes     : num [1:940] 13 19 11 34 10 20 16 31 12 8 ...\n",
      " $ LightlyActiveMinutes    : num [1:940] 328 217 181 209 221 164 233 264 205 211 ...\n",
      " $ SedentaryMinutes        : num [1:940] 728 776 1218 726 773 ...\n",
      " $ Calories                : num [1:940] 1985 1797 1776 1745 1863 ...\n",
      " $ NewDate                 : Ord.factor w/ 7 levels \"Sun\"<\"Mon\"<\"Tue\"<..: 1 2 3 4 5 6 7 1 2 3 ...\n"
     ]
    }
   ],
   "source": [
    "str(dailyActivity_merged)"
   ]
  },
  {
   "cell_type": "code",
   "execution_count": 228,
   "id": "da69f634-6d80-4c84-84ee-90ded7ee2219",
   "metadata": {},
   "outputs": [
    {
     "data": {
      "text/html": [
       "0"
      ],
      "text/latex": [
       "0"
      ],
      "text/markdown": [
       "0"
      ],
      "text/plain": [
       "[1] 0"
      ]
     },
     "metadata": {},
     "output_type": "display_data"
    },
    {
     "data": {
      "text/html": [
       "0"
      ],
      "text/latex": [
       "0"
      ],
      "text/markdown": [
       "0"
      ],
      "text/plain": [
       "[1] 0"
      ]
     },
     "metadata": {},
     "output_type": "display_data"
    }
   ],
   "source": [
    "sum(is.na(dailyActivity_merged))\n",
    "sum(duplicated(dailyActivity_merged))"
   ]
  },
  {
   "cell_type": "code",
   "execution_count": 231,
   "id": "02fbaef8-098a-454b-a62b-b8ae54e9a638",
   "metadata": {},
   "outputs": [
    {
     "data": {
      "text/html": [
       "<table class=\"dataframe\">\n",
       "<caption>A tibble: 2 × 2</caption>\n",
       "<thead>\n",
       "\t<tr><th scope=col>Calories == 0</th><th scope=col>n</th></tr>\n",
       "\t<tr><th scope=col>&lt;lgl&gt;</th><th scope=col>&lt;int&gt;</th></tr>\n",
       "</thead>\n",
       "<tbody>\n",
       "\t<tr><td>FALSE</td><td>936</td></tr>\n",
       "\t<tr><td> TRUE</td><td>  4</td></tr>\n",
       "</tbody>\n",
       "</table>\n"
      ],
      "text/latex": [
       "A tibble: 2 × 2\n",
       "\\begin{tabular}{ll}\n",
       " Calories == 0 & n\\\\\n",
       " <lgl> & <int>\\\\\n",
       "\\hline\n",
       "\t FALSE & 936\\\\\n",
       "\t  TRUE &   4\\\\\n",
       "\\end{tabular}\n"
      ],
      "text/markdown": [
       "\n",
       "A tibble: 2 × 2\n",
       "\n",
       "| Calories == 0 &lt;lgl&gt; | n &lt;int&gt; |\n",
       "|---|---|\n",
       "| FALSE | 936 |\n",
       "|  TRUE |   4 |\n",
       "\n"
      ],
      "text/plain": [
       "  Calories == 0 n  \n",
       "1 FALSE         936\n",
       "2  TRUE           4"
      ]
     },
     "metadata": {},
     "output_type": "display_data"
    }
   ],
   "source": [
    "count(dailyActivity_merged, Calories == 0)"
   ]
  },
  {
   "cell_type": "code",
   "execution_count": null,
   "id": "a36997b4-9126-49b6-8f81-4e22537bee2c",
   "metadata": {},
   "outputs": [],
   "source": []
  },
  {
   "cell_type": "code",
   "execution_count": 249,
   "id": "4d29dd42-e8b8-42c6-8bed-d37e0f848b18",
   "metadata": {},
   "outputs": [],
   "source": [
    "rm(list=ls())\n"
   ]
  },
  {
   "cell_type": "code",
   "execution_count": null,
   "id": "1919b0ab-1b6d-484a-9228-468e3dd33b4a",
   "metadata": {},
   "outputs": [],
   "source": []
  }
 ],
 "metadata": {
  "kernelspec": {
   "display_name": "R",
   "language": "R",
   "name": "ir"
  },
  "language_info": {
   "codemirror_mode": "r",
   "file_extension": ".r",
   "mimetype": "text/x-r-source",
   "name": "R",
   "pygments_lexer": "r",
   "version": "4.1.3"
  }
 },
 "nbformat": 4,
 "nbformat_minor": 5
}
