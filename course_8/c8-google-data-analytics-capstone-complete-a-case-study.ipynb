{
 "cells": [
  {
   "cell_type": "markdown",
   "id": "9e5467ee-83c5-4359-a82a-59761d0c9141",
   "metadata": {},
   "source": [
    "# Course 8 - Google Data Analytics Capstone: Complete a Case Study"
   ]
  },
  {
   "cell_type": "markdown",
   "id": "77ac929f-a3b3-4265-b546-f047343fa5df",
   "metadata": {
    "tags": []
   },
   "source": [
    "## Week 5 - Create R Markdown documents"
   ]
  },
  {
   "cell_type": "markdown",
   "id": "24f76314-9a5f-4775-870b-2c22363683c1",
   "metadata": {
    "tags": []
   },
   "source": [
    "###"
   ]
  },
  {
   "cell_type": "markdown",
   "id": "aa899683-f478-479a-bf48-368d8acf31bd",
   "metadata": {},
   "source": []
  },
  {
   "cell_type": "code",
   "execution_count": null,
   "id": "b918da3c-19c6-48c1-b6c4-e21f96320f4c",
   "metadata": {},
   "outputs": [],
   "source": []
  },
  {
   "cell_type": "markdown",
   "id": "192818c6-16bc-4283-b309-b72be5f34c77",
   "metadata": {
    "tags": []
   },
   "source": [
    "###"
   ]
  },
  {
   "cell_type": "markdown",
   "id": "9bbb03be-db85-4ca9-a035-ceaf380a60af",
   "metadata": {},
   "source": []
  },
  {
   "cell_type": "code",
   "execution_count": null,
   "id": "d7219770-f49e-4800-a149-91e93290c7c5",
   "metadata": {},
   "outputs": [],
   "source": []
  },
  {
   "cell_type": "markdown",
   "id": "4596c6a4-7f10-4ca9-9705-59a3713970c4",
   "metadata": {
    "tags": []
   },
   "source": [
    "## Week 5 - Understand code chunks and exports"
   ]
  },
  {
   "cell_type": "markdown",
   "id": "472a3328-03e9-4573-bdfd-89214b775802",
   "metadata": {
    "tags": []
   },
   "source": [
    "###"
   ]
  },
  {
   "cell_type": "markdown",
   "id": "55e81ad4-f220-44d0-a2db-0c99ef24cec6",
   "metadata": {},
   "source": []
  },
  {
   "cell_type": "code",
   "execution_count": null,
   "id": "8aedb124-73dc-410c-a4e5-91e85f29f1ee",
   "metadata": {},
   "outputs": [],
   "source": []
  },
  {
   "cell_type": "markdown",
   "id": "8d68cc6e-f4bf-40a4-998a-001fc703ddc3",
   "metadata": {
    "jp-MarkdownHeadingCollapsed": true,
    "tags": []
   },
   "source": [
    "###"
   ]
  },
  {
   "cell_type": "markdown",
   "id": "75bf0687-65b5-4930-b39f-646cba7b394b",
   "metadata": {},
   "source": []
  },
  {
   "cell_type": "code",
   "execution_count": null,
   "id": "0c0f5191-39fe-4c97-a5d7-27fda8305738",
   "metadata": {},
   "outputs": [],
   "source": []
  }
 ],
 "metadata": {
  "kernelspec": {
   "display_name": "R",
   "language": "R",
   "name": "ir"
  },
  "language_info": {
   "codemirror_mode": "r",
   "file_extension": ".r",
   "mimetype": "text/x-r-source",
   "name": "R",
   "pygments_lexer": "r",
   "version": "4.1.3"
  }
 },
 "nbformat": 4,
 "nbformat_minor": 5
}
