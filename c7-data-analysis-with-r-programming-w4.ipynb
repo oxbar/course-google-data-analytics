{
 "cells": [
  {
   "cell_type": "markdown",
   "id": "9e5467ee-83c5-4359-a82a-59761d0c9141",
   "metadata": {},
   "source": [
    "# Course 7 - Data Analysis with R Programming"
   ]
  },
  {
   "cell_type": "markdown",
   "id": "74cd5604-8137-43d0-b93c-55ce4421da46",
   "metadata": {
    "tags": []
   },
   "source": [
    "## Week 4 - Create data visualizations in R"
   ]
  },
  {
   "cell_type": "markdown",
   "id": "7eccaea8-d3e5-49b1-8a97-207b27b5618b",
   "metadata": {
    "tags": []
   },
   "source": [
    "### Visualizations in R"
   ]
  },
  {
   "cell_type": "markdown",
   "id": "16edb0be-9590-44a9-b3e5-359734e90a1b",
   "metadata": {},
   "source": []
  },
  {
   "cell_type": "code",
   "execution_count": null,
   "id": "30feddc9-5952-4d1f-b92f-617a2b6eeebf",
   "metadata": {},
   "outputs": [],
   "source": []
  },
  {
   "cell_type": "markdown",
   "id": "674628d7-b336-42c2-92b3-f46f89037ffc",
   "metadata": {},
   "source": []
  },
  {
   "cell_type": "code",
   "execution_count": null,
   "id": "be904f6f-9d32-4f87-96e5-10e8bb7e61dd",
   "metadata": {},
   "outputs": [],
   "source": []
  },
  {
   "cell_type": "markdown",
   "id": "b4154a50-ed2d-4da1-97dc-8c658f7778ab",
   "metadata": {
    "tags": []
   },
   "source": [
    "### Visualization basics in R and tidyverse"
   ]
  },
  {
   "cell_type": "markdown",
   "id": "b9d5b983-1ef9-45e7-bf30-414ceab6ec83",
   "metadata": {},
   "source": []
  },
  {
   "cell_type": "code",
   "execution_count": null,
   "id": "c11f75ab-eee7-4349-9f8f-24ef66c1ed7d",
   "metadata": {},
   "outputs": [],
   "source": []
  },
  {
   "cell_type": "markdown",
   "id": "75d63934-117f-44a9-acae-28d68cfcdeb8",
   "metadata": {},
   "source": []
  },
  {
   "cell_type": "code",
   "execution_count": null,
   "id": "97d3e8c6-11ca-40ef-814f-4c7b8b4e55b7",
   "metadata": {},
   "outputs": [],
   "source": []
  },
  {
   "cell_type": "markdown",
   "id": "de1f2ae0-a8c9-4f0e-a6ba-f35315ffcd92",
   "metadata": {
    "tags": []
   },
   "source": [
    "### Getting started with ggplot()"
   ]
  },
  {
   "cell_type": "markdown",
   "id": "dfe079a1-9ee7-4b27-9fa0-a8e2c8ed67e9",
   "metadata": {},
   "source": []
  },
  {
   "cell_type": "code",
   "execution_count": null,
   "id": "0b3df801-0a73-4fff-aafd-146298705f5b",
   "metadata": {},
   "outputs": [],
   "source": []
  },
  {
   "cell_type": "markdown",
   "id": "bbc2d6e2-35b5-470a-a22c-2cf56655631c",
   "metadata": {},
   "source": []
  },
  {
   "cell_type": "code",
   "execution_count": null,
   "id": "b183a80f-9d18-4417-8d04-7ea34f935b49",
   "metadata": {},
   "outputs": [],
   "source": []
  },
  {
   "cell_type": "markdown",
   "id": "31163936-3846-431f-8dc4-9833fa021860",
   "metadata": {
    "tags": []
   },
   "source": [
    "## Week 4 - Explore aesthetics in analysis"
   ]
  },
  {
   "cell_type": "markdown",
   "id": "841e5fdd-4a0d-4dd3-88fb-ecb72e451642",
   "metadata": {
    "tags": []
   },
   "source": [
    "### "
   ]
  },
  {
   "cell_type": "markdown",
   "id": "acb1e2cb-a407-425e-87b0-0ed65a172367",
   "metadata": {},
   "source": []
  },
  {
   "cell_type": "code",
   "execution_count": null,
   "id": "76d11249-2c84-467c-b5b5-46a5d7beb1e5",
   "metadata": {},
   "outputs": [],
   "source": []
  },
  {
   "cell_type": "markdown",
   "id": "31e958de-5dae-419b-9b26-25386e5313ef",
   "metadata": {},
   "source": []
  },
  {
   "cell_type": "code",
   "execution_count": null,
   "id": "cd58a776-9024-4e22-afa0-74743eab6c75",
   "metadata": {},
   "outputs": [],
   "source": []
  },
  {
   "cell_type": "markdown",
   "id": "604d94f3-ccb1-4153-a7d0-5655339b335a",
   "metadata": {},
   "source": [
    "###"
   ]
  },
  {
   "cell_type": "markdown",
   "id": "fc6bb0d8-1275-4051-a360-4ef938b8ec56",
   "metadata": {},
   "source": []
  },
  {
   "cell_type": "code",
   "execution_count": null,
   "id": "464f74d4-cb7b-4c9e-a217-efc81d8c7d15",
   "metadata": {},
   "outputs": [],
   "source": []
  },
  {
   "cell_type": "markdown",
   "id": "afebb489-a0bf-43aa-b7c5-8413db200bb8",
   "metadata": {},
   "source": []
  },
  {
   "cell_type": "code",
   "execution_count": null,
   "id": "ce58992c-636d-4edb-b93c-3b70b4cb9ab2",
   "metadata": {},
   "outputs": [],
   "source": []
  },
  {
   "cell_type": "markdown",
   "id": "b47414df-6cb0-4ffc-91a8-6f67a1986633",
   "metadata": {
    "tags": []
   },
   "source": [
    "## Annotate and save visualizations"
   ]
  },
  {
   "cell_type": "markdown",
   "id": "89dc6576-2482-4674-aa6d-614749b19ec9",
   "metadata": {},
   "source": [
    "###"
   ]
  },
  {
   "cell_type": "markdown",
   "id": "e2f7a511-4166-4c18-9fd4-1fd345fce11c",
   "metadata": {},
   "source": []
  },
  {
   "cell_type": "code",
   "execution_count": null,
   "id": "7065b8a1-585b-41c5-b469-6c45a8fc03d3",
   "metadata": {},
   "outputs": [],
   "source": []
  },
  {
   "cell_type": "markdown",
   "id": "0dec7deb-04aa-4e93-bc34-dd093eaace9d",
   "metadata": {},
   "source": []
  },
  {
   "cell_type": "code",
   "execution_count": null,
   "id": "fd5faf80-1053-4558-a074-2e97c8f8a701",
   "metadata": {},
   "outputs": [],
   "source": []
  },
  {
   "cell_type": "markdown",
   "id": "ade8a4d2-9458-4919-b1fa-20c4a8556e28",
   "metadata": {},
   "source": [
    "###"
   ]
  },
  {
   "cell_type": "markdown",
   "id": "dec28efb-bfad-43f7-9d0b-6e50972e6bae",
   "metadata": {},
   "source": []
  },
  {
   "cell_type": "code",
   "execution_count": null,
   "id": "ae9d6a5b-07d6-407f-9f66-3c26fafea937",
   "metadata": {},
   "outputs": [],
   "source": []
  },
  {
   "cell_type": "markdown",
   "id": "928bfdfa-f978-451f-a237-bbd0f4e86a15",
   "metadata": {},
   "source": []
  },
  {
   "cell_type": "code",
   "execution_count": null,
   "id": "1416432b-7b59-408e-9d83-a1046f8075dc",
   "metadata": {},
   "outputs": [],
   "source": []
  }
 ],
 "metadata": {
  "kernelspec": {
   "display_name": "R",
   "language": "R",
   "name": "ir"
  },
  "language_info": {
   "codemirror_mode": "r",
   "file_extension": ".r",
   "mimetype": "text/x-r-source",
   "name": "R",
   "pygments_lexer": "r",
   "version": "4.1.3"
  }
 },
 "nbformat": 4,
 "nbformat_minor": 5
}
