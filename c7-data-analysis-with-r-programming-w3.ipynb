{
 "cells": [
  {
   "cell_type": "markdown",
   "id": "9e5467ee-83c5-4359-a82a-59761d0c9141",
   "metadata": {},
   "source": [
    "# Course 7 - Data Analysis with R Programming"
   ]
  },
  {
   "cell_type": "markdown",
   "id": "74cd5604-8137-43d0-b93c-55ce4421da46",
   "metadata": {
    "tags": []
   },
   "source": [
    "## Week 3 - Cleaning Data"
   ]
  },
  {
   "cell_type": "markdown",
   "id": "7eccaea8-d3e5-49b1-8a97-207b27b5618b",
   "metadata": {
    "jp-MarkdownHeadingCollapsed": true,
    "tags": []
   },
   "source": [
    "### Cleaning up with the basics"
   ]
  },
  {
   "cell_type": "code",
   "execution_count": null,
   "id": "1a17a2cc-879e-426b-8676-40c3b3b0bc6d",
   "metadata": {
    "tags": []
   },
   "outputs": [],
   "source": [
    "install.packages(\"here\")\n",
    "library(\"here\")\n",
    "install.packages(\"skimr\")\n",
    "library(\"skimr\")\n",
    "install.packages(\"janitor\")\n",
    "library(\"janitor\")\n",
    "install.packages(\"dplyr\")\n",
    "library(\"dplyr\")"
   ]
  },
  {
   "cell_type": "code",
   "execution_count": null,
   "id": "0ec895ec-501b-4181-820e-3e9ac52f11f7",
   "metadata": {
    "tags": []
   },
   "outputs": [],
   "source": [
    "install.packages(\"palmerpenguins\")\n",
    "library(\"palmerpenguins\")"
   ]
  },
  {
   "cell_type": "markdown",
   "id": "8e10293a-7749-4909-8b9f-897203679f3b",
   "metadata": {},
   "source": [
    "The skim_without_charts function gives us a comprehensive summary of a dataset (via skimr package)."
   ]
  },
  {
   "cell_type": "code",
   "execution_count": 49,
   "id": "d2ed4b40-0167-4432-89cb-38f557d0fec1",
   "metadata": {
    "tags": []
   },
   "outputs": [
    {
     "data": {
      "text/html": [
       "<table class=\"dataframe\">\n",
       "<caption>A skim_df: 8 × 14</caption>\n",
       "<thead>\n",
       "\t<tr><th></th><th scope=col>skim_type</th><th scope=col>skim_variable</th><th scope=col>n_missing</th><th scope=col>complete_rate</th><th scope=col>factor.ordered</th><th scope=col>factor.n_unique</th><th scope=col>factor.top_counts</th><th scope=col>numeric.mean</th><th scope=col>numeric.sd</th><th scope=col>numeric.p0</th><th scope=col>numeric.p25</th><th scope=col>numeric.p50</th><th scope=col>numeric.p75</th><th scope=col>numeric.p100</th></tr>\n",
       "\t<tr><th></th><th scope=col>&lt;chr&gt;</th><th scope=col>&lt;chr&gt;</th><th scope=col>&lt;int&gt;</th><th scope=col>&lt;dbl&gt;</th><th scope=col>&lt;lgl&gt;</th><th scope=col>&lt;int&gt;</th><th scope=col>&lt;chr&gt;</th><th scope=col>&lt;dbl&gt;</th><th scope=col>&lt;dbl&gt;</th><th scope=col>&lt;dbl&gt;</th><th scope=col>&lt;dbl&gt;</th><th scope=col>&lt;dbl&gt;</th><th scope=col>&lt;dbl&gt;</th><th scope=col>&lt;dbl&gt;</th></tr>\n",
       "</thead>\n",
       "<tbody>\n",
       "\t<tr><th scope=row>1</th><td>factor </td><td>species          </td><td> 0</td><td>1.0000000</td><td>FALSE</td><td> 3</td><td>Ade: 152, Gen: 124, Chi: 68</td><td>        NA</td><td>         NA</td><td>    NA</td><td>      NA</td><td>     NA</td><td>    NA</td><td>    NA</td></tr>\n",
       "\t<tr><th scope=row>2</th><td>factor </td><td>island           </td><td> 0</td><td>1.0000000</td><td>FALSE</td><td> 3</td><td>Bis: 168, Dre: 124, Tor: 52</td><td>        NA</td><td>         NA</td><td>    NA</td><td>      NA</td><td>     NA</td><td>    NA</td><td>    NA</td></tr>\n",
       "\t<tr><th scope=row>3</th><td>factor </td><td>sex              </td><td>11</td><td>0.9680233</td><td>FALSE</td><td> 2</td><td>mal: 168, fem: 165         </td><td>        NA</td><td>         NA</td><td>    NA</td><td>      NA</td><td>     NA</td><td>    NA</td><td>    NA</td></tr>\n",
       "\t<tr><th scope=row>4</th><td>numeric</td><td>bill_length_mm   </td><td> 2</td><td>0.9941860</td><td>   NA</td><td>NA</td><td>NA                         </td><td>  43.92193</td><td>  5.4595837</td><td>  32.1</td><td>  39.225</td><td>  44.45</td><td>  48.5</td><td>  59.6</td></tr>\n",
       "\t<tr><th scope=row>5</th><td>numeric</td><td>bill_depth_mm    </td><td> 2</td><td>0.9941860</td><td>   NA</td><td>NA</td><td>NA                         </td><td>  17.15117</td><td>  1.9747932</td><td>  13.1</td><td>  15.600</td><td>  17.30</td><td>  18.7</td><td>  21.5</td></tr>\n",
       "\t<tr><th scope=row>6</th><td>numeric</td><td>flipper_length_mm</td><td> 2</td><td>0.9941860</td><td>   NA</td><td>NA</td><td>NA                         </td><td> 200.91520</td><td> 14.0617137</td><td> 172.0</td><td> 190.000</td><td> 197.00</td><td> 213.0</td><td> 231.0</td></tr>\n",
       "\t<tr><th scope=row>7</th><td>numeric</td><td>body_mass_g      </td><td> 2</td><td>0.9941860</td><td>   NA</td><td>NA</td><td>NA                         </td><td>4201.75439</td><td>801.9545357</td><td>2700.0</td><td>3550.000</td><td>4050.00</td><td>4750.0</td><td>6300.0</td></tr>\n",
       "\t<tr><th scope=row>8</th><td>numeric</td><td>year             </td><td> 0</td><td>1.0000000</td><td>   NA</td><td>NA</td><td>NA                         </td><td>2008.02907</td><td>  0.8183559</td><td>2007.0</td><td>2007.000</td><td>2008.00</td><td>2009.0</td><td>2009.0</td></tr>\n",
       "</tbody>\n",
       "</table>\n"
      ],
      "text/latex": [
       "A skim\\_df: 8 × 14\n",
       "\\begin{tabular}{r|llllllllllllll}\n",
       "  & skim\\_type & skim\\_variable & n\\_missing & complete\\_rate & factor.ordered & factor.n\\_unique & factor.top\\_counts & numeric.mean & numeric.sd & numeric.p0 & numeric.p25 & numeric.p50 & numeric.p75 & numeric.p100\\\\\n",
       "  & <chr> & <chr> & <int> & <dbl> & <lgl> & <int> & <chr> & <dbl> & <dbl> & <dbl> & <dbl> & <dbl> & <dbl> & <dbl>\\\\\n",
       "\\hline\n",
       "\t1 & factor  & species           &  0 & 1.0000000 & FALSE &  3 & Ade: 152, Gen: 124, Chi: 68 &         NA &          NA &     NA &       NA &      NA &     NA &     NA\\\\\n",
       "\t2 & factor  & island            &  0 & 1.0000000 & FALSE &  3 & Bis: 168, Dre: 124, Tor: 52 &         NA &          NA &     NA &       NA &      NA &     NA &     NA\\\\\n",
       "\t3 & factor  & sex               & 11 & 0.9680233 & FALSE &  2 & mal: 168, fem: 165          &         NA &          NA &     NA &       NA &      NA &     NA &     NA\\\\\n",
       "\t4 & numeric & bill\\_length\\_mm    &  2 & 0.9941860 &    NA & NA & NA                          &   43.92193 &   5.4595837 &   32.1 &   39.225 &   44.45 &   48.5 &   59.6\\\\\n",
       "\t5 & numeric & bill\\_depth\\_mm     &  2 & 0.9941860 &    NA & NA & NA                          &   17.15117 &   1.9747932 &   13.1 &   15.600 &   17.30 &   18.7 &   21.5\\\\\n",
       "\t6 & numeric & flipper\\_length\\_mm &  2 & 0.9941860 &    NA & NA & NA                          &  200.91520 &  14.0617137 &  172.0 &  190.000 &  197.00 &  213.0 &  231.0\\\\\n",
       "\t7 & numeric & body\\_mass\\_g       &  2 & 0.9941860 &    NA & NA & NA                          & 4201.75439 & 801.9545357 & 2700.0 & 3550.000 & 4050.00 & 4750.0 & 6300.0\\\\\n",
       "\t8 & numeric & year              &  0 & 1.0000000 &    NA & NA & NA                          & 2008.02907 &   0.8183559 & 2007.0 & 2007.000 & 2008.00 & 2009.0 & 2009.0\\\\\n",
       "\\end{tabular}\n"
      ],
      "text/markdown": [
       "\n",
       "A skim_df: 8 × 14\n",
       "\n",
       "| <!--/--> | skim_type &lt;chr&gt; | skim_variable &lt;chr&gt; | n_missing &lt;int&gt; | complete_rate &lt;dbl&gt; | factor.ordered &lt;lgl&gt; | factor.n_unique &lt;int&gt; | factor.top_counts &lt;chr&gt; | numeric.mean &lt;dbl&gt; | numeric.sd &lt;dbl&gt; | numeric.p0 &lt;dbl&gt; | numeric.p25 &lt;dbl&gt; | numeric.p50 &lt;dbl&gt; | numeric.p75 &lt;dbl&gt; | numeric.p100 &lt;dbl&gt; |\n",
       "|---|---|---|---|---|---|---|---|---|---|---|---|---|---|---|\n",
       "| 1 | factor  | species           |  0 | 1.0000000 | FALSE |  3 | Ade: 152, Gen: 124, Chi: 68 |         NA |          NA |     NA |       NA |      NA |     NA |     NA |\n",
       "| 2 | factor  | island            |  0 | 1.0000000 | FALSE |  3 | Bis: 168, Dre: 124, Tor: 52 |         NA |          NA |     NA |       NA |      NA |     NA |     NA |\n",
       "| 3 | factor  | sex               | 11 | 0.9680233 | FALSE |  2 | mal: 168, fem: 165          |         NA |          NA |     NA |       NA |      NA |     NA |     NA |\n",
       "| 4 | numeric | bill_length_mm    |  2 | 0.9941860 |    NA | NA | NA                          |   43.92193 |   5.4595837 |   32.1 |   39.225 |   44.45 |   48.5 |   59.6 |\n",
       "| 5 | numeric | bill_depth_mm     |  2 | 0.9941860 |    NA | NA | NA                          |   17.15117 |   1.9747932 |   13.1 |   15.600 |   17.30 |   18.7 |   21.5 |\n",
       "| 6 | numeric | flipper_length_mm |  2 | 0.9941860 |    NA | NA | NA                          |  200.91520 |  14.0617137 |  172.0 |  190.000 |  197.00 |  213.0 |  231.0 |\n",
       "| 7 | numeric | body_mass_g       |  2 | 0.9941860 |    NA | NA | NA                          | 4201.75439 | 801.9545357 | 2700.0 | 3550.000 | 4050.00 | 4750.0 | 6300.0 |\n",
       "| 8 | numeric | year              |  0 | 1.0000000 |    NA | NA | NA                          | 2008.02907 |   0.8183559 | 2007.0 | 2007.000 | 2008.00 | 2009.0 | 2009.0 |\n",
       "\n"
      ],
      "text/plain": {
       "factor": [
        {
         "complete_rate": 1,
         "n_missing": 0,
         "n_unique": 3,
         "ordered": false,
         "skim_variable": "species",
         "top_counts": "Ade: 152, Gen: 124, Chi: 68"
        },
        {
         "complete_rate": 1,
         "n_missing": 0,
         "n_unique": 3,
         "ordered": false,
         "skim_variable": "island",
         "top_counts": "Bis: 168, Dre: 124, Tor: 52"
        },
        {
         "complete_rate": 0.968,
         "n_missing": 11,
         "n_unique": 2,
         "ordered": false,
         "skim_variable": "sex",
         "top_counts": "mal: 168, fem: 165"
        }
       ],
       "numeric": [
        {
         "complete_rate": 0.9942,
         "mean": 43.9219,
         "n_missing": 2,
         "p0": 32.1,
         "p100": 59.6,
         "p25": 39.225,
         "p50": 44.45,
         "p75": 48.5,
         "sd": 5.4596,
         "skim_variable": "bill_length_mm"
        },
        {
         "complete_rate": 0.9942,
         "mean": 17.1512,
         "n_missing": 2,
         "p0": 13.1,
         "p100": 21.5,
         "p25": 15.6,
         "p50": 17.3,
         "p75": 18.7,
         "sd": 1.9748,
         "skim_variable": "bill_depth_mm"
        },
        {
         "complete_rate": 0.9942,
         "mean": 200.9152,
         "n_missing": 2,
         "p0": 172,
         "p100": 231,
         "p25": 190,
         "p50": 197,
         "p75": 213,
         "sd": 14.0617,
         "skim_variable": "flipper_length_mm"
        },
        {
         "complete_rate": 0.9942,
         "mean": 4201.7544,
         "n_missing": 2,
         "p0": 2700,
         "p100": 6300,
         "p25": 3550,
         "p50": 4050,
         "p75": 4750,
         "sd": 801.9545,
         "skim_variable": "body_mass_g"
        },
        {
         "complete_rate": 1,
         "mean": 2008.0291,
         "n_missing": 0,
         "p0": 2007,
         "p100": 2009,
         "p25": 2007,
         "p50": 2008,
         "p75": 2009,
         "sd": 0.8184,
         "skim_variable": "year"
        }
       ]
      }
     },
     "metadata": {},
     "output_type": "display_data"
    },
    {
     "name": "stdout",
     "output_type": "stream",
     "text": [
      "-- Data Summary ------------------------\n",
      "                           Values  \n",
      "Name                       penguins\n",
      "Number of rows             344     \n",
      "Number of columns          8       \n",
      "_______________________            \n",
      "Column type frequency:             \n",
      "  factor                   3       \n",
      "  numeric                  5       \n",
      "________________________           \n",
      "Group variables            None    \n",
      "\n",
      "-- Variable type: factor -------------------------------------------------------\n",
      "  skim_variable n_missing complete_rate ordered n_unique\n",
      "\u001b[90m1\u001b[39m species               0         1     FALSE          3\n",
      "\u001b[90m2\u001b[39m island                0         1     FALSE          3\n",
      "\u001b[90m3\u001b[39m sex                  11         0.968 FALSE          2\n",
      "  top_counts                 \n",
      "\u001b[90m1\u001b[39m Ade: 152, Gen: 124, Chi: 68\n",
      "\u001b[90m2\u001b[39m Bis: 168, Dre: 124, Tor: 52\n",
      "\u001b[90m3\u001b[39m mal: 168, fem: 165         \n",
      "\n",
      "-- Variable type: numeric ------------------------------------------------------\n",
      "  skim_variable     n_missing complete_rate   mean      sd     p0    p25    p50\n",
      "\u001b[90m1\u001b[39m bill_length_mm            2         0.994   43.9   5.46    32.1   39.2   44.4\n",
      "\u001b[90m2\u001b[39m bill_depth_mm             2         0.994   17.2   1.97    13.1   15.6   17.3\n",
      "\u001b[90m3\u001b[39m flipper_length_mm         2         0.994  201.   14.1    172    190    197  \n",
      "\u001b[90m4\u001b[39m body_mass_g               2         0.994 \u001b[4m4\u001b[24m202.  802.    \u001b[4m2\u001b[24m700   \u001b[4m3\u001b[24m550   \u001b[4m4\u001b[24m050  \n",
      "\u001b[90m5\u001b[39m year                      0         1     \u001b[4m2\u001b[24m008.    0.818 \u001b[4m2\u001b[24m007   \u001b[4m2\u001b[24m007   \u001b[4m2\u001b[24m008  \n",
      "     p75   p100\n",
      "\u001b[90m1\u001b[39m   48.5   59.6\n",
      "\u001b[90m2\u001b[39m   18.7   21.5\n",
      "\u001b[90m3\u001b[39m  213    231  \n",
      "\u001b[90m4\u001b[39m \u001b[4m4\u001b[24m750   \u001b[4m6\u001b[24m300  \n",
      "\u001b[90m5\u001b[39m \u001b[4m2\u001b[24m009   \u001b[4m2\u001b[24m009  \n"
     ]
    }
   ],
   "source": [
    "skim_without_charts(penguins)"
   ]
  },
  {
   "cell_type": "markdown",
   "id": "db246811-17b8-49db-91eb-e1078cfe9c48",
   "metadata": {},
   "source": [
    "The glimpse function gives us a quick idea of the dataset (via dplyr package)."
   ]
  },
  {
   "cell_type": "code",
   "execution_count": 50,
   "id": "51b2730e-fc14-4808-8c0c-60cbacb6295c",
   "metadata": {
    "tags": []
   },
   "outputs": [
    {
     "name": "stdout",
     "output_type": "stream",
     "text": [
      "Rows: 344\n",
      "Columns: 8\n",
      "$ species           \u001b[3m\u001b[90m<fct>\u001b[39m\u001b[23m Gentoo, Chinstrap, Gentoo, Chinstrap, Gentoo, Gentoo~\n",
      "$ island            \u001b[3m\u001b[90m<fct>\u001b[39m\u001b[23m Biscoe, Dream, Biscoe, Dream, Biscoe, Biscoe, Dream,~\n",
      "$ bill_length_mm    \u001b[3m\u001b[90m<dbl>\u001b[39m\u001b[23m 59.6, 58.0, 55.9, 55.8, 55.1, 54.3, 54.2, 53.5, 53.4~\n",
      "$ bill_depth_mm     \u001b[3m\u001b[90m<dbl>\u001b[39m\u001b[23m 17.0, 17.8, 17.0, 19.8, 16.0, 15.7, 20.8, 19.9, 15.8~\n",
      "$ flipper_length_mm \u001b[3m\u001b[90m<int>\u001b[39m\u001b[23m 230, 181, 228, 207, 230, 231, 201, 205, 219, 205, 19~\n",
      "$ body_mass_g       \u001b[3m\u001b[90m<int>\u001b[39m\u001b[23m 6050, 3700, 5600, 4000, 5850, 5650, 4300, 4500, 5500~\n",
      "$ sex               \u001b[3m\u001b[90m<fct>\u001b[39m\u001b[23m male, female, male, male, male, male, male, male, ma~\n",
      "$ year              \u001b[3m\u001b[90m<int>\u001b[39m\u001b[23m 2007, 2007, 2009, 2009, 2009, 2008, 2008, 2008, 2009~\n"
     ]
    }
   ],
   "source": [
    "glimpse(penguins)"
   ]
  },
  {
   "cell_type": "markdown",
   "id": "038a34b3-042f-4f41-92ee-b24b60601e0b",
   "metadata": {},
   "source": [
    "The head function gives us a preview of the column names and first few rows of data."
   ]
  },
  {
   "cell_type": "code",
   "execution_count": 51,
   "id": "8b4556f0-531c-47d4-b960-2a08fa43edf9",
   "metadata": {},
   "outputs": [
    {
     "data": {
      "text/html": [
       "<table class=\"dataframe\">\n",
       "<caption>A tibble: 6 × 8</caption>\n",
       "<thead>\n",
       "\t<tr><th scope=col>species</th><th scope=col>island</th><th scope=col>bill_length_mm</th><th scope=col>bill_depth_mm</th><th scope=col>flipper_length_mm</th><th scope=col>body_mass_g</th><th scope=col>sex</th><th scope=col>year</th></tr>\n",
       "\t<tr><th scope=col>&lt;fct&gt;</th><th scope=col>&lt;fct&gt;</th><th scope=col>&lt;dbl&gt;</th><th scope=col>&lt;dbl&gt;</th><th scope=col>&lt;int&gt;</th><th scope=col>&lt;int&gt;</th><th scope=col>&lt;fct&gt;</th><th scope=col>&lt;int&gt;</th></tr>\n",
       "</thead>\n",
       "<tbody>\n",
       "\t<tr><td>Gentoo   </td><td>Biscoe</td><td>59.6</td><td>17.0</td><td>230</td><td>6050</td><td>male  </td><td>2007</td></tr>\n",
       "\t<tr><td>Chinstrap</td><td>Dream </td><td>58.0</td><td>17.8</td><td>181</td><td>3700</td><td>female</td><td>2007</td></tr>\n",
       "\t<tr><td>Gentoo   </td><td>Biscoe</td><td>55.9</td><td>17.0</td><td>228</td><td>5600</td><td>male  </td><td>2009</td></tr>\n",
       "\t<tr><td>Chinstrap</td><td>Dream </td><td>55.8</td><td>19.8</td><td>207</td><td>4000</td><td>male  </td><td>2009</td></tr>\n",
       "\t<tr><td>Gentoo   </td><td>Biscoe</td><td>55.1</td><td>16.0</td><td>230</td><td>5850</td><td>male  </td><td>2009</td></tr>\n",
       "\t<tr><td>Gentoo   </td><td>Biscoe</td><td>54.3</td><td>15.7</td><td>231</td><td>5650</td><td>male  </td><td>2008</td></tr>\n",
       "</tbody>\n",
       "</table>\n"
      ],
      "text/latex": [
       "A tibble: 6 × 8\n",
       "\\begin{tabular}{llllllll}\n",
       " species & island & bill\\_length\\_mm & bill\\_depth\\_mm & flipper\\_length\\_mm & body\\_mass\\_g & sex & year\\\\\n",
       " <fct> & <fct> & <dbl> & <dbl> & <int> & <int> & <fct> & <int>\\\\\n",
       "\\hline\n",
       "\t Gentoo    & Biscoe & 59.6 & 17.0 & 230 & 6050 & male   & 2007\\\\\n",
       "\t Chinstrap & Dream  & 58.0 & 17.8 & 181 & 3700 & female & 2007\\\\\n",
       "\t Gentoo    & Biscoe & 55.9 & 17.0 & 228 & 5600 & male   & 2009\\\\\n",
       "\t Chinstrap & Dream  & 55.8 & 19.8 & 207 & 4000 & male   & 2009\\\\\n",
       "\t Gentoo    & Biscoe & 55.1 & 16.0 & 230 & 5850 & male   & 2009\\\\\n",
       "\t Gentoo    & Biscoe & 54.3 & 15.7 & 231 & 5650 & male   & 2008\\\\\n",
       "\\end{tabular}\n"
      ],
      "text/markdown": [
       "\n",
       "A tibble: 6 × 8\n",
       "\n",
       "| species &lt;fct&gt; | island &lt;fct&gt; | bill_length_mm &lt;dbl&gt; | bill_depth_mm &lt;dbl&gt; | flipper_length_mm &lt;int&gt; | body_mass_g &lt;int&gt; | sex &lt;fct&gt; | year &lt;int&gt; |\n",
       "|---|---|---|---|---|---|---|---|\n",
       "| Gentoo    | Biscoe | 59.6 | 17.0 | 230 | 6050 | male   | 2007 |\n",
       "| Chinstrap | Dream  | 58.0 | 17.8 | 181 | 3700 | female | 2007 |\n",
       "| Gentoo    | Biscoe | 55.9 | 17.0 | 228 | 5600 | male   | 2009 |\n",
       "| Chinstrap | Dream  | 55.8 | 19.8 | 207 | 4000 | male   | 2009 |\n",
       "| Gentoo    | Biscoe | 55.1 | 16.0 | 230 | 5850 | male   | 2009 |\n",
       "| Gentoo    | Biscoe | 54.3 | 15.7 | 231 | 5650 | male   | 2008 |\n",
       "\n"
      ],
      "text/plain": [
       "  species   island bill_length_mm bill_depth_mm flipper_length_mm body_mass_g\n",
       "1 Gentoo    Biscoe 59.6           17.0          230               6050       \n",
       "2 Chinstrap Dream  58.0           17.8          181               3700       \n",
       "3 Gentoo    Biscoe 55.9           17.0          228               5600       \n",
       "4 Chinstrap Dream  55.8           19.8          207               4000       \n",
       "5 Gentoo    Biscoe 55.1           16.0          230               5850       \n",
       "6 Gentoo    Biscoe 54.3           15.7          231               5650       \n",
       "  sex    year\n",
       "1 male   2007\n",
       "2 female 2007\n",
       "3 male   2009\n",
       "4 male   2009\n",
       "5 male   2009\n",
       "6 male   2008"
      ]
     },
     "metadata": {},
     "output_type": "display_data"
    }
   ],
   "source": [
    "head(penguins)"
   ]
  },
  {
   "cell_type": "markdown",
   "id": "a89aa270-661c-43ab-ac22-20b8f1d45d9a",
   "metadata": {},
   "source": [
    "To select only one column (via dplyr package):"
   ]
  },
  {
   "cell_type": "code",
   "execution_count": null,
   "id": "02ebed9e-a6c2-47df-bf7c-f215a01b178a",
   "metadata": {},
   "outputs": [],
   "source": [
    "penguins %>%\n",
    "    select (species)"
   ]
  },
  {
   "cell_type": "markdown",
   "id": "74baadb0-edce-4a46-b8b8-fbedc3815bef",
   "metadata": {},
   "source": [
    "To select all columns but one specific (via dplyr package):"
   ]
  },
  {
   "cell_type": "code",
   "execution_count": null,
   "id": "63e8dab7-f27e-4bf4-a77b-062fcd057344",
   "metadata": {},
   "outputs": [],
   "source": [
    "penguins %>%\n",
    "    select (-species)"
   ]
  },
  {
   "cell_type": "markdown",
   "id": "8a358be7-e9d9-4d74-b283-58eab424f885",
   "metadata": {},
   "source": [
    "To rename a column (via dplyr package):"
   ]
  },
  {
   "cell_type": "code",
   "execution_count": null,
   "id": "a2b11f5c-6cc3-4a0c-ae9c-5e240865ab4c",
   "metadata": {},
   "outputs": [],
   "source": [
    "penguins %>%\n",
    "    rename(island_new=island)"
   ]
  },
  {
   "cell_type": "markdown",
   "id": "cacd5861-050e-4c76-b7c4-91867d5cecb6",
   "metadata": {},
   "source": [
    "To change the letter casing of all columns (via dplyr package):"
   ]
  },
  {
   "cell_type": "code",
   "execution_count": null,
   "id": "a59d4eb3-2d34-4178-b7f8-ac7b1213118f",
   "metadata": {},
   "outputs": [],
   "source": [
    "rename_with(penguins,toupper)"
   ]
  },
  {
   "cell_type": "code",
   "execution_count": null,
   "id": "3dad74fd-638d-4b8f-ba07-652e72271153",
   "metadata": {},
   "outputs": [],
   "source": [
    "rename_with(penguins,tolower)"
   ]
  },
  {
   "cell_type": "markdown",
   "id": "d0ecbe74-0f16-46b0-a2c5-d7f079ff53ff",
   "metadata": {},
   "source": [
    "To ensure there are only characters, numbers and underscores in the column names (via janitor package):"
   ]
  },
  {
   "cell_type": "code",
   "execution_count": null,
   "id": "eb185cab-0ab1-4c84-bd62-fdfe2e2cd4fb",
   "metadata": {},
   "outputs": [],
   "source": [
    "clean_names(penguins)"
   ]
  },
  {
   "cell_type": "markdown",
   "id": "b4154a50-ed2d-4da1-97dc-8c658f7778ab",
   "metadata": {
    "jp-MarkdownHeadingCollapsed": true,
    "tags": []
   },
   "source": [
    "### Organize your data"
   ]
  },
  {
   "cell_type": "markdown",
   "id": "c526fa32-f522-4143-90ac-cbb1423b4b8b",
   "metadata": {},
   "source": [
    "To load the core tidyverse package:"
   ]
  },
  {
   "cell_type": "code",
   "execution_count": 53,
   "id": "21fbcc88-9297-4e0f-bc8c-4dc84eb02c90",
   "metadata": {},
   "outputs": [],
   "source": [
    "library(tidyverse)"
   ]
  },
  {
   "cell_type": "markdown",
   "id": "9c968c4e-5132-420e-9dd1-02785f7349c3",
   "metadata": {},
   "source": [
    "To arrange a column in ascending order and output a tibble:"
   ]
  },
  {
   "cell_type": "code",
   "execution_count": null,
   "id": "082e3b79-87ef-4760-83dc-4c405938d52f",
   "metadata": {
    "tags": []
   },
   "outputs": [],
   "source": [
    "penguins %>%\n",
    "    arrange(bill_length_mm)"
   ]
  },
  {
   "cell_type": "markdown",
   "id": "a8b59e44-1e1f-4bb3-bc9c-6118ed8a6012",
   "metadata": {},
   "source": [
    "To arrange a column in descending order:"
   ]
  },
  {
   "cell_type": "code",
   "execution_count": null,
   "id": "24a2246b-6408-4a79-b052-fb2eefcdd3c0",
   "metadata": {
    "tags": []
   },
   "outputs": [],
   "source": [
    "penguins %>%\n",
    "    arrange(-bill_length_mm)"
   ]
  },
  {
   "cell_type": "markdown",
   "id": "ac636152-9e4b-448b-91d8-2ec70a6c049f",
   "metadata": {
    "tags": []
   },
   "source": [
    "To save a new data frame based on grouping in one set of data:"
   ]
  },
  {
   "cell_type": "code",
   "execution_count": 54,
   "id": "4acaaf13-37fc-4043-9dc1-0c15af2796e4",
   "metadata": {},
   "outputs": [],
   "source": [
    "penguins2 <- penguins %>% arrange(-bill_length_mm)\n",
    "view(penguins2)"
   ]
  },
  {
   "cell_type": "markdown",
   "id": "e2811523-997a-4dbd-9f2e-659b73dc2a4e",
   "metadata": {},
   "source": [
    "To arrange the penguin data by island, then remove rows with NA vaules, then summarize all bill length data into a new column with averages for that island."
   ]
  },
  {
   "cell_type": "code",
   "execution_count": 57,
   "id": "db335ca4-a3cc-495e-a296-92439928dcde",
   "metadata": {},
   "outputs": [
    {
     "data": {
      "text/html": [
       "<table class=\"dataframe\">\n",
       "<caption>A tibble: 3 × 2</caption>\n",
       "<thead>\n",
       "\t<tr><th scope=col>island</th><th scope=col>mean_bill_length_mm</th></tr>\n",
       "\t<tr><th scope=col>&lt;fct&gt;</th><th scope=col>&lt;dbl&gt;</th></tr>\n",
       "</thead>\n",
       "<tbody>\n",
       "\t<tr><td>Biscoe   </td><td>45.24847</td></tr>\n",
       "\t<tr><td>Dream    </td><td>44.22195</td></tr>\n",
       "\t<tr><td>Torgersen</td><td>39.03830</td></tr>\n",
       "</tbody>\n",
       "</table>\n"
      ],
      "text/latex": [
       "A tibble: 3 × 2\n",
       "\\begin{tabular}{ll}\n",
       " island & mean\\_bill\\_length\\_mm\\\\\n",
       " <fct> & <dbl>\\\\\n",
       "\\hline\n",
       "\t Biscoe    & 45.24847\\\\\n",
       "\t Dream     & 44.22195\\\\\n",
       "\t Torgersen & 39.03830\\\\\n",
       "\\end{tabular}\n"
      ],
      "text/markdown": [
       "\n",
       "A tibble: 3 × 2\n",
       "\n",
       "| island &lt;fct&gt; | mean_bill_length_mm &lt;dbl&gt; |\n",
       "|---|---|\n",
       "| Biscoe    | 45.24847 |\n",
       "| Dream     | 44.22195 |\n",
       "| Torgersen | 39.03830 |\n",
       "\n"
      ],
      "text/plain": [
       "  island    mean_bill_length_mm\n",
       "1 Biscoe    45.24847           \n",
       "2 Dream     44.22195           \n",
       "3 Torgersen 39.03830           "
      ]
     },
     "metadata": {},
     "output_type": "display_data"
    }
   ],
   "source": [
    "penguins %>% group_by(island) %>% drop_na() %>% summarize(mean_bill_length_mm = mean(bill_length_mm))"
   ]
  },
  {
   "cell_type": "markdown",
   "id": "7cc0d74a-2449-4804-8f6c-25aad50d4242",
   "metadata": {},
   "source": [
    "To arrange the penguin data by island, then remove rows with NA vaules, then summarize all bill length data into a new column with the max for that island:"
   ]
  },
  {
   "cell_type": "code",
   "execution_count": 58,
   "id": "49d55055-0e10-4d13-92dd-10f192977ce3",
   "metadata": {},
   "outputs": [
    {
     "data": {
      "text/html": [
       "<table class=\"dataframe\">\n",
       "<caption>A tibble: 3 × 2</caption>\n",
       "<thead>\n",
       "\t<tr><th scope=col>island</th><th scope=col>max_bill_length_mm</th></tr>\n",
       "\t<tr><th scope=col>&lt;fct&gt;</th><th scope=col>&lt;dbl&gt;</th></tr>\n",
       "</thead>\n",
       "<tbody>\n",
       "\t<tr><td>Biscoe   </td><td>59.6</td></tr>\n",
       "\t<tr><td>Dream    </td><td>58.0</td></tr>\n",
       "\t<tr><td>Torgersen</td><td>46.0</td></tr>\n",
       "</tbody>\n",
       "</table>\n"
      ],
      "text/latex": [
       "A tibble: 3 × 2\n",
       "\\begin{tabular}{ll}\n",
       " island & max\\_bill\\_length\\_mm\\\\\n",
       " <fct> & <dbl>\\\\\n",
       "\\hline\n",
       "\t Biscoe    & 59.6\\\\\n",
       "\t Dream     & 58.0\\\\\n",
       "\t Torgersen & 46.0\\\\\n",
       "\\end{tabular}\n"
      ],
      "text/markdown": [
       "\n",
       "A tibble: 3 × 2\n",
       "\n",
       "| island &lt;fct&gt; | max_bill_length_mm &lt;dbl&gt; |\n",
       "|---|---|\n",
       "| Biscoe    | 59.6 |\n",
       "| Dream     | 58.0 |\n",
       "| Torgersen | 46.0 |\n",
       "\n"
      ],
      "text/plain": [
       "  island    max_bill_length_mm\n",
       "1 Biscoe    59.6              \n",
       "2 Dream     58.0              \n",
       "3 Torgersen 46.0              "
      ]
     },
     "metadata": {},
     "output_type": "display_data"
    }
   ],
   "source": [
    "penguins %>% group_by(island) %>% drop_na() %>% summarize(max_bill_length_mm = max(bill_length_mm))"
   ]
  },
  {
   "cell_type": "markdown",
   "id": "3ee9f0bc-2db1-4047-9933-050c73afeb9a",
   "metadata": {},
   "source": [
    "To sort by species and island, then output two new columns of max bill length and mean bill length."
   ]
  },
  {
   "cell_type": "code",
   "execution_count": 59,
   "id": "5819f7ee-1d3e-49ec-a15c-c6fde07a2194",
   "metadata": {
    "tags": []
   },
   "outputs": [
    {
     "name": "stderr",
     "output_type": "stream",
     "text": [
      "\u001b[1m\u001b[22m`summarise()` has grouped output by 'species'. You can override using the `.groups` argument.\n"
     ]
    },
    {
     "data": {
      "text/html": [
       "<table class=\"dataframe\">\n",
       "<caption>A grouped_df: 5 × 4</caption>\n",
       "<thead>\n",
       "\t<tr><th scope=col>species</th><th scope=col>island</th><th scope=col>max_bl</th><th scope=col>mean_bl</th></tr>\n",
       "\t<tr><th scope=col>&lt;fct&gt;</th><th scope=col>&lt;fct&gt;</th><th scope=col>&lt;dbl&gt;</th><th scope=col>&lt;dbl&gt;</th></tr>\n",
       "</thead>\n",
       "<tbody>\n",
       "\t<tr><td>Adelie   </td><td>Biscoe   </td><td>45.6</td><td>38.97500</td></tr>\n",
       "\t<tr><td>Adelie   </td><td>Dream    </td><td>44.1</td><td>38.52000</td></tr>\n",
       "\t<tr><td>Adelie   </td><td>Torgersen</td><td>46.0</td><td>39.03830</td></tr>\n",
       "\t<tr><td>Chinstrap</td><td>Dream    </td><td>58.0</td><td>48.83382</td></tr>\n",
       "\t<tr><td>Gentoo   </td><td>Biscoe   </td><td>59.6</td><td>47.56807</td></tr>\n",
       "</tbody>\n",
       "</table>\n"
      ],
      "text/latex": [
       "A grouped\\_df: 5 × 4\n",
       "\\begin{tabular}{llll}\n",
       " species & island & max\\_bl & mean\\_bl\\\\\n",
       " <fct> & <fct> & <dbl> & <dbl>\\\\\n",
       "\\hline\n",
       "\t Adelie    & Biscoe    & 45.6 & 38.97500\\\\\n",
       "\t Adelie    & Dream     & 44.1 & 38.52000\\\\\n",
       "\t Adelie    & Torgersen & 46.0 & 39.03830\\\\\n",
       "\t Chinstrap & Dream     & 58.0 & 48.83382\\\\\n",
       "\t Gentoo    & Biscoe    & 59.6 & 47.56807\\\\\n",
       "\\end{tabular}\n"
      ],
      "text/markdown": [
       "\n",
       "A grouped_df: 5 × 4\n",
       "\n",
       "| species &lt;fct&gt; | island &lt;fct&gt; | max_bl &lt;dbl&gt; | mean_bl &lt;dbl&gt; |\n",
       "|---|---|---|---|\n",
       "| Adelie    | Biscoe    | 45.6 | 38.97500 |\n",
       "| Adelie    | Dream     | 44.1 | 38.52000 |\n",
       "| Adelie    | Torgersen | 46.0 | 39.03830 |\n",
       "| Chinstrap | Dream     | 58.0 | 48.83382 |\n",
       "| Gentoo    | Biscoe    | 59.6 | 47.56807 |\n",
       "\n"
      ],
      "text/plain": [
       "  species   island    max_bl mean_bl \n",
       "1 Adelie    Biscoe    45.6   38.97500\n",
       "2 Adelie    Dream     44.1   38.52000\n",
       "3 Adelie    Torgersen 46.0   39.03830\n",
       "4 Chinstrap Dream     58.0   48.83382\n",
       "5 Gentoo    Biscoe    59.6   47.56807"
      ]
     },
     "metadata": {},
     "output_type": "display_data"
    }
   ],
   "source": [
    "penguins %>% group_by(species, island) %>% drop_na() %>% summarize(max_bl = max(bill_length_mm), mean_bl = mean(bill_length_mm))"
   ]
  },
  {
   "cell_type": "markdown",
   "id": "5fdbef87-a837-41e3-b00b-3f9828df5e7c",
   "metadata": {},
   "source": [
    "To filter data to only include one value from a column, then get a glimpse of the results:"
   ]
  },
  {
   "cell_type": "code",
   "execution_count": 69,
   "id": "b4b9968c-551e-4dcf-8569-c07e86bbcb83",
   "metadata": {},
   "outputs": [
    {
     "name": "stdout",
     "output_type": "stream",
     "text": [
      "Rows: 152\n",
      "Columns: 8\n",
      "$ species           \u001b[3m\u001b[90m<fct>\u001b[39m\u001b[23m Adelie, Adelie, Adelie, Adelie, Adelie, Adelie, Adel~\n",
      "$ island            \u001b[3m\u001b[90m<fct>\u001b[39m\u001b[23m Torgersen, Torgersen, Biscoe, Dream, Torgersen, Drea~\n",
      "$ bill_length_mm    \u001b[3m\u001b[90m<dbl>\u001b[39m\u001b[23m 46.0, 45.8, 45.6, 44.1, 44.1, 43.2, 43.2, 43.1, 42.9~\n",
      "$ bill_depth_mm     \u001b[3m\u001b[90m<dbl>\u001b[39m\u001b[23m 21.5, 18.9, 20.3, 19.7, 18.0, 18.5, 19.0, 19.2, 17.6~\n",
      "$ flipper_length_mm \u001b[3m\u001b[90m<int>\u001b[39m\u001b[23m 194, 197, 191, 196, 210, 192, 197, 197, 196, 195, 19~\n",
      "$ body_mass_g       \u001b[3m\u001b[90m<int>\u001b[39m\u001b[23m 4200, 4150, 4600, 4400, 4000, 4100, 4775, 3500, 4700~\n",
      "$ sex               \u001b[3m\u001b[90m<fct>\u001b[39m\u001b[23m male, male, male, male, male, male, male, male, male~\n",
      "$ year              \u001b[3m\u001b[90m<int>\u001b[39m\u001b[23m 2007, 2008, 2009, 2007, 2009, 2008, 2009, 2009, 2008~\n"
     ]
    }
   ],
   "source": [
    "glimpse(\n",
    "    penguins %>% \n",
    "        filter(species == \"Adelie\")\n",
    ")"
   ]
  },
  {
   "cell_type": "markdown",
   "id": "de1f2ae0-a8c9-4f0e-a6ba-f35315ffcd92",
   "metadata": {
    "jp-MarkdownHeadingCollapsed": true,
    "tags": []
   },
   "source": [
    "### Transforming data"
   ]
  },
  {
   "cell_type": "markdown",
   "id": "6cdba5e2-a2b9-49c3-b1ac-90b7a03d473c",
   "metadata": {},
   "source": [
    "To combined values into vector lists, then create a data frame based on these lists:"
   ]
  },
  {
   "cell_type": "code",
   "execution_count": 70,
   "id": "dac1b2e2-6a14-4f15-8426-91ba347ae7b1",
   "metadata": {},
   "outputs": [
    {
     "name": "stdout",
     "output_type": "stream",
     "text": [
      "   id              name    job_title\n",
      "1   1       John Mendes Professional\n",
      "2   2       Rob Stewart   Programmer\n",
      "3   3 Rachel Abrahamson   Management\n",
      "4   4   Christy Hickman     Clerical\n",
      "5   5    Johnson Harper    Developer\n",
      "6   6    Candace Miller   Programmer\n",
      "7   7     Carlson Landy   Management\n",
      "8   8      Pansy Jordan     Clerical\n",
      "9   9      Darius Berry    Developer\n",
      "10 10    Claudia Garcia   Programmer\n"
     ]
    }
   ],
   "source": [
    "id <- c(1:10)\n",
    "name <- c(\"John Mendes\", \"Rob Stewart\", \"Rachel Abrahamson\", \"Christy Hickman\", \"Johnson Harper\", \"Candace Miller\", \"Carlson Landy\", \"Pansy Jordan\", \"Darius Berry\", \"Claudia Garcia\")\n",
    "job_title <- c(\"Professional\", \"Programmer\", \"Management\", \"Clerical\", \"Developer\", \"Programmer\", \"Management\", \"Clerical\", \"Developer\", \"Programmer\")\n",
    "employee <- data.frame(id, name, job_title)\n",
    "print(employee)"
   ]
  },
  {
   "cell_type": "markdown",
   "id": "a54fb689-3149-4987-99df-f09abd810f5f",
   "metadata": {},
   "source": [
    "To separate the employee names into first and last name:\n",
    "separate(dataframe, column name, into what columns, how to separate)"
   ]
  },
  {
   "cell_type": "code",
   "execution_count": 71,
   "id": "da5eec9c-42fa-4b4d-bbe7-36f0f8b638bd",
   "metadata": {},
   "outputs": [
    {
     "data": {
      "text/html": [
       "<table class=\"dataframe\">\n",
       "<caption>A data.frame: 10 × 4</caption>\n",
       "<thead>\n",
       "\t<tr><th scope=col>id</th><th scope=col>first name</th><th scope=col>last name</th><th scope=col>job_title</th></tr>\n",
       "\t<tr><th scope=col>&lt;int&gt;</th><th scope=col>&lt;chr&gt;</th><th scope=col>&lt;chr&gt;</th><th scope=col>&lt;chr&gt;</th></tr>\n",
       "</thead>\n",
       "<tbody>\n",
       "\t<tr><td> 1</td><td>John   </td><td>Mendes    </td><td>Professional</td></tr>\n",
       "\t<tr><td> 2</td><td>Rob    </td><td>Stewart   </td><td>Programmer  </td></tr>\n",
       "\t<tr><td> 3</td><td>Rachel </td><td>Abrahamson</td><td>Management  </td></tr>\n",
       "\t<tr><td> 4</td><td>Christy</td><td>Hickman   </td><td>Clerical    </td></tr>\n",
       "\t<tr><td> 5</td><td>Johnson</td><td>Harper    </td><td>Developer   </td></tr>\n",
       "\t<tr><td> 6</td><td>Candace</td><td>Miller    </td><td>Programmer  </td></tr>\n",
       "\t<tr><td> 7</td><td>Carlson</td><td>Landy     </td><td>Management  </td></tr>\n",
       "\t<tr><td> 8</td><td>Pansy  </td><td>Jordan    </td><td>Clerical    </td></tr>\n",
       "\t<tr><td> 9</td><td>Darius </td><td>Berry     </td><td>Developer   </td></tr>\n",
       "\t<tr><td>10</td><td>Claudia</td><td>Garcia    </td><td>Programmer  </td></tr>\n",
       "</tbody>\n",
       "</table>\n"
      ],
      "text/latex": [
       "A data.frame: 10 × 4\n",
       "\\begin{tabular}{llll}\n",
       " id & first name & last name & job\\_title\\\\\n",
       " <int> & <chr> & <chr> & <chr>\\\\\n",
       "\\hline\n",
       "\t  1 & John    & Mendes     & Professional\\\\\n",
       "\t  2 & Rob     & Stewart    & Programmer  \\\\\n",
       "\t  3 & Rachel  & Abrahamson & Management  \\\\\n",
       "\t  4 & Christy & Hickman    & Clerical    \\\\\n",
       "\t  5 & Johnson & Harper     & Developer   \\\\\n",
       "\t  6 & Candace & Miller     & Programmer  \\\\\n",
       "\t  7 & Carlson & Landy      & Management  \\\\\n",
       "\t  8 & Pansy   & Jordan     & Clerical    \\\\\n",
       "\t  9 & Darius  & Berry      & Developer   \\\\\n",
       "\t 10 & Claudia & Garcia     & Programmer  \\\\\n",
       "\\end{tabular}\n"
      ],
      "text/markdown": [
       "\n",
       "A data.frame: 10 × 4\n",
       "\n",
       "| id &lt;int&gt; | first name &lt;chr&gt; | last name &lt;chr&gt; | job_title &lt;chr&gt; |\n",
       "|---|---|---|---|\n",
       "|  1 | John    | Mendes     | Professional |\n",
       "|  2 | Rob     | Stewart    | Programmer   |\n",
       "|  3 | Rachel  | Abrahamson | Management   |\n",
       "|  4 | Christy | Hickman    | Clerical     |\n",
       "|  5 | Johnson | Harper     | Developer    |\n",
       "|  6 | Candace | Miller     | Programmer   |\n",
       "|  7 | Carlson | Landy      | Management   |\n",
       "|  8 | Pansy   | Jordan     | Clerical     |\n",
       "|  9 | Darius  | Berry      | Developer    |\n",
       "| 10 | Claudia | Garcia     | Programmer   |\n",
       "\n"
      ],
      "text/plain": [
       "   id first name last name  job_title   \n",
       "1   1 John       Mendes     Professional\n",
       "2   2 Rob        Stewart    Programmer  \n",
       "3   3 Rachel     Abrahamson Management  \n",
       "4   4 Christy    Hickman    Clerical    \n",
       "5   5 Johnson    Harper     Developer   \n",
       "6   6 Candace    Miller     Programmer  \n",
       "7   7 Carlson    Landy      Management  \n",
       "8   8 Pansy      Jordan     Clerical    \n",
       "9   9 Darius     Berry      Developer   \n",
       "10 10 Claudia    Garcia     Programmer  "
      ]
     },
     "metadata": {},
     "output_type": "display_data"
    }
   ],
   "source": [
    "separate(employee, name, into=c('first name','last name'),sep=' ')"
   ]
  },
  {
   "cell_type": "markdown",
   "id": "90166cc7-7810-4d47-8510-ac023bd99300",
   "metadata": {},
   "source": [
    "To combine multiple columns into one:\n",
    "unite(dataframe, column name, newcolumn1, newcolumn2, how to separate)"
   ]
  },
  {
   "cell_type": "code",
   "execution_count": null,
   "id": "5c1d4e78-8353-4f85-a856-0d587881cce4",
   "metadata": {},
   "outputs": [],
   "source": [
    "unite(employee,'name', first_name, last_name,sep=' ')"
   ]
  },
  {
   "cell_type": "markdown",
   "id": "ea3da92e-8355-453d-9a52-89ed7e162a03",
   "metadata": {},
   "source": [
    "To add new columns with calculations, then get summary data:"
   ]
  },
  {
   "cell_type": "code",
   "execution_count": 117,
   "id": "04fbf1b1-f078-41d9-830c-4ab3ab1b06fd",
   "metadata": {},
   "outputs": [
    {
     "data": {
      "text/html": [
       "<table class=\"dataframe\">\n",
       "<caption>A tibble: 3 × 3</caption>\n",
       "<thead>\n",
       "\t<tr><th scope=col>species</th><th scope=col>body_mass_kg_avg</th><th scope=col>avg_flipper_length_m</th></tr>\n",
       "\t<tr><th scope=col>&lt;fct&gt;</th><th scope=col>&lt;dbl&gt;</th><th scope=col>&lt;dbl&gt;</th></tr>\n",
       "</thead>\n",
       "<tbody>\n",
       "\t<tr><td>Adelie   </td><td>3.706164</td><td>0.1901027</td></tr>\n",
       "\t<tr><td>Chinstrap</td><td>3.733088</td><td>0.1958235</td></tr>\n",
       "\t<tr><td>Gentoo   </td><td>5.092437</td><td>0.2172353</td></tr>\n",
       "</tbody>\n",
       "</table>\n"
      ],
      "text/latex": [
       "A tibble: 3 × 3\n",
       "\\begin{tabular}{lll}\n",
       " species & body\\_mass\\_kg\\_avg & avg\\_flipper\\_length\\_m\\\\\n",
       " <fct> & <dbl> & <dbl>\\\\\n",
       "\\hline\n",
       "\t Adelie    & 3.706164 & 0.1901027\\\\\n",
       "\t Chinstrap & 3.733088 & 0.1958235\\\\\n",
       "\t Gentoo    & 5.092437 & 0.2172353\\\\\n",
       "\\end{tabular}\n"
      ],
      "text/markdown": [
       "\n",
       "A tibble: 3 × 3\n",
       "\n",
       "| species &lt;fct&gt; | body_mass_kg_avg &lt;dbl&gt; | avg_flipper_length_m &lt;dbl&gt; |\n",
       "|---|---|---|\n",
       "| Adelie    | 3.706164 | 0.1901027 |\n",
       "| Chinstrap | 3.733088 | 0.1958235 |\n",
       "| Gentoo    | 5.092437 | 0.2172353 |\n",
       "\n"
      ],
      "text/plain": [
       "  species   body_mass_kg_avg avg_flipper_length_m\n",
       "1 Adelie    3.706164         0.1901027           \n",
       "2 Chinstrap 3.733088         0.1958235           \n",
       "3 Gentoo    5.092437         0.2172353           "
      ]
     },
     "metadata": {},
     "output_type": "display_data"
    }
   ],
   "source": [
    "penguins %>%\n",
    "    mutate(body_mass_kg=body_mass_g/1000, flipper_length_m=flipper_length_mm/1000) %>%\n",
    "        drop_na() %>%\n",
    "            group_by(species) %>%\n",
    "                summarize(body_mass_kg_avg = mean(body_mass_kg), avg_flipper_length_m = mean(flipper_length_m))"
   ]
  },
  {
   "cell_type": "markdown",
   "id": "31163936-3846-431f-8dc4-9833fa021860",
   "metadata": {
    "tags": []
   },
   "source": [
    "## Week 3 - Take a closer look at the data"
   ]
  },
  {
   "cell_type": "markdown",
   "id": "841e5fdd-4a0d-4dd3-88fb-ecb72e451642",
   "metadata": {
    "jp-MarkdownHeadingCollapsed": true,
    "tags": []
   },
   "source": [
    "### Same data, different outcome"
   ]
  },
  {
   "cell_type": "markdown",
   "id": "56f2b51d-28fd-4cf5-b4bb-f3def1880bbd",
   "metadata": {},
   "source": [
    "To installed the Tmisc package, activate it and add the \"quartet\" data:"
   ]
  },
  {
   "cell_type": "code",
   "execution_count": null,
   "id": "100763ad-fb2b-405b-a86d-221b9eed68d9",
   "metadata": {
    "tags": []
   },
   "outputs": [],
   "source": [
    "install.packages(\"Tmisc\")\n",
    "library(Tmisc)\n",
    "data(quartet)"
   ]
  },
  {
   "cell_type": "markdown",
   "id": "0e806594-056c-4b77-8644-c98a29712851",
   "metadata": {},
   "source": [
    "To glimpse the \"quartet\" data: "
   ]
  },
  {
   "cell_type": "code",
   "execution_count": 125,
   "id": "5e86fc30-8deb-4961-bbd1-f845c5b134fd",
   "metadata": {},
   "outputs": [
    {
     "name": "stdout",
     "output_type": "stream",
     "text": [
      "Rows: 44\n",
      "Columns: 3\n",
      "$ set \u001b[3m\u001b[90m<fct>\u001b[39m\u001b[23m I, I, I, I, I, I, I, I, I, I, I, II, II, II, II, II, II, II, II, I~\n",
      "$ x   \u001b[3m\u001b[90m<int>\u001b[39m\u001b[23m 10, 8, 13, 9, 11, 14, 6, 4, 12, 7, 5, 10, 8, 13, 9, 11, 14, 6, 4, ~\n",
      "$ y   \u001b[3m\u001b[90m<dbl>\u001b[39m\u001b[23m 8.04, 6.95, 7.58, 8.81, 8.33, 9.96, 7.24, 4.26, 10.84, 4.82, 5.68,~\n"
     ]
    }
   ],
   "source": [
    "glimpse(quartet)"
   ]
  },
  {
   "cell_type": "markdown",
   "id": "d35774ef-be8b-4103-b389-b869bd55dd72",
   "metadata": {},
   "source": [
    "To summarise the data \"sets\":"
   ]
  },
  {
   "cell_type": "code",
   "execution_count": 127,
   "id": "bd154fa0-a472-4237-92dc-e336122b658d",
   "metadata": {},
   "outputs": [
    {
     "data": {
      "text/html": [
       "<table class=\"dataframe\">\n",
       "<caption>A tibble: 4 × 6</caption>\n",
       "<thead>\n",
       "\t<tr><th scope=col>set</th><th scope=col>mean(x)</th><th scope=col>sd(x)</th><th scope=col>mean(y)</th><th scope=col>sd(y)</th><th scope=col>cor(x, y)</th></tr>\n",
       "\t<tr><th scope=col>&lt;fct&gt;</th><th scope=col>&lt;dbl&gt;</th><th scope=col>&lt;dbl&gt;</th><th scope=col>&lt;dbl&gt;</th><th scope=col>&lt;dbl&gt;</th><th scope=col>&lt;dbl&gt;</th></tr>\n",
       "</thead>\n",
       "<tbody>\n",
       "\t<tr><td>I  </td><td>9</td><td>3.316625</td><td>7.500909</td><td>2.031568</td><td>0.8164205</td></tr>\n",
       "\t<tr><td>II </td><td>9</td><td>3.316625</td><td>7.500909</td><td>2.031657</td><td>0.8162365</td></tr>\n",
       "\t<tr><td>III</td><td>9</td><td>3.316625</td><td>7.500000</td><td>2.030424</td><td>0.8162867</td></tr>\n",
       "\t<tr><td>IV </td><td>9</td><td>3.316625</td><td>7.500909</td><td>2.030579</td><td>0.8165214</td></tr>\n",
       "</tbody>\n",
       "</table>\n"
      ],
      "text/latex": [
       "A tibble: 4 × 6\n",
       "\\begin{tabular}{llllll}\n",
       " set & mean(x) & sd(x) & mean(y) & sd(y) & cor(x, y)\\\\\n",
       " <fct> & <dbl> & <dbl> & <dbl> & <dbl> & <dbl>\\\\\n",
       "\\hline\n",
       "\t I   & 9 & 3.316625 & 7.500909 & 2.031568 & 0.8164205\\\\\n",
       "\t II  & 9 & 3.316625 & 7.500909 & 2.031657 & 0.8162365\\\\\n",
       "\t III & 9 & 3.316625 & 7.500000 & 2.030424 & 0.8162867\\\\\n",
       "\t IV  & 9 & 3.316625 & 7.500909 & 2.030579 & 0.8165214\\\\\n",
       "\\end{tabular}\n"
      ],
      "text/markdown": [
       "\n",
       "A tibble: 4 × 6\n",
       "\n",
       "| set &lt;fct&gt; | mean(x) &lt;dbl&gt; | sd(x) &lt;dbl&gt; | mean(y) &lt;dbl&gt; | sd(y) &lt;dbl&gt; | cor(x, y) &lt;dbl&gt; |\n",
       "|---|---|---|---|---|---|\n",
       "| I   | 9 | 3.316625 | 7.500909 | 2.031568 | 0.8164205 |\n",
       "| II  | 9 | 3.316625 | 7.500909 | 2.031657 | 0.8162365 |\n",
       "| III | 9 | 3.316625 | 7.500000 | 2.030424 | 0.8162867 |\n",
       "| IV  | 9 | 3.316625 | 7.500909 | 2.030579 | 0.8165214 |\n",
       "\n"
      ],
      "text/plain": [
       "  set mean(x) sd(x)    mean(y)  sd(y)    cor(x, y)\n",
       "1 I   9       3.316625 7.500909 2.031568 0.8164205\n",
       "2 II  9       3.316625 7.500909 2.031657 0.8162365\n",
       "3 III 9       3.316625 7.500000 2.030424 0.8162867\n",
       "4 IV  9       3.316625 7.500909 2.030579 0.8165214"
      ]
     },
     "metadata": {},
     "output_type": "display_data"
    }
   ],
   "source": [
    "quartet %>%\n",
    "    group_by(set) %>%\n",
    "        summarize(mean(x), sd(x), mean(y), sd(y), cor(x,y))"
   ]
  },
  {
   "cell_type": "markdown",
   "id": "69f61f91-423b-49a1-93fe-2618bf9a9b7b",
   "metadata": {},
   "source": [
    "To plot the set data:\n",
    "ggplot(dataframe, aes(x_variable,y_variable))\n",
    "aes = aesthetic mappings\n",
    "geom_point to create a scatter plot\n",
    "geom_smooth to add a trend line\n",
    "method = smoothing function\n",
    "se = confidence interval visible\n",
    "facet_wrap to make a ribbon of panels based on values in a variable (a different graph for each value of \"set\")"
   ]
  },
  {
   "cell_type": "code",
   "execution_count": 145,
   "id": "aaacb324-3baa-4730-ae1e-dffa661025fc",
   "metadata": {},
   "outputs": [
    {
     "name": "stderr",
     "output_type": "stream",
     "text": [
      "`geom_smooth()` using formula 'y ~ x'\n",
      "\n"
     ]
    },
    {
     "data": {
      "image/png": "[encoded data removed]",
      "text/plain": [
       "plot without title"
      ]
     },
     "metadata": {
      "image/png": {
       "height": 420,
       "width": 420
      }
     },
     "output_type": "display_data"
    }
   ],
   "source": [
    "ggplot(quartet,aes(x,y)) + geom_point() + geom_smooth(method=lm,se=FALSE) + facet_wrap(~set)"
   ]
  },
  {
   "cell_type": "markdown",
   "id": "319ab01a-d11c-43d5-add4-d41aff2414f7",
   "metadata": {},
   "source": [
    "Installing and activating the \"datasauRus\" package:"
   ]
  },
  {
   "cell_type": "code",
   "execution_count": null,
   "id": "8a1503db-aeb8-48e7-99cd-b8af30f6c846",
   "metadata": {},
   "outputs": [],
   "source": [
    "install.packages(\"datasauRus\")\n",
    "library(\"datasauRus\")"
   ]
  },
  {
   "cell_type": "markdown",
   "id": "2665ad66-a004-4549-8ac2-1127fb38bd9b",
   "metadata": {},
   "source": [
    "To plot the datasaurus_dozen data set:\n",
    "aes(colour=dataset) means a different colour for each set\n",
    "theme_void() means to have an empty theme, i.e. no lines or labels\n",
    "theme(legend.position = \"none\") means to not show the legend for each colour/dataset\n",
    "facet_wrap(~dataset, ncol=3) to make a ribbon of graphs based on each dataset, in 3 columns"
   ]
  },
  {
   "cell_type": "code",
   "execution_count": 159,
   "id": "8abe5777-3c32-43a5-a92c-9f575db3af5b",
   "metadata": {},
   "outputs": [
    {
     "data": {
      "image/png": "[encoded data removed]",
      "text/plain": [
       "plot without title"
      ]
     },
     "metadata": {
      "image/png": {
       "height": 420,
       "width": 420
      }
     },
     "output_type": "display_data"
    }
   ],
   "source": [
    "ggplot(datasaurus_dozen, aes(x=x,y=y,colour=dataset)) + geom_point() + theme_void() + theme(legend.position = \"none\") + facet_wrap(~dataset, ncol=3)"
   ]
  },
  {
   "cell_type": "markdown",
   "id": "b47414df-6cb0-4ffc-91a8-6f67a1986633",
   "metadata": {
    "jp-MarkdownHeadingCollapsed": true,
    "tags": []
   },
   "source": [
    "### The bias function"
   ]
  },
  {
   "cell_type": "markdown",
   "id": "7e6944b4-877b-4d13-9252-a3deecdb30ff",
   "metadata": {},
   "source": [
    "To install and activate the \"SimDesign\" package:"
   ]
  },
  {
   "cell_type": "code",
   "execution_count": null,
   "id": "70b87822-fe3d-4892-a303-868caaa7e0f0",
   "metadata": {
    "tags": []
   },
   "outputs": [],
   "source": [
    "install.packages(\"SimDesign\")\n",
    "library(\"SimDesign\")"
   ]
  },
  {
   "cell_type": "markdown",
   "id": "b4997527-f898-4edc-89b1-f91614a70518",
   "metadata": {},
   "source": [
    "To combine values into vector lists, then run a bias function to compare:"
   ]
  },
  {
   "cell_type": "code",
   "execution_count": 163,
   "id": "554b3a4f-6606-4dad-a387-04b529d03963",
   "metadata": {},
   "outputs": [
    {
     "data": {
      "text/html": [
       "0.716666666666666"
      ],
      "text/latex": [
       "0.716666666666666"
      ],
      "text/markdown": [
       "0.716666666666666"
      ],
      "text/plain": [
       "[1] 0.7166667"
      ]
     },
     "metadata": {},
     "output_type": "display_data"
    }
   ],
   "source": [
    "actual_temp <- c(68.3, 70, 72.4, 71, 67, 70)\n",
    "predicted_temp <- c(67.9, 69, 71.5, 70, 67, 69)\n",
    "bias(actual_temp, predicted_temp)"
   ]
  },
  {
   "cell_type": "markdown",
   "id": "6920bb97-adb1-43f0-8c09-f5efbcdaf200",
   "metadata": {},
   "source": [
    "The bias function compares the actual outcome and the predicted outcome of the data to determine the average amount the actual outcome is greater than the predicted outcome. An unbiased model should be close to zero. "
   ]
  },
  {
   "cell_type": "code",
   "execution_count": 164,
   "id": "a2f1e96d-cd50-40b5-8058-3dcecf8cb202",
   "metadata": {},
   "outputs": [
    {
     "data": {
      "text/html": [
       "-35"
      ],
      "text/latex": [
       "-35"
      ],
      "text/markdown": [
       "-35"
      ],
      "text/plain": [
       "[1] -35"
      ]
     },
     "metadata": {},
     "output_type": "display_data"
    }
   ],
   "source": [
    "actual_sales <- c(150, 203, 137, 247, 116, 287)\n",
    "predicted_sales <- c(200, 300, 150, 250, 150, 300)\n",
    "bias(actual_sales, predicted_sales)"
   ]
  }
 ],
 "metadata": {
  "kernelspec": {
   "display_name": "R",
   "language": "R",
   "name": "ir"
  },
  "language_info": {
   "codemirror_mode": "r",
   "file_extension": ".r",
   "mimetype": "text/x-r-source",
   "name": "R",
   "pygments_lexer": "r",
   "version": "4.1.3"
  }
 },
 "nbformat": 4,
 "nbformat_minor": 5
}
